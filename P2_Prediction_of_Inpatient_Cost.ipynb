{
  "nbformat": 4,
  "nbformat_minor": 0,
  "metadata": {
    "colab": {
      "provenance": [],
      "toc_visible": true,
      "include_colab_link": true
    },
    "kernelspec": {
      "name": "python3",
      "display_name": "Python 3"
    },
    "language_info": {
      "name": "python"
    }
  },
  "cells": [
    {
      "cell_type": "markdown",
      "metadata": {
        "id": "view-in-github",
        "colab_type": "text"
      },
      "source": [
        "<a href=\"https://colab.research.google.com/github/AngieChong/Research-Paper/blob/main/P2_Prediction_of_Inpatient_Cost.ipynb\" target=\"_parent\"><img src=\"https://colab.research.google.com/assets/colab-badge.svg\" alt=\"Open In Colab\"/></a>"
      ]
    },
    {
      "cell_type": "markdown",
      "source": [
        "## DATASETS - Inpatient"
      ],
      "metadata": {
        "id": "pWSRgpaZgnmK"
      }
    },
    {
      "cell_type": "code",
      "source": [
        "from google.colab import files\n",
        "\n",
        "uploaded = files.upload()\n",
        "\n",
        "for fn in uploaded.keys():\n",
        "  print('User uploaded file \"{name}\" with length {length} bytes'.format(\n",
        "      name=fn, length=len(uploaded[fn])))"
      ],
      "metadata": {
        "colab": {
          "base_uri": "https://localhost:8080/",
          "height": 90
        },
        "id": "oPkggjQUYc9S",
        "outputId": "87671b47-b24d-4f3c-d6c3-8eac8fb717f9"
      },
      "execution_count": null,
      "outputs": [
        {
          "output_type": "display_data",
          "data": {
            "text/plain": [
              "<IPython.core.display.HTML object>"
            ],
            "text/html": [
              "\n",
              "     <input type=\"file\" id=\"files-eb84fca0-ac85-4d38-87a6-2876a104bc1b\" name=\"files[]\" multiple disabled\n",
              "        style=\"border:none\" />\n",
              "     <output id=\"result-eb84fca0-ac85-4d38-87a6-2876a104bc1b\">\n",
              "      Upload widget is only available when the cell has been executed in the\n",
              "      current browser session. Please rerun this cell to enable.\n",
              "      </output>\n",
              "      <script>// Copyright 2017 Google LLC\n",
              "//\n",
              "// Licensed under the Apache License, Version 2.0 (the \"License\");\n",
              "// you may not use this file except in compliance with the License.\n",
              "// You may obtain a copy of the License at\n",
              "//\n",
              "//      http://www.apache.org/licenses/LICENSE-2.0\n",
              "//\n",
              "// Unless required by applicable law or agreed to in writing, software\n",
              "// distributed under the License is distributed on an \"AS IS\" BASIS,\n",
              "// WITHOUT WARRANTIES OR CONDITIONS OF ANY KIND, either express or implied.\n",
              "// See the License for the specific language governing permissions and\n",
              "// limitations under the License.\n",
              "\n",
              "/**\n",
              " * @fileoverview Helpers for google.colab Python module.\n",
              " */\n",
              "(function(scope) {\n",
              "function span(text, styleAttributes = {}) {\n",
              "  const element = document.createElement('span');\n",
              "  element.textContent = text;\n",
              "  for (const key of Object.keys(styleAttributes)) {\n",
              "    element.style[key] = styleAttributes[key];\n",
              "  }\n",
              "  return element;\n",
              "}\n",
              "\n",
              "// Max number of bytes which will be uploaded at a time.\n",
              "const MAX_PAYLOAD_SIZE = 100 * 1024;\n",
              "\n",
              "function _uploadFiles(inputId, outputId) {\n",
              "  const steps = uploadFilesStep(inputId, outputId);\n",
              "  const outputElement = document.getElementById(outputId);\n",
              "  // Cache steps on the outputElement to make it available for the next call\n",
              "  // to uploadFilesContinue from Python.\n",
              "  outputElement.steps = steps;\n",
              "\n",
              "  return _uploadFilesContinue(outputId);\n",
              "}\n",
              "\n",
              "// This is roughly an async generator (not supported in the browser yet),\n",
              "// where there are multiple asynchronous steps and the Python side is going\n",
              "// to poll for completion of each step.\n",
              "// This uses a Promise to block the python side on completion of each step,\n",
              "// then passes the result of the previous step as the input to the next step.\n",
              "function _uploadFilesContinue(outputId) {\n",
              "  const outputElement = document.getElementById(outputId);\n",
              "  const steps = outputElement.steps;\n",
              "\n",
              "  const next = steps.next(outputElement.lastPromiseValue);\n",
              "  return Promise.resolve(next.value.promise).then((value) => {\n",
              "    // Cache the last promise value to make it available to the next\n",
              "    // step of the generator.\n",
              "    outputElement.lastPromiseValue = value;\n",
              "    return next.value.response;\n",
              "  });\n",
              "}\n",
              "\n",
              "/**\n",
              " * Generator function which is called between each async step of the upload\n",
              " * process.\n",
              " * @param {string} inputId Element ID of the input file picker element.\n",
              " * @param {string} outputId Element ID of the output display.\n",
              " * @return {!Iterable<!Object>} Iterable of next steps.\n",
              " */\n",
              "function* uploadFilesStep(inputId, outputId) {\n",
              "  const inputElement = document.getElementById(inputId);\n",
              "  inputElement.disabled = false;\n",
              "\n",
              "  const outputElement = document.getElementById(outputId);\n",
              "  outputElement.innerHTML = '';\n",
              "\n",
              "  const pickedPromise = new Promise((resolve) => {\n",
              "    inputElement.addEventListener('change', (e) => {\n",
              "      resolve(e.target.files);\n",
              "    });\n",
              "  });\n",
              "\n",
              "  const cancel = document.createElement('button');\n",
              "  inputElement.parentElement.appendChild(cancel);\n",
              "  cancel.textContent = 'Cancel upload';\n",
              "  const cancelPromise = new Promise((resolve) => {\n",
              "    cancel.onclick = () => {\n",
              "      resolve(null);\n",
              "    };\n",
              "  });\n",
              "\n",
              "  // Wait for the user to pick the files.\n",
              "  const files = yield {\n",
              "    promise: Promise.race([pickedPromise, cancelPromise]),\n",
              "    response: {\n",
              "      action: 'starting',\n",
              "    }\n",
              "  };\n",
              "\n",
              "  cancel.remove();\n",
              "\n",
              "  // Disable the input element since further picks are not allowed.\n",
              "  inputElement.disabled = true;\n",
              "\n",
              "  if (!files) {\n",
              "    return {\n",
              "      response: {\n",
              "        action: 'complete',\n",
              "      }\n",
              "    };\n",
              "  }\n",
              "\n",
              "  for (const file of files) {\n",
              "    const li = document.createElement('li');\n",
              "    li.append(span(file.name, {fontWeight: 'bold'}));\n",
              "    li.append(span(\n",
              "        `(${file.type || 'n/a'}) - ${file.size} bytes, ` +\n",
              "        `last modified: ${\n",
              "            file.lastModifiedDate ? file.lastModifiedDate.toLocaleDateString() :\n",
              "                                    'n/a'} - `));\n",
              "    const percent = span('0% done');\n",
              "    li.appendChild(percent);\n",
              "\n",
              "    outputElement.appendChild(li);\n",
              "\n",
              "    const fileDataPromise = new Promise((resolve) => {\n",
              "      const reader = new FileReader();\n",
              "      reader.onload = (e) => {\n",
              "        resolve(e.target.result);\n",
              "      };\n",
              "      reader.readAsArrayBuffer(file);\n",
              "    });\n",
              "    // Wait for the data to be ready.\n",
              "    let fileData = yield {\n",
              "      promise: fileDataPromise,\n",
              "      response: {\n",
              "        action: 'continue',\n",
              "      }\n",
              "    };\n",
              "\n",
              "    // Use a chunked sending to avoid message size limits. See b/62115660.\n",
              "    let position = 0;\n",
              "    do {\n",
              "      const length = Math.min(fileData.byteLength - position, MAX_PAYLOAD_SIZE);\n",
              "      const chunk = new Uint8Array(fileData, position, length);\n",
              "      position += length;\n",
              "\n",
              "      const base64 = btoa(String.fromCharCode.apply(null, chunk));\n",
              "      yield {\n",
              "        response: {\n",
              "          action: 'append',\n",
              "          file: file.name,\n",
              "          data: base64,\n",
              "        },\n",
              "      };\n",
              "\n",
              "      let percentDone = fileData.byteLength === 0 ?\n",
              "          100 :\n",
              "          Math.round((position / fileData.byteLength) * 100);\n",
              "      percent.textContent = `${percentDone}% done`;\n",
              "\n",
              "    } while (position < fileData.byteLength);\n",
              "  }\n",
              "\n",
              "  // All done.\n",
              "  yield {\n",
              "    response: {\n",
              "      action: 'complete',\n",
              "    }\n",
              "  };\n",
              "}\n",
              "\n",
              "scope.google = scope.google || {};\n",
              "scope.google.colab = scope.google.colab || {};\n",
              "scope.google.colab._files = {\n",
              "  _uploadFiles,\n",
              "  _uploadFilesContinue,\n",
              "};\n",
              "})(self);\n",
              "</script> "
            ]
          },
          "metadata": {}
        },
        {
          "output_type": "stream",
          "name": "stdout",
          "text": [
            "Saving Inpatient_2019-2022_amended.csv to Inpatient_2019-2022_amended.csv\n",
            "User uploaded file \"Inpatient_2019-2022_amended.csv\" with length 299409783 bytes\n"
          ]
        }
      ]
    },
    {
      "cell_type": "code",
      "source": [
        "import pandas as pd\n",
        "df = pd.read_csv(\"Inpatient_2019-2022_amended.csv\")\n",
        "df.head(5)"
      ],
      "metadata": {
        "colab": {
          "base_uri": "https://localhost:8080/",
          "height": 664
        },
        "id": "t33uRR-XhQUS",
        "outputId": "c33d3dcb-4779-4c2b-89be-c5055eaa6106"
      },
      "execution_count": null,
      "outputs": [
        {
          "output_type": "execute_result",
          "data": {
            "text/plain": [
              "                                       Corporate  ClaimType  \\\n",
              "0  HESS EXPLORATION AND PRODUCTION MALAYSIA B.V.  Inpatient   \n",
              "1  HESS EXPLORATION AND PRODUCTION MALAYSIA B.V.  Inpatient   \n",
              "2  HESS EXPLORATION AND PRODUCTION MALAYSIA B.V.  Inpatient   \n",
              "3                           MiCare Sdn Bhd (ASO)  Inpatient   \n",
              "4              CD ADVERTISING SDN BHD (60023249)  Inpatient   \n",
              "\n",
              "               ClaimNo       Date DischargeDate  MCDays  AmountIncurred  \\\n",
              "0      HESSCIP09190002  26/6/2019     28/6/2019     2.0         6626.90   \n",
              "1      HESSCIP10190003  30/6/2019      1/7/2019     1.0         3641.00   \n",
              "2      HESSCIP10190004  26/6/2019     28/6/2019     2.0          949.00   \n",
              "3          CIP03190003   6/2/2019      9/2/2019     3.0          719.95   \n",
              "4  60023249CIP02190001  31/1/2019      3/2/2019     3.0        14186.90   \n",
              "\n",
              "   AmountInsured  ExcessPaid     Status  ... PatientGender  \\\n",
              "0        5000.00      1626.9  PROCESSED  ...             F   \n",
              "1        3641.00         0.0  PROCESSED  ...             F   \n",
              "2         949.00         0.0  PROCESSED  ...             F   \n",
              "3         719.95         0.0  PROCESSED  ...             M   \n",
              "4       13941.90       245.0  PROCESSED  ...             F   \n",
              "\n",
              "                                    MedicalProviders  \\\n",
              "0                  ANDORRA WOMEN & CHILDREN HOSPITAL   \n",
              "1  OHANA SPECIALIST HOSPITAL (FORMELY KNOWN AS RA...   \n",
              "2                  ANDORRA WOMEN & CHILDREN HOSPITAL   \n",
              "3                     COLUMBIA ASIA HOSPITAL - KLANG   \n",
              "4                  KPJ DAMANSARA SPECIALIST HOSPITAL   \n",
              "\n",
              "                                           Diagnosis  \\\n",
              "0                                Outcome of delivery   \n",
              "1                                Outcome of delivery   \n",
              "2  Other specified conditions of integument speci...   \n",
              "3                          Abdominal and pelvic pain   \n",
              "4                                   UTERINE FIBROIDS   \n",
              "\n",
              "                                      DiagnosisGroup HospCharges  \\\n",
              "0  Factors influencing health status and contact ...        HIGH   \n",
              "1  Factors influencing health status and contact ...        HIGH   \n",
              "2  Certain conditions originating in the perinata...        HIGH   \n",
              "3  Symptoms, signs and abnormal clinical and labo...         LOW   \n",
              "4                                          Neoplasms        HIGH   \n",
              "\n",
              "                                Doctor ICDCode ProviderState    IsPanel  \\\n",
              "0                  KHAMSIAH BINTI MUDA     Z37      SELANGOR  Non-Panel   \n",
              "1                        KAMARIA IDRIS     Z37  KUALA LUMPUR  Non-Panel   \n",
              "2                  KHAMSIAH BINTI MUDA   P83.8      SELANGOR  Non-Panel   \n",
              "3                      ROSLIZA GHAZALI     R10      SELANGOR  Non-Panel   \n",
              "4  SUSANNA HUAM SIEW HOON ,JUDE MORGAN     D25      SELANGOR      Panel   \n",
              "\n",
              "                   IndustryField  \n",
              "0  Manufacturing Factory/Company  \n",
              "1  Manufacturing Factory/Company  \n",
              "2  Manufacturing Factory/Company  \n",
              "3    Management Services Company  \n",
              "4                    Consultancy  \n",
              "\n",
              "[5 rows x 31 columns]"
            ],
            "text/html": [
              "\n",
              "  <div id=\"df-79a73578-af78-495c-a2ae-e4929da2f509\">\n",
              "    <div class=\"colab-df-container\">\n",
              "      <div>\n",
              "<style scoped>\n",
              "    .dataframe tbody tr th:only-of-type {\n",
              "        vertical-align: middle;\n",
              "    }\n",
              "\n",
              "    .dataframe tbody tr th {\n",
              "        vertical-align: top;\n",
              "    }\n",
              "\n",
              "    .dataframe thead th {\n",
              "        text-align: right;\n",
              "    }\n",
              "</style>\n",
              "<table border=\"1\" class=\"dataframe\">\n",
              "  <thead>\n",
              "    <tr style=\"text-align: right;\">\n",
              "      <th></th>\n",
              "      <th>Corporate</th>\n",
              "      <th>ClaimType</th>\n",
              "      <th>ClaimNo</th>\n",
              "      <th>Date</th>\n",
              "      <th>DischargeDate</th>\n",
              "      <th>MCDays</th>\n",
              "      <th>AmountIncurred</th>\n",
              "      <th>AmountInsured</th>\n",
              "      <th>ExcessPaid</th>\n",
              "      <th>Status</th>\n",
              "      <th>...</th>\n",
              "      <th>PatientGender</th>\n",
              "      <th>MedicalProviders</th>\n",
              "      <th>Diagnosis</th>\n",
              "      <th>DiagnosisGroup</th>\n",
              "      <th>HospCharges</th>\n",
              "      <th>Doctor</th>\n",
              "      <th>ICDCode</th>\n",
              "      <th>ProviderState</th>\n",
              "      <th>IsPanel</th>\n",
              "      <th>IndustryField</th>\n",
              "    </tr>\n",
              "  </thead>\n",
              "  <tbody>\n",
              "    <tr>\n",
              "      <th>0</th>\n",
              "      <td>HESS EXPLORATION AND PRODUCTION MALAYSIA B.V.</td>\n",
              "      <td>Inpatient</td>\n",
              "      <td>HESSCIP09190002</td>\n",
              "      <td>26/6/2019</td>\n",
              "      <td>28/6/2019</td>\n",
              "      <td>2.0</td>\n",
              "      <td>6626.90</td>\n",
              "      <td>5000.00</td>\n",
              "      <td>1626.9</td>\n",
              "      <td>PROCESSED</td>\n",
              "      <td>...</td>\n",
              "      <td>F</td>\n",
              "      <td>ANDORRA WOMEN &amp; CHILDREN HOSPITAL</td>\n",
              "      <td>Outcome of delivery</td>\n",
              "      <td>Factors influencing health status and contact ...</td>\n",
              "      <td>HIGH</td>\n",
              "      <td>KHAMSIAH BINTI MUDA</td>\n",
              "      <td>Z37</td>\n",
              "      <td>SELANGOR</td>\n",
              "      <td>Non-Panel</td>\n",
              "      <td>Manufacturing Factory/Company</td>\n",
              "    </tr>\n",
              "    <tr>\n",
              "      <th>1</th>\n",
              "      <td>HESS EXPLORATION AND PRODUCTION MALAYSIA B.V.</td>\n",
              "      <td>Inpatient</td>\n",
              "      <td>HESSCIP10190003</td>\n",
              "      <td>30/6/2019</td>\n",
              "      <td>1/7/2019</td>\n",
              "      <td>1.0</td>\n",
              "      <td>3641.00</td>\n",
              "      <td>3641.00</td>\n",
              "      <td>0.0</td>\n",
              "      <td>PROCESSED</td>\n",
              "      <td>...</td>\n",
              "      <td>F</td>\n",
              "      <td>OHANA SPECIALIST HOSPITAL (FORMELY KNOWN AS RA...</td>\n",
              "      <td>Outcome of delivery</td>\n",
              "      <td>Factors influencing health status and contact ...</td>\n",
              "      <td>HIGH</td>\n",
              "      <td>KAMARIA IDRIS</td>\n",
              "      <td>Z37</td>\n",
              "      <td>KUALA LUMPUR</td>\n",
              "      <td>Non-Panel</td>\n",
              "      <td>Manufacturing Factory/Company</td>\n",
              "    </tr>\n",
              "    <tr>\n",
              "      <th>2</th>\n",
              "      <td>HESS EXPLORATION AND PRODUCTION MALAYSIA B.V.</td>\n",
              "      <td>Inpatient</td>\n",
              "      <td>HESSCIP10190004</td>\n",
              "      <td>26/6/2019</td>\n",
              "      <td>28/6/2019</td>\n",
              "      <td>2.0</td>\n",
              "      <td>949.00</td>\n",
              "      <td>949.00</td>\n",
              "      <td>0.0</td>\n",
              "      <td>PROCESSED</td>\n",
              "      <td>...</td>\n",
              "      <td>F</td>\n",
              "      <td>ANDORRA WOMEN &amp; CHILDREN HOSPITAL</td>\n",
              "      <td>Other specified conditions of integument speci...</td>\n",
              "      <td>Certain conditions originating in the perinata...</td>\n",
              "      <td>HIGH</td>\n",
              "      <td>KHAMSIAH BINTI MUDA</td>\n",
              "      <td>P83.8</td>\n",
              "      <td>SELANGOR</td>\n",
              "      <td>Non-Panel</td>\n",
              "      <td>Manufacturing Factory/Company</td>\n",
              "    </tr>\n",
              "    <tr>\n",
              "      <th>3</th>\n",
              "      <td>MiCare Sdn Bhd (ASO)</td>\n",
              "      <td>Inpatient</td>\n",
              "      <td>CIP03190003</td>\n",
              "      <td>6/2/2019</td>\n",
              "      <td>9/2/2019</td>\n",
              "      <td>3.0</td>\n",
              "      <td>719.95</td>\n",
              "      <td>719.95</td>\n",
              "      <td>0.0</td>\n",
              "      <td>PROCESSED</td>\n",
              "      <td>...</td>\n",
              "      <td>M</td>\n",
              "      <td>COLUMBIA ASIA HOSPITAL - KLANG</td>\n",
              "      <td>Abdominal and pelvic pain</td>\n",
              "      <td>Symptoms, signs and abnormal clinical and labo...</td>\n",
              "      <td>LOW</td>\n",
              "      <td>ROSLIZA GHAZALI</td>\n",
              "      <td>R10</td>\n",
              "      <td>SELANGOR</td>\n",
              "      <td>Non-Panel</td>\n",
              "      <td>Management Services Company</td>\n",
              "    </tr>\n",
              "    <tr>\n",
              "      <th>4</th>\n",
              "      <td>CD ADVERTISING SDN BHD (60023249)</td>\n",
              "      <td>Inpatient</td>\n",
              "      <td>60023249CIP02190001</td>\n",
              "      <td>31/1/2019</td>\n",
              "      <td>3/2/2019</td>\n",
              "      <td>3.0</td>\n",
              "      <td>14186.90</td>\n",
              "      <td>13941.90</td>\n",
              "      <td>245.0</td>\n",
              "      <td>PROCESSED</td>\n",
              "      <td>...</td>\n",
              "      <td>F</td>\n",
              "      <td>KPJ DAMANSARA SPECIALIST HOSPITAL</td>\n",
              "      <td>UTERINE FIBROIDS</td>\n",
              "      <td>Neoplasms</td>\n",
              "      <td>HIGH</td>\n",
              "      <td>SUSANNA HUAM SIEW HOON ,JUDE MORGAN</td>\n",
              "      <td>D25</td>\n",
              "      <td>SELANGOR</td>\n",
              "      <td>Panel</td>\n",
              "      <td>Consultancy</td>\n",
              "    </tr>\n",
              "  </tbody>\n",
              "</table>\n",
              "<p>5 rows × 31 columns</p>\n",
              "</div>\n",
              "      <button class=\"colab-df-convert\" onclick=\"convertToInteractive('df-79a73578-af78-495c-a2ae-e4929da2f509')\"\n",
              "              title=\"Convert this dataframe to an interactive table.\"\n",
              "              style=\"display:none;\">\n",
              "        \n",
              "  <svg xmlns=\"http://www.w3.org/2000/svg\" height=\"24px\"viewBox=\"0 0 24 24\"\n",
              "       width=\"24px\">\n",
              "    <path d=\"M0 0h24v24H0V0z\" fill=\"none\"/>\n",
              "    <path d=\"M18.56 5.44l.94 2.06.94-2.06 2.06-.94-2.06-.94-.94-2.06-.94 2.06-2.06.94zm-11 1L8.5 8.5l.94-2.06 2.06-.94-2.06-.94L8.5 2.5l-.94 2.06-2.06.94zm10 10l.94 2.06.94-2.06 2.06-.94-2.06-.94-.94-2.06-.94 2.06-2.06.94z\"/><path d=\"M17.41 7.96l-1.37-1.37c-.4-.4-.92-.59-1.43-.59-.52 0-1.04.2-1.43.59L10.3 9.45l-7.72 7.72c-.78.78-.78 2.05 0 2.83L4 21.41c.39.39.9.59 1.41.59.51 0 1.02-.2 1.41-.59l7.78-7.78 2.81-2.81c.8-.78.8-2.07 0-2.86zM5.41 20L4 18.59l7.72-7.72 1.47 1.35L5.41 20z\"/>\n",
              "  </svg>\n",
              "      </button>\n",
              "      \n",
              "  <style>\n",
              "    .colab-df-container {\n",
              "      display:flex;\n",
              "      flex-wrap:wrap;\n",
              "      gap: 12px;\n",
              "    }\n",
              "\n",
              "    .colab-df-convert {\n",
              "      background-color: #E8F0FE;\n",
              "      border: none;\n",
              "      border-radius: 50%;\n",
              "      cursor: pointer;\n",
              "      display: none;\n",
              "      fill: #1967D2;\n",
              "      height: 32px;\n",
              "      padding: 0 0 0 0;\n",
              "      width: 32px;\n",
              "    }\n",
              "\n",
              "    .colab-df-convert:hover {\n",
              "      background-color: #E2EBFA;\n",
              "      box-shadow: 0px 1px 2px rgba(60, 64, 67, 0.3), 0px 1px 3px 1px rgba(60, 64, 67, 0.15);\n",
              "      fill: #174EA6;\n",
              "    }\n",
              "\n",
              "    [theme=dark] .colab-df-convert {\n",
              "      background-color: #3B4455;\n",
              "      fill: #D2E3FC;\n",
              "    }\n",
              "\n",
              "    [theme=dark] .colab-df-convert:hover {\n",
              "      background-color: #434B5C;\n",
              "      box-shadow: 0px 1px 3px 1px rgba(0, 0, 0, 0.15);\n",
              "      filter: drop-shadow(0px 1px 2px rgba(0, 0, 0, 0.3));\n",
              "      fill: #FFFFFF;\n",
              "    }\n",
              "  </style>\n",
              "\n",
              "      <script>\n",
              "        const buttonEl =\n",
              "          document.querySelector('#df-79a73578-af78-495c-a2ae-e4929da2f509 button.colab-df-convert');\n",
              "        buttonEl.style.display =\n",
              "          google.colab.kernel.accessAllowed ? 'block' : 'none';\n",
              "\n",
              "        async function convertToInteractive(key) {\n",
              "          const element = document.querySelector('#df-79a73578-af78-495c-a2ae-e4929da2f509');\n",
              "          const dataTable =\n",
              "            await google.colab.kernel.invokeFunction('convertToInteractive',\n",
              "                                                     [key], {});\n",
              "          if (!dataTable) return;\n",
              "\n",
              "          const docLinkHtml = 'Like what you see? Visit the ' +\n",
              "            '<a target=\"_blank\" href=https://colab.research.google.com/notebooks/data_table.ipynb>data table notebook</a>'\n",
              "            + ' to learn more about interactive tables.';\n",
              "          element.innerHTML = '';\n",
              "          dataTable['output_type'] = 'display_data';\n",
              "          await google.colab.output.renderOutput(dataTable, element);\n",
              "          const docLink = document.createElement('div');\n",
              "          docLink.innerHTML = docLinkHtml;\n",
              "          element.appendChild(docLink);\n",
              "        }\n",
              "      </script>\n",
              "    </div>\n",
              "  </div>\n",
              "  "
            ]
          },
          "metadata": {},
          "execution_count": 4
        }
      ]
    },
    {
      "cell_type": "code",
      "source": [
        "print(df.columns)"
      ],
      "metadata": {
        "id": "GwsBR84vc01E",
        "colab": {
          "base_uri": "https://localhost:8080/"
        },
        "outputId": "654a8425-afc1-4e06-eb5f-012c4eb968fa"
      },
      "execution_count": null,
      "outputs": [
        {
          "output_type": "stream",
          "name": "stdout",
          "text": [
            "Index(['Corporate', 'ClaimType', 'ClaimNo', 'Date', 'DischargeDate', 'MCDays',\n",
            "       'AmountIncurred', 'AmountInsured', 'ExcessPaid', 'Status',\n",
            "       'TypeOfClaims', 'TotalVisit', 'IsSurgical', 'IsLTM', 'IsMultipleDiag',\n",
            "       'BenefitPlan', 'EmployeeID', 'PatientID', 'Relationship', 'PatientDOB',\n",
            "       'AgeBand', 'PatientGender', 'MedicalProviders', 'Diagnosis',\n",
            "       'DiagnosisGroup', 'HospCharges', 'Doctor', 'ICDCode', 'ProviderState',\n",
            "       'IsPanel', 'IndustryField'],\n",
            "      dtype='object')\n"
          ]
        }
      ]
    },
    {
      "cell_type": "code",
      "source": [
        "## Categorical Variables\n",
        "C = (df.dtypes == 'object')\n",
        "CategoricalVariables = list(C[C].index)\n",
        "CategoricalVariables"
      ],
      "metadata": {
        "id": "1VJ0qpCGd-SY",
        "outputId": "08a45266-1965-4026-9f0f-36d2fc509283",
        "colab": {
          "base_uri": "https://localhost:8080/"
        }
      },
      "execution_count": null,
      "outputs": [
        {
          "output_type": "execute_result",
          "data": {
            "text/plain": [
              "['Corporate',\n",
              " 'ClaimType',\n",
              " 'ClaimNo',\n",
              " 'Date',\n",
              " 'DischargeDate',\n",
              " 'Status',\n",
              " 'TypeOfClaims',\n",
              " 'IsSurgical',\n",
              " 'IsLTM',\n",
              " 'IsMultipleDiag',\n",
              " 'BenefitPlan',\n",
              " 'EmployeeID',\n",
              " 'PatientID',\n",
              " 'Relationship',\n",
              " 'PatientDOB',\n",
              " 'AgeBand',\n",
              " 'PatientGender',\n",
              " 'MedicalProviders',\n",
              " 'Diagnosis',\n",
              " 'DiagnosisGroup',\n",
              " 'HospCharges',\n",
              " 'Doctor',\n",
              " 'ICDCode',\n",
              " 'ProviderState',\n",
              " 'IsPanel',\n",
              " 'IndustryField']"
            ]
          },
          "metadata": {},
          "execution_count": 7
        }
      ]
    },
    {
      "cell_type": "code",
      "source": [
        "## Numerical Variables\n",
        "Integer = (df.dtypes == 'int64') \n",
        "Float   = (df.dtypes == 'float64') \n",
        "NumericVariables = list(Integer[Integer].index) + list(Float[Float].index)\n",
        "NumericVariables"
      ],
      "metadata": {
        "id": "ZlwcN_00emLS",
        "outputId": "c41200b5-3144-403b-a5aa-175a9a6dd8d9",
        "colab": {
          "base_uri": "https://localhost:8080/"
        }
      },
      "execution_count": null,
      "outputs": [
        {
          "output_type": "execute_result",
          "data": {
            "text/plain": [
              "['TotalVisit',\n",
              " 'Corporate',\n",
              " 'MCDays',\n",
              " 'AmountIncurred',\n",
              " 'AmountInsured',\n",
              " 'ExcessPaid']"
            ]
          },
          "metadata": {},
          "execution_count": 22
        }
      ]
    },
    {
      "cell_type": "code",
      "source": [
        "#2 Possibility - Encode column (Anonymisation)\n",
        "#Import LabelEncoder from sklearn / DataFrameMapper from sklearn_pandas\n",
        "from sklearn.preprocessing import LabelEncoder\n",
        "#!pip install sklearn\n",
        "from sklearn_pandas import DataFrameMapper\n",
        "\n",
        "encoders = [([\"Corporate\"], LabelEncoder())]\n",
        "mapper = DataFrameMapper(encoders, df_out=True)\n",
        "label_col = mapper.fit_transform(df.copy())\n",
        "df = pd.concat([df.drop(columns=[\"Corporate\"]), label_col], axis=\"columns\")\n",
        "df.head(3)"
      ],
      "metadata": {
        "id": "dRCBykPQ68Qd",
        "outputId": "68eb4504-864a-47da-c9d0-eee70a2df148",
        "colab": {
          "base_uri": "https://localhost:8080/",
          "height": 480
        }
      },
      "execution_count": null,
      "outputs": [
        {
          "output_type": "stream",
          "name": "stderr",
          "text": [
            "/usr/local/lib/python3.9/dist-packages/sklearn/preprocessing/_label.py:116: DataConversionWarning: A column-vector y was passed when a 1d array was expected. Please change the shape of y to (n_samples, ), for example using ravel().\n",
            "  y = column_or_1d(y, warn=True)\n"
          ]
        },
        {
          "output_type": "execute_result",
          "data": {
            "text/plain": [
              "   ClaimType          ClaimNo       Date DischargeDate  MCDays  \\\n",
              "0  Inpatient  HESSCIP09190002  26/6/2019     28/6/2019     2.0   \n",
              "1  Inpatient  HESSCIP10190003  30/6/2019      1/7/2019     1.0   \n",
              "2  Inpatient  HESSCIP10190004  26/6/2019     28/6/2019     2.0   \n",
              "\n",
              "   AmountIncurred  AmountInsured  ExcessPaid     Status TypeOfClaims  ...  \\\n",
              "0          6626.9         5000.0      1626.9  PROCESSED      GHSReim  ...   \n",
              "1          3641.0         3641.0         0.0  PROCESSED      GHSReim  ...   \n",
              "2           949.0          949.0         0.0  PROCESSED      GHSReim  ...   \n",
              "\n",
              "                                    MedicalProviders  \\\n",
              "0                  ANDORRA WOMEN & CHILDREN HOSPITAL   \n",
              "1  OHANA SPECIALIST HOSPITAL (FORMELY KNOWN AS RA...   \n",
              "2                  ANDORRA WOMEN & CHILDREN HOSPITAL   \n",
              "\n",
              "                                           Diagnosis  \\\n",
              "0                                Outcome of delivery   \n",
              "1                                Outcome of delivery   \n",
              "2  Other specified conditions of integument speci...   \n",
              "\n",
              "                                      DiagnosisGroup HospCharges  \\\n",
              "0  Factors influencing health status and contact ...        HIGH   \n",
              "1  Factors influencing health status and contact ...        HIGH   \n",
              "2  Certain conditions originating in the perinata...        HIGH   \n",
              "\n",
              "                Doctor ICDCode ProviderState    IsPanel  \\\n",
              "0  KHAMSIAH BINTI MUDA     Z37      SELANGOR  Non-Panel   \n",
              "1        KAMARIA IDRIS     Z37  KUALA LUMPUR  Non-Panel   \n",
              "2  KHAMSIAH BINTI MUDA   P83.8      SELANGOR  Non-Panel   \n",
              "\n",
              "                   IndustryField Corporate  \n",
              "0  Manufacturing Factory/Company      2240  \n",
              "1  Manufacturing Factory/Company      2240  \n",
              "2  Manufacturing Factory/Company      2240  \n",
              "\n",
              "[3 rows x 31 columns]"
            ],
            "text/html": [
              "\n",
              "  <div id=\"df-2eada4bf-6837-4977-961c-b267f3859841\">\n",
              "    <div class=\"colab-df-container\">\n",
              "      <div>\n",
              "<style scoped>\n",
              "    .dataframe tbody tr th:only-of-type {\n",
              "        vertical-align: middle;\n",
              "    }\n",
              "\n",
              "    .dataframe tbody tr th {\n",
              "        vertical-align: top;\n",
              "    }\n",
              "\n",
              "    .dataframe thead th {\n",
              "        text-align: right;\n",
              "    }\n",
              "</style>\n",
              "<table border=\"1\" class=\"dataframe\">\n",
              "  <thead>\n",
              "    <tr style=\"text-align: right;\">\n",
              "      <th></th>\n",
              "      <th>ClaimType</th>\n",
              "      <th>ClaimNo</th>\n",
              "      <th>Date</th>\n",
              "      <th>DischargeDate</th>\n",
              "      <th>MCDays</th>\n",
              "      <th>AmountIncurred</th>\n",
              "      <th>AmountInsured</th>\n",
              "      <th>ExcessPaid</th>\n",
              "      <th>Status</th>\n",
              "      <th>TypeOfClaims</th>\n",
              "      <th>...</th>\n",
              "      <th>MedicalProviders</th>\n",
              "      <th>Diagnosis</th>\n",
              "      <th>DiagnosisGroup</th>\n",
              "      <th>HospCharges</th>\n",
              "      <th>Doctor</th>\n",
              "      <th>ICDCode</th>\n",
              "      <th>ProviderState</th>\n",
              "      <th>IsPanel</th>\n",
              "      <th>IndustryField</th>\n",
              "      <th>Corporate</th>\n",
              "    </tr>\n",
              "  </thead>\n",
              "  <tbody>\n",
              "    <tr>\n",
              "      <th>0</th>\n",
              "      <td>Inpatient</td>\n",
              "      <td>HESSCIP09190002</td>\n",
              "      <td>26/6/2019</td>\n",
              "      <td>28/6/2019</td>\n",
              "      <td>2.0</td>\n",
              "      <td>6626.9</td>\n",
              "      <td>5000.0</td>\n",
              "      <td>1626.9</td>\n",
              "      <td>PROCESSED</td>\n",
              "      <td>GHSReim</td>\n",
              "      <td>...</td>\n",
              "      <td>ANDORRA WOMEN &amp; CHILDREN HOSPITAL</td>\n",
              "      <td>Outcome of delivery</td>\n",
              "      <td>Factors influencing health status and contact ...</td>\n",
              "      <td>HIGH</td>\n",
              "      <td>KHAMSIAH BINTI MUDA</td>\n",
              "      <td>Z37</td>\n",
              "      <td>SELANGOR</td>\n",
              "      <td>Non-Panel</td>\n",
              "      <td>Manufacturing Factory/Company</td>\n",
              "      <td>2240</td>\n",
              "    </tr>\n",
              "    <tr>\n",
              "      <th>1</th>\n",
              "      <td>Inpatient</td>\n",
              "      <td>HESSCIP10190003</td>\n",
              "      <td>30/6/2019</td>\n",
              "      <td>1/7/2019</td>\n",
              "      <td>1.0</td>\n",
              "      <td>3641.0</td>\n",
              "      <td>3641.0</td>\n",
              "      <td>0.0</td>\n",
              "      <td>PROCESSED</td>\n",
              "      <td>GHSReim</td>\n",
              "      <td>...</td>\n",
              "      <td>OHANA SPECIALIST HOSPITAL (FORMELY KNOWN AS RA...</td>\n",
              "      <td>Outcome of delivery</td>\n",
              "      <td>Factors influencing health status and contact ...</td>\n",
              "      <td>HIGH</td>\n",
              "      <td>KAMARIA IDRIS</td>\n",
              "      <td>Z37</td>\n",
              "      <td>KUALA LUMPUR</td>\n",
              "      <td>Non-Panel</td>\n",
              "      <td>Manufacturing Factory/Company</td>\n",
              "      <td>2240</td>\n",
              "    </tr>\n",
              "    <tr>\n",
              "      <th>2</th>\n",
              "      <td>Inpatient</td>\n",
              "      <td>HESSCIP10190004</td>\n",
              "      <td>26/6/2019</td>\n",
              "      <td>28/6/2019</td>\n",
              "      <td>2.0</td>\n",
              "      <td>949.0</td>\n",
              "      <td>949.0</td>\n",
              "      <td>0.0</td>\n",
              "      <td>PROCESSED</td>\n",
              "      <td>GHSReim</td>\n",
              "      <td>...</td>\n",
              "      <td>ANDORRA WOMEN &amp; CHILDREN HOSPITAL</td>\n",
              "      <td>Other specified conditions of integument speci...</td>\n",
              "      <td>Certain conditions originating in the perinata...</td>\n",
              "      <td>HIGH</td>\n",
              "      <td>KHAMSIAH BINTI MUDA</td>\n",
              "      <td>P83.8</td>\n",
              "      <td>SELANGOR</td>\n",
              "      <td>Non-Panel</td>\n",
              "      <td>Manufacturing Factory/Company</td>\n",
              "      <td>2240</td>\n",
              "    </tr>\n",
              "  </tbody>\n",
              "</table>\n",
              "<p>3 rows × 31 columns</p>\n",
              "</div>\n",
              "      <button class=\"colab-df-convert\" onclick=\"convertToInteractive('df-2eada4bf-6837-4977-961c-b267f3859841')\"\n",
              "              title=\"Convert this dataframe to an interactive table.\"\n",
              "              style=\"display:none;\">\n",
              "        \n",
              "  <svg xmlns=\"http://www.w3.org/2000/svg\" height=\"24px\"viewBox=\"0 0 24 24\"\n",
              "       width=\"24px\">\n",
              "    <path d=\"M0 0h24v24H0V0z\" fill=\"none\"/>\n",
              "    <path d=\"M18.56 5.44l.94 2.06.94-2.06 2.06-.94-2.06-.94-.94-2.06-.94 2.06-2.06.94zm-11 1L8.5 8.5l.94-2.06 2.06-.94-2.06-.94L8.5 2.5l-.94 2.06-2.06.94zm10 10l.94 2.06.94-2.06 2.06-.94-2.06-.94-.94-2.06-.94 2.06-2.06.94z\"/><path d=\"M17.41 7.96l-1.37-1.37c-.4-.4-.92-.59-1.43-.59-.52 0-1.04.2-1.43.59L10.3 9.45l-7.72 7.72c-.78.78-.78 2.05 0 2.83L4 21.41c.39.39.9.59 1.41.59.51 0 1.02-.2 1.41-.59l7.78-7.78 2.81-2.81c.8-.78.8-2.07 0-2.86zM5.41 20L4 18.59l7.72-7.72 1.47 1.35L5.41 20z\"/>\n",
              "  </svg>\n",
              "      </button>\n",
              "      \n",
              "  <style>\n",
              "    .colab-df-container {\n",
              "      display:flex;\n",
              "      flex-wrap:wrap;\n",
              "      gap: 12px;\n",
              "    }\n",
              "\n",
              "    .colab-df-convert {\n",
              "      background-color: #E8F0FE;\n",
              "      border: none;\n",
              "      border-radius: 50%;\n",
              "      cursor: pointer;\n",
              "      display: none;\n",
              "      fill: #1967D2;\n",
              "      height: 32px;\n",
              "      padding: 0 0 0 0;\n",
              "      width: 32px;\n",
              "    }\n",
              "\n",
              "    .colab-df-convert:hover {\n",
              "      background-color: #E2EBFA;\n",
              "      box-shadow: 0px 1px 2px rgba(60, 64, 67, 0.3), 0px 1px 3px 1px rgba(60, 64, 67, 0.15);\n",
              "      fill: #174EA6;\n",
              "    }\n",
              "\n",
              "    [theme=dark] .colab-df-convert {\n",
              "      background-color: #3B4455;\n",
              "      fill: #D2E3FC;\n",
              "    }\n",
              "\n",
              "    [theme=dark] .colab-df-convert:hover {\n",
              "      background-color: #434B5C;\n",
              "      box-shadow: 0px 1px 3px 1px rgba(0, 0, 0, 0.15);\n",
              "      filter: drop-shadow(0px 1px 2px rgba(0, 0, 0, 0.3));\n",
              "      fill: #FFFFFF;\n",
              "    }\n",
              "  </style>\n",
              "\n",
              "      <script>\n",
              "        const buttonEl =\n",
              "          document.querySelector('#df-2eada4bf-6837-4977-961c-b267f3859841 button.colab-df-convert');\n",
              "        buttonEl.style.display =\n",
              "          google.colab.kernel.accessAllowed ? 'block' : 'none';\n",
              "\n",
              "        async function convertToInteractive(key) {\n",
              "          const element = document.querySelector('#df-2eada4bf-6837-4977-961c-b267f3859841');\n",
              "          const dataTable =\n",
              "            await google.colab.kernel.invokeFunction('convertToInteractive',\n",
              "                                                     [key], {});\n",
              "          if (!dataTable) return;\n",
              "\n",
              "          const docLinkHtml = 'Like what you see? Visit the ' +\n",
              "            '<a target=\"_blank\" href=https://colab.research.google.com/notebooks/data_table.ipynb>data table notebook</a>'\n",
              "            + ' to learn more about interactive tables.';\n",
              "          element.innerHTML = '';\n",
              "          dataTable['output_type'] = 'display_data';\n",
              "          await google.colab.output.renderOutput(dataTable, element);\n",
              "          const docLink = document.createElement('div');\n",
              "          docLink.innerHTML = docLinkHtml;\n",
              "          element.appendChild(docLink);\n",
              "        }\n",
              "      </script>\n",
              "    </div>\n",
              "  </div>\n",
              "  "
            ]
          },
          "metadata": {},
          "execution_count": 9
        }
      ]
    },
    {
      "cell_type": "markdown",
      "source": [
        "## DATA CLEANING"
      ],
      "metadata": {
        "id": "_x4I3Scjaaey"
      }
    },
    {
      "cell_type": "markdown",
      "source": [
        "### CHECK DUPLICATE DATA"
      ],
      "metadata": {
        "id": "IYWoHn0DsnSP"
      }
    },
    {
      "cell_type": "markdown",
      "source": [
        "Based on results below show that there have no duplicated data inside the dataset."
      ],
      "metadata": {
        "id": "lifPNzjRssnV"
      }
    },
    {
      "cell_type": "code",
      "source": [
        "df.duplicated().sum()"
      ],
      "metadata": {
        "colab": {
          "base_uri": "https://localhost:8080/"
        },
        "id": "E4dTG1kSpMLv",
        "outputId": "e12167f4-ddb2-42f6-811e-52b429ab077e"
      },
      "execution_count": null,
      "outputs": [
        {
          "output_type": "execute_result",
          "data": {
            "text/plain": [
              "0"
            ]
          },
          "metadata": {},
          "execution_count": 43
        }
      ]
    },
    {
      "cell_type": "markdown",
      "source": [
        "### CHECK DIRTY DATA"
      ],
      "metadata": {
        "id": "S_M7_gJhsEHK"
      }
    },
    {
      "cell_type": "markdown",
      "source": [
        "### CHECK NULL VALUES"
      ],
      "metadata": {
        "id": "0_3B_dncs-xG"
      }
    },
    {
      "cell_type": "code",
      "source": [
        "df.isnull().sum()"
      ],
      "metadata": {
        "id": "alQm2s7qtDv0",
        "outputId": "f0a64f21-44d4-4acc-9a3b-39bee604cb8c",
        "colab": {
          "base_uri": "https://localhost:8080/"
        }
      },
      "execution_count": null,
      "outputs": [
        {
          "output_type": "execute_result",
          "data": {
            "text/plain": [
              "ClaimType               0\n",
              "ClaimNo                 0\n",
              "Date                    0\n",
              "DischargeDate        2865\n",
              "MCDays               2865\n",
              "AmountIncurred          0\n",
              "AmountInsured           0\n",
              "ExcessPaid              0\n",
              "Status                  0\n",
              "TypeOfClaims            0\n",
              "TotalVisit              0\n",
              "IsSurgical              0\n",
              "IsLTM                   0\n",
              "IsMultipleDiag          0\n",
              "BenefitPlan            78\n",
              "EmployeeID              0\n",
              "PatientID               0\n",
              "Relationship            0\n",
              "PatientDOB             55\n",
              "AgeBand                 0\n",
              "PatientGender       45704\n",
              "MedicalProviders       71\n",
              "Diagnosis           50228\n",
              "DiagnosisGroup      52436\n",
              "HospCharges             0\n",
              "Doctor              66506\n",
              "ICDCode             50228\n",
              "ProviderState       62091\n",
              "IsPanel                 0\n",
              "IndustryField           0\n",
              "Corporate               0\n",
              "dtype: int64"
            ]
          },
          "metadata": {},
          "execution_count": 44
        }
      ]
    },
    {
      "cell_type": "code",
      "source": [
        "(df.isnull().sum()/len(df))*100"
      ],
      "metadata": {
        "id": "Oek8EZlptKla",
        "outputId": "68f53cc1-1457-471e-fc36-3796ec6929c8",
        "colab": {
          "base_uri": "https://localhost:8080/"
        }
      },
      "execution_count": null,
      "outputs": [
        {
          "output_type": "execute_result",
          "data": {
            "text/plain": [
              "ClaimType           0.000000\n",
              "ClaimNo             0.000000\n",
              "Date                0.000000\n",
              "DischargeDate       0.351612\n",
              "MCDays              0.000000\n",
              "AmountIncurred      0.000000\n",
              "AmountInsured       0.000000\n",
              "ExcessPaid          0.000000\n",
              "Status              0.000000\n",
              "TypeOfClaims        0.000000\n",
              "TotalVisit          0.000000\n",
              "IsSurgical          0.000000\n",
              "IsLTM               0.000000\n",
              "IsMultipleDiag      0.000000\n",
              "BenefitPlan         0.009573\n",
              "EmployeeID          0.000000\n",
              "PatientID           0.000000\n",
              "Relationship        0.000000\n",
              "PatientDOB          0.006750\n",
              "AgeBand             0.000000\n",
              "PatientGender       5.609105\n",
              "MedicalProviders    0.008714\n",
              "Diagnosis           6.164321\n",
              "DiagnosisGroup      6.435302\n",
              "HospCharges         0.000000\n",
              "Doctor              8.162068\n",
              "ICDCode             6.164321\n",
              "ProviderState       7.620229\n",
              "IsPanel             0.000000\n",
              "IndustryField       0.000000\n",
              "Corporate           0.000000\n",
              "dtype: float64"
            ]
          },
          "metadata": {},
          "execution_count": 50
        }
      ]
    },
    {
      "cell_type": "code",
      "source": [
        "#df.loc[df['MCDays']==0.0,'MCDays']=np.nan\n",
        "#df.MCDays.isnull().sum()\n",
        "#df['MCDays'].fillna(value=np.mean(df['MCDays']),inplace=True)\n",
        "\n",
        "x = df['MCDays'].mean()\n",
        "df['MCDays'].fillna(x, inplace = True)\n",
        "df.MCDays.isnull().sum()"
      ],
      "metadata": {
        "id": "jtmOa554tR9v",
        "outputId": "bc433a9b-b114-4a7a-99d7-da5a6a7415ec",
        "colab": {
          "base_uri": "https://localhost:8080/"
        }
      },
      "execution_count": null,
      "outputs": [
        {
          "output_type": "execute_result",
          "data": {
            "text/plain": [
              "0"
            ]
          },
          "metadata": {},
          "execution_count": 46
        }
      ]
    },
    {
      "cell_type": "code",
      "source": [
        "y = df['PatientGender'].mean()\n",
        "df['PatientGender'].fillna(y, inplace = True)\n",
        "df.PatientGender.isnull().sum()"
      ],
      "metadata": {
        "id": "Qi7yzQMbDd6C",
        "outputId": "f7bebf0b-ab91-4d40-c32e-cb847c83aa51",
        "colab": {
          "base_uri": "https://localhost:8080/",
          "height": 345
        }
      },
      "execution_count": null,
      "outputs": [
        {
          "output_type": "error",
          "ename": "TypeError",
          "evalue": "ignored",
          "traceback": [
            "\u001b[0;31m---------------------------------------------------------------------------\u001b[0m",
            "\u001b[0;31mTypeError\u001b[0m                                 Traceback (most recent call last)",
            "\u001b[0;32m<ipython-input-48-ef7501dc6f72>\u001b[0m in \u001b[0;36m<module>\u001b[0;34m\u001b[0m\n\u001b[0;32m----> 1\u001b[0;31m \u001b[0my\u001b[0m \u001b[0;34m=\u001b[0m \u001b[0mdf\u001b[0m\u001b[0;34m[\u001b[0m\u001b[0;34m'PatientGender'\u001b[0m\u001b[0;34m]\u001b[0m\u001b[0;34m.\u001b[0m\u001b[0mmean\u001b[0m\u001b[0;34m(\u001b[0m\u001b[0;34m)\u001b[0m\u001b[0;34m\u001b[0m\u001b[0;34m\u001b[0m\u001b[0m\n\u001b[0m\u001b[1;32m      2\u001b[0m \u001b[0mdf\u001b[0m\u001b[0;34m[\u001b[0m\u001b[0;34m'PatientGender'\u001b[0m\u001b[0;34m]\u001b[0m\u001b[0;34m.\u001b[0m\u001b[0mfillna\u001b[0m\u001b[0;34m(\u001b[0m\u001b[0my\u001b[0m\u001b[0;34m,\u001b[0m \u001b[0minplace\u001b[0m \u001b[0;34m=\u001b[0m \u001b[0;32mTrue\u001b[0m\u001b[0;34m)\u001b[0m\u001b[0;34m\u001b[0m\u001b[0;34m\u001b[0m\u001b[0m\n\u001b[1;32m      3\u001b[0m \u001b[0mdf\u001b[0m\u001b[0;34m.\u001b[0m\u001b[0mPatientGender\u001b[0m\u001b[0;34m.\u001b[0m\u001b[0misnull\u001b[0m\u001b[0;34m(\u001b[0m\u001b[0;34m)\u001b[0m\u001b[0;34m.\u001b[0m\u001b[0msum\u001b[0m\u001b[0;34m(\u001b[0m\u001b[0;34m)\u001b[0m\u001b[0;34m\u001b[0m\u001b[0;34m\u001b[0m\u001b[0m\n",
            "\u001b[0;32m/usr/local/lib/python3.9/dist-packages/pandas/core/generic.py\u001b[0m in \u001b[0;36mmean\u001b[0;34m(self, axis, skipna, level, numeric_only, **kwargs)\u001b[0m\n\u001b[1;32m  11122\u001b[0m             \u001b[0;34m**\u001b[0m\u001b[0mkwargs\u001b[0m\u001b[0;34m,\u001b[0m\u001b[0;34m\u001b[0m\u001b[0;34m\u001b[0m\u001b[0m\n\u001b[1;32m  11123\u001b[0m         ):\n\u001b[0;32m> 11124\u001b[0;31m             \u001b[0;32mreturn\u001b[0m \u001b[0mNDFrame\u001b[0m\u001b[0;34m.\u001b[0m\u001b[0mmean\u001b[0m\u001b[0;34m(\u001b[0m\u001b[0mself\u001b[0m\u001b[0;34m,\u001b[0m \u001b[0maxis\u001b[0m\u001b[0;34m,\u001b[0m \u001b[0mskipna\u001b[0m\u001b[0;34m,\u001b[0m \u001b[0mlevel\u001b[0m\u001b[0;34m,\u001b[0m \u001b[0mnumeric_only\u001b[0m\u001b[0;34m,\u001b[0m \u001b[0;34m**\u001b[0m\u001b[0mkwargs\u001b[0m\u001b[0;34m)\u001b[0m\u001b[0;34m\u001b[0m\u001b[0;34m\u001b[0m\u001b[0m\n\u001b[0m\u001b[1;32m  11125\u001b[0m \u001b[0;34m\u001b[0m\u001b[0m\n\u001b[1;32m  11126\u001b[0m         \u001b[0msetattr\u001b[0m\u001b[0;34m(\u001b[0m\u001b[0mcls\u001b[0m\u001b[0;34m,\u001b[0m \u001b[0;34m\"mean\"\u001b[0m\u001b[0;34m,\u001b[0m \u001b[0mmean\u001b[0m\u001b[0;34m)\u001b[0m\u001b[0;34m\u001b[0m\u001b[0;34m\u001b[0m\u001b[0m\n",
            "\u001b[0;32m/usr/local/lib/python3.9/dist-packages/pandas/core/generic.py\u001b[0m in \u001b[0;36mmean\u001b[0;34m(self, axis, skipna, level, numeric_only, **kwargs)\u001b[0m\n\u001b[1;32m  10692\u001b[0m         \u001b[0;34m**\u001b[0m\u001b[0mkwargs\u001b[0m\u001b[0;34m,\u001b[0m\u001b[0;34m\u001b[0m\u001b[0;34m\u001b[0m\u001b[0m\n\u001b[1;32m  10693\u001b[0m     ) -> Series | float:\n\u001b[0;32m> 10694\u001b[0;31m         return self._stat_function(\n\u001b[0m\u001b[1;32m  10695\u001b[0m             \u001b[0;34m\"mean\"\u001b[0m\u001b[0;34m,\u001b[0m \u001b[0mnanops\u001b[0m\u001b[0;34m.\u001b[0m\u001b[0mnanmean\u001b[0m\u001b[0;34m,\u001b[0m \u001b[0maxis\u001b[0m\u001b[0;34m,\u001b[0m \u001b[0mskipna\u001b[0m\u001b[0;34m,\u001b[0m \u001b[0mlevel\u001b[0m\u001b[0;34m,\u001b[0m \u001b[0mnumeric_only\u001b[0m\u001b[0;34m,\u001b[0m \u001b[0;34m**\u001b[0m\u001b[0mkwargs\u001b[0m\u001b[0;34m\u001b[0m\u001b[0;34m\u001b[0m\u001b[0m\n\u001b[1;32m  10696\u001b[0m         )\n",
            "\u001b[0;32m/usr/local/lib/python3.9/dist-packages/pandas/core/generic.py\u001b[0m in \u001b[0;36m_stat_function\u001b[0;34m(self, name, func, axis, skipna, level, numeric_only, **kwargs)\u001b[0m\n\u001b[1;32m  10644\u001b[0m                 \u001b[0mname\u001b[0m\u001b[0;34m,\u001b[0m \u001b[0maxis\u001b[0m\u001b[0;34m=\u001b[0m\u001b[0maxis\u001b[0m\u001b[0;34m,\u001b[0m \u001b[0mlevel\u001b[0m\u001b[0;34m=\u001b[0m\u001b[0mlevel\u001b[0m\u001b[0;34m,\u001b[0m \u001b[0mskipna\u001b[0m\u001b[0;34m=\u001b[0m\u001b[0mskipna\u001b[0m\u001b[0;34m,\u001b[0m \u001b[0mnumeric_only\u001b[0m\u001b[0;34m=\u001b[0m\u001b[0mnumeric_only\u001b[0m\u001b[0;34m\u001b[0m\u001b[0;34m\u001b[0m\u001b[0m\n\u001b[1;32m  10645\u001b[0m             )\n\u001b[0;32m> 10646\u001b[0;31m         return self._reduce(\n\u001b[0m\u001b[1;32m  10647\u001b[0m             \u001b[0mfunc\u001b[0m\u001b[0;34m,\u001b[0m \u001b[0mname\u001b[0m\u001b[0;34m=\u001b[0m\u001b[0mname\u001b[0m\u001b[0;34m,\u001b[0m \u001b[0maxis\u001b[0m\u001b[0;34m=\u001b[0m\u001b[0maxis\u001b[0m\u001b[0;34m,\u001b[0m \u001b[0mskipna\u001b[0m\u001b[0;34m=\u001b[0m\u001b[0mskipna\u001b[0m\u001b[0;34m,\u001b[0m \u001b[0mnumeric_only\u001b[0m\u001b[0;34m=\u001b[0m\u001b[0mnumeric_only\u001b[0m\u001b[0;34m\u001b[0m\u001b[0;34m\u001b[0m\u001b[0m\n\u001b[1;32m  10648\u001b[0m         )\n",
            "\u001b[0;32m/usr/local/lib/python3.9/dist-packages/pandas/core/series.py\u001b[0m in \u001b[0;36m_reduce\u001b[0;34m(self, op, name, axis, skipna, numeric_only, filter_type, **kwds)\u001b[0m\n\u001b[1;32m   4469\u001b[0m                 )\n\u001b[1;32m   4470\u001b[0m             \u001b[0;32mwith\u001b[0m \u001b[0mnp\u001b[0m\u001b[0;34m.\u001b[0m\u001b[0merrstate\u001b[0m\u001b[0;34m(\u001b[0m\u001b[0mall\u001b[0m\u001b[0;34m=\u001b[0m\u001b[0;34m\"ignore\"\u001b[0m\u001b[0;34m)\u001b[0m\u001b[0;34m:\u001b[0m\u001b[0;34m\u001b[0m\u001b[0;34m\u001b[0m\u001b[0m\n\u001b[0;32m-> 4471\u001b[0;31m                 \u001b[0;32mreturn\u001b[0m \u001b[0mop\u001b[0m\u001b[0;34m(\u001b[0m\u001b[0mdelegate\u001b[0m\u001b[0;34m,\u001b[0m \u001b[0mskipna\u001b[0m\u001b[0;34m=\u001b[0m\u001b[0mskipna\u001b[0m\u001b[0;34m,\u001b[0m \u001b[0;34m**\u001b[0m\u001b[0mkwds\u001b[0m\u001b[0;34m)\u001b[0m\u001b[0;34m\u001b[0m\u001b[0;34m\u001b[0m\u001b[0m\n\u001b[0m\u001b[1;32m   4472\u001b[0m \u001b[0;34m\u001b[0m\u001b[0m\n\u001b[1;32m   4473\u001b[0m     def _reindex_indexer(\n",
            "\u001b[0;32m/usr/local/lib/python3.9/dist-packages/pandas/core/nanops.py\u001b[0m in \u001b[0;36m_f\u001b[0;34m(*args, **kwargs)\u001b[0m\n\u001b[1;32m     91\u001b[0m             \u001b[0;32mtry\u001b[0m\u001b[0;34m:\u001b[0m\u001b[0;34m\u001b[0m\u001b[0;34m\u001b[0m\u001b[0m\n\u001b[1;32m     92\u001b[0m                 \u001b[0;32mwith\u001b[0m \u001b[0mnp\u001b[0m\u001b[0;34m.\u001b[0m\u001b[0merrstate\u001b[0m\u001b[0;34m(\u001b[0m\u001b[0minvalid\u001b[0m\u001b[0;34m=\u001b[0m\u001b[0;34m\"ignore\"\u001b[0m\u001b[0;34m)\u001b[0m\u001b[0;34m:\u001b[0m\u001b[0;34m\u001b[0m\u001b[0;34m\u001b[0m\u001b[0m\n\u001b[0;32m---> 93\u001b[0;31m                     \u001b[0;32mreturn\u001b[0m \u001b[0mf\u001b[0m\u001b[0;34m(\u001b[0m\u001b[0;34m*\u001b[0m\u001b[0margs\u001b[0m\u001b[0;34m,\u001b[0m \u001b[0;34m**\u001b[0m\u001b[0mkwargs\u001b[0m\u001b[0;34m)\u001b[0m\u001b[0;34m\u001b[0m\u001b[0;34m\u001b[0m\u001b[0m\n\u001b[0m\u001b[1;32m     94\u001b[0m             \u001b[0;32mexcept\u001b[0m \u001b[0mValueError\u001b[0m \u001b[0;32mas\u001b[0m \u001b[0me\u001b[0m\u001b[0;34m:\u001b[0m\u001b[0;34m\u001b[0m\u001b[0;34m\u001b[0m\u001b[0m\n\u001b[1;32m     95\u001b[0m                 \u001b[0;31m# we want to transform an object array\u001b[0m\u001b[0;34m\u001b[0m\u001b[0;34m\u001b[0m\u001b[0m\n",
            "\u001b[0;32m/usr/local/lib/python3.9/dist-packages/pandas/core/nanops.py\u001b[0m in \u001b[0;36mf\u001b[0;34m(values, axis, skipna, **kwds)\u001b[0m\n\u001b[1;32m    153\u001b[0m                     \u001b[0mresult\u001b[0m \u001b[0;34m=\u001b[0m \u001b[0malt\u001b[0m\u001b[0;34m(\u001b[0m\u001b[0mvalues\u001b[0m\u001b[0;34m,\u001b[0m \u001b[0maxis\u001b[0m\u001b[0;34m=\u001b[0m\u001b[0maxis\u001b[0m\u001b[0;34m,\u001b[0m \u001b[0mskipna\u001b[0m\u001b[0;34m=\u001b[0m\u001b[0mskipna\u001b[0m\u001b[0;34m,\u001b[0m \u001b[0;34m**\u001b[0m\u001b[0mkwds\u001b[0m\u001b[0;34m)\u001b[0m\u001b[0;34m\u001b[0m\u001b[0;34m\u001b[0m\u001b[0m\n\u001b[1;32m    154\u001b[0m             \u001b[0;32melse\u001b[0m\u001b[0;34m:\u001b[0m\u001b[0;34m\u001b[0m\u001b[0;34m\u001b[0m\u001b[0m\n\u001b[0;32m--> 155\u001b[0;31m                 \u001b[0mresult\u001b[0m \u001b[0;34m=\u001b[0m \u001b[0malt\u001b[0m\u001b[0;34m(\u001b[0m\u001b[0mvalues\u001b[0m\u001b[0;34m,\u001b[0m \u001b[0maxis\u001b[0m\u001b[0;34m=\u001b[0m\u001b[0maxis\u001b[0m\u001b[0;34m,\u001b[0m \u001b[0mskipna\u001b[0m\u001b[0;34m=\u001b[0m\u001b[0mskipna\u001b[0m\u001b[0;34m,\u001b[0m \u001b[0;34m**\u001b[0m\u001b[0mkwds\u001b[0m\u001b[0;34m)\u001b[0m\u001b[0;34m\u001b[0m\u001b[0;34m\u001b[0m\u001b[0m\n\u001b[0m\u001b[1;32m    156\u001b[0m \u001b[0;34m\u001b[0m\u001b[0m\n\u001b[1;32m    157\u001b[0m             \u001b[0;32mreturn\u001b[0m \u001b[0mresult\u001b[0m\u001b[0;34m\u001b[0m\u001b[0;34m\u001b[0m\u001b[0m\n",
            "\u001b[0;32m/usr/local/lib/python3.9/dist-packages/pandas/core/nanops.py\u001b[0m in \u001b[0;36mnew_func\u001b[0;34m(values, axis, skipna, mask, **kwargs)\u001b[0m\n\u001b[1;32m    408\u001b[0m             \u001b[0mmask\u001b[0m \u001b[0;34m=\u001b[0m \u001b[0misna\u001b[0m\u001b[0;34m(\u001b[0m\u001b[0mvalues\u001b[0m\u001b[0;34m)\u001b[0m\u001b[0;34m\u001b[0m\u001b[0;34m\u001b[0m\u001b[0m\n\u001b[1;32m    409\u001b[0m \u001b[0;34m\u001b[0m\u001b[0m\n\u001b[0;32m--> 410\u001b[0;31m         \u001b[0mresult\u001b[0m \u001b[0;34m=\u001b[0m \u001b[0mfunc\u001b[0m\u001b[0;34m(\u001b[0m\u001b[0mvalues\u001b[0m\u001b[0;34m,\u001b[0m \u001b[0maxis\u001b[0m\u001b[0;34m=\u001b[0m\u001b[0maxis\u001b[0m\u001b[0;34m,\u001b[0m \u001b[0mskipna\u001b[0m\u001b[0;34m=\u001b[0m\u001b[0mskipna\u001b[0m\u001b[0;34m,\u001b[0m \u001b[0mmask\u001b[0m\u001b[0;34m=\u001b[0m\u001b[0mmask\u001b[0m\u001b[0;34m,\u001b[0m \u001b[0;34m**\u001b[0m\u001b[0mkwargs\u001b[0m\u001b[0;34m)\u001b[0m\u001b[0;34m\u001b[0m\u001b[0;34m\u001b[0m\u001b[0m\n\u001b[0m\u001b[1;32m    411\u001b[0m \u001b[0;34m\u001b[0m\u001b[0m\n\u001b[1;32m    412\u001b[0m         \u001b[0;32mif\u001b[0m \u001b[0mdatetimelike\u001b[0m\u001b[0;34m:\u001b[0m\u001b[0;34m\u001b[0m\u001b[0;34m\u001b[0m\u001b[0m\n",
            "\u001b[0;32m/usr/local/lib/python3.9/dist-packages/pandas/core/nanops.py\u001b[0m in \u001b[0;36mnanmean\u001b[0;34m(values, axis, skipna, mask)\u001b[0m\n\u001b[1;32m    696\u001b[0m \u001b[0;34m\u001b[0m\u001b[0m\n\u001b[1;32m    697\u001b[0m     \u001b[0mcount\u001b[0m \u001b[0;34m=\u001b[0m \u001b[0m_get_counts\u001b[0m\u001b[0;34m(\u001b[0m\u001b[0mvalues\u001b[0m\u001b[0;34m.\u001b[0m\u001b[0mshape\u001b[0m\u001b[0;34m,\u001b[0m \u001b[0mmask\u001b[0m\u001b[0;34m,\u001b[0m \u001b[0maxis\u001b[0m\u001b[0;34m,\u001b[0m \u001b[0mdtype\u001b[0m\u001b[0;34m=\u001b[0m\u001b[0mdtype_count\u001b[0m\u001b[0;34m)\u001b[0m\u001b[0;34m\u001b[0m\u001b[0;34m\u001b[0m\u001b[0m\n\u001b[0;32m--> 698\u001b[0;31m     \u001b[0mthe_sum\u001b[0m \u001b[0;34m=\u001b[0m \u001b[0m_ensure_numeric\u001b[0m\u001b[0;34m(\u001b[0m\u001b[0mvalues\u001b[0m\u001b[0;34m.\u001b[0m\u001b[0msum\u001b[0m\u001b[0;34m(\u001b[0m\u001b[0maxis\u001b[0m\u001b[0;34m,\u001b[0m \u001b[0mdtype\u001b[0m\u001b[0;34m=\u001b[0m\u001b[0mdtype_sum\u001b[0m\u001b[0;34m)\u001b[0m\u001b[0;34m)\u001b[0m\u001b[0;34m\u001b[0m\u001b[0;34m\u001b[0m\u001b[0m\n\u001b[0m\u001b[1;32m    699\u001b[0m \u001b[0;34m\u001b[0m\u001b[0m\n\u001b[1;32m    700\u001b[0m     \u001b[0;32mif\u001b[0m \u001b[0maxis\u001b[0m \u001b[0;32mis\u001b[0m \u001b[0;32mnot\u001b[0m \u001b[0;32mNone\u001b[0m \u001b[0;32mand\u001b[0m \u001b[0mgetattr\u001b[0m\u001b[0;34m(\u001b[0m\u001b[0mthe_sum\u001b[0m\u001b[0;34m,\u001b[0m \u001b[0;34m\"ndim\"\u001b[0m\u001b[0;34m,\u001b[0m \u001b[0;32mFalse\u001b[0m\u001b[0;34m)\u001b[0m\u001b[0;34m:\u001b[0m\u001b[0;34m\u001b[0m\u001b[0;34m\u001b[0m\u001b[0m\n",
            "\u001b[0;32m/usr/local/lib/python3.9/dist-packages/numpy/core/_methods.py\u001b[0m in \u001b[0;36m_sum\u001b[0;34m(a, axis, dtype, out, keepdims, initial, where)\u001b[0m\n\u001b[1;32m     46\u001b[0m def _sum(a, axis=None, dtype=None, out=None, keepdims=False,\n\u001b[1;32m     47\u001b[0m          initial=_NoValue, where=True):\n\u001b[0;32m---> 48\u001b[0;31m     \u001b[0;32mreturn\u001b[0m \u001b[0mumr_sum\u001b[0m\u001b[0;34m(\u001b[0m\u001b[0ma\u001b[0m\u001b[0;34m,\u001b[0m \u001b[0maxis\u001b[0m\u001b[0;34m,\u001b[0m \u001b[0mdtype\u001b[0m\u001b[0;34m,\u001b[0m \u001b[0mout\u001b[0m\u001b[0;34m,\u001b[0m \u001b[0mkeepdims\u001b[0m\u001b[0;34m,\u001b[0m \u001b[0minitial\u001b[0m\u001b[0;34m,\u001b[0m \u001b[0mwhere\u001b[0m\u001b[0;34m)\u001b[0m\u001b[0;34m\u001b[0m\u001b[0;34m\u001b[0m\u001b[0m\n\u001b[0m\u001b[1;32m     49\u001b[0m \u001b[0;34m\u001b[0m\u001b[0m\n\u001b[1;32m     50\u001b[0m def _prod(a, axis=None, dtype=None, out=None, keepdims=False,\n",
            "\u001b[0;31mTypeError\u001b[0m: can only concatenate str (not \"int\") to str"
          ]
        }
      ]
    },
    {
      "cell_type": "code",
      "source": [
        "Missing_Percentage = (df.isnull().sum()).sum()/np.product(df.shape)*100\n",
        "print(\"The number of missing entries before cleaning: \" + str(round(Missing_Percentage,5)) + \" %\")"
      ],
      "metadata": {
        "id": "PeJ_5tLYcDKM",
        "outputId": "7ee49d70-4f7c-40e4-f025-c6002bc49e19",
        "colab": {
          "base_uri": "https://localhost:8080/"
        }
      },
      "execution_count": null,
      "outputs": [
        {
          "output_type": "stream",
          "name": "stdout",
          "text": [
            "The number of missing entries before cleaning: 1.30748 %\n"
          ]
        }
      ]
    },
    {
      "cell_type": "markdown",
      "source": [
        "## EXPLORATORY DATA ANALYSIS"
      ],
      "metadata": {
        "id": "FQklgIUTkJ1x"
      }
    },
    {
      "cell_type": "markdown",
      "source": [
        "### DATA DESCRIPTION"
      ],
      "metadata": {
        "id": "NbctM13Fa-R3"
      }
    },
    {
      "cell_type": "code",
      "source": [
        "# data manipulation\n",
        "import pandas as pd\n",
        "import numpy as np\n",
        "\n",
        "# data viz\n",
        "import matplotlib.pyplot as plt\n",
        "from matplotlib import rcParams\n",
        "import seaborn as sns\n",
        "\n",
        "# apply some cool styling\n",
        "plt.style.use(\"ggplot\")\n",
        "rcParams['figure.figsize'] = (12, 6)\n",
        "\n"
      ],
      "metadata": {
        "id": "jdqpdbcf8zJq"
      },
      "execution_count": null,
      "outputs": []
    },
    {
      "cell_type": "code",
      "source": [
        "df.info()"
      ],
      "metadata": {
        "colab": {
          "base_uri": "https://localhost:8080/"
        },
        "id": "xxX7sZiVkQrM",
        "outputId": "ec5c1ed4-b75e-43aa-fe6b-80dbca9f51b8"
      },
      "execution_count": null,
      "outputs": [
        {
          "output_type": "stream",
          "name": "stdout",
          "text": [
            "<class 'pandas.core.frame.DataFrame'>\n",
            "RangeIndex: 814818 entries, 0 to 814817\n",
            "Data columns (total 31 columns):\n",
            " #   Column            Non-Null Count   Dtype         \n",
            "---  ------            --------------   -----         \n",
            " 0   ClaimType         814818 non-null  object        \n",
            " 1   ClaimNo           814818 non-null  object        \n",
            " 2   Date              814818 non-null  datetime64[ns]\n",
            " 3   DischargeDate     811953 non-null  object        \n",
            " 4   MCDays            811953 non-null  float64       \n",
            " 5   AmountIncurred    814818 non-null  float64       \n",
            " 6   AmountInsured     814818 non-null  float64       \n",
            " 7   ExcessPaid        814818 non-null  float64       \n",
            " 8   Status            814818 non-null  object        \n",
            " 9   TypeOfClaims      814818 non-null  object        \n",
            " 10  TotalVisit        814818 non-null  int64         \n",
            " 11  IsSurgical        814818 non-null  object        \n",
            " 12  IsLTM             814818 non-null  object        \n",
            " 13  IsMultipleDiag    814818 non-null  object        \n",
            " 14  BenefitPlan       814740 non-null  object        \n",
            " 15  EmployeeID        814818 non-null  object        \n",
            " 16  PatientID         814818 non-null  object        \n",
            " 17  Relationship      814818 non-null  object        \n",
            " 18  PatientDOB        814763 non-null  object        \n",
            " 19  AgeBand           814818 non-null  object        \n",
            " 20  PatientGender     769114 non-null  object        \n",
            " 21  MedicalProviders  814747 non-null  object        \n",
            " 22  Diagnosis         764590 non-null  object        \n",
            " 23  DiagnosisGroup    762382 non-null  object        \n",
            " 24  HospCharges       814818 non-null  object        \n",
            " 25  Doctor            748312 non-null  object        \n",
            " 26  ICDCode           764590 non-null  object        \n",
            " 27  ProviderState     752727 non-null  object        \n",
            " 28  IsPanel           814818 non-null  object        \n",
            " 29  IndustryField     814818 non-null  object        \n",
            " 30  Corporate         814818 non-null  int64         \n",
            "dtypes: datetime64[ns](1), float64(4), int64(2), object(24)\n",
            "memory usage: 192.7+ MB\n"
          ]
        }
      ]
    },
    {
      "cell_type": "code",
      "source": [
        "# convert column to datetime pandas\n",
        "df['Date'] = pd.to_datetime(df['Date'])\n",
        "\n",
        "# Datetime conversion using astype:\n",
        "#df['DischargeDate'] = df['DischargeDate'].astype('datetime64[ns]')\n",
        "print(df.dtypes)"
      ],
      "metadata": {
        "id": "loOERCOlD_CY",
        "outputId": "06ca125b-161c-45e4-cc9e-a728fe52ec8a",
        "colab": {
          "base_uri": "https://localhost:8080/"
        }
      },
      "execution_count": null,
      "outputs": [
        {
          "output_type": "stream",
          "name": "stdout",
          "text": [
            "ClaimType                   object\n",
            "ClaimNo                     object\n",
            "Date                datetime64[ns]\n",
            "DischargeDate               object\n",
            "MCDays                     float64\n",
            "AmountIncurred             float64\n",
            "AmountInsured              float64\n",
            "ExcessPaid                 float64\n",
            "Status                      object\n",
            "TypeOfClaims                object\n",
            "TotalVisit                   int64\n",
            "IsSurgical                  object\n",
            "IsLTM                       object\n",
            "IsMultipleDiag              object\n",
            "BenefitPlan                 object\n",
            "EmployeeID                  object\n",
            "PatientID                   object\n",
            "Relationship                object\n",
            "PatientDOB                  object\n",
            "AgeBand                     object\n",
            "PatientGender               object\n",
            "MedicalProviders            object\n",
            "Diagnosis                   object\n",
            "DiagnosisGroup              object\n",
            "HospCharges                 object\n",
            "Doctor                      object\n",
            "ICDCode                     object\n",
            "ProviderState               object\n",
            "IsPanel                     object\n",
            "IndustryField               object\n",
            "Corporate                    int64\n",
            "dtype: object\n"
          ]
        }
      ]
    },
    {
      "cell_type": "code",
      "source": [
        "#df.shape\n",
        "\n",
        "print('Number of rows: '+ format(df.shape[0]) +', number of features: '+ format(df.shape[1]))"
      ],
      "metadata": {
        "id": "ehFpbG9J89Wn",
        "outputId": "de7f21ce-30a7-4881-cb6e-5de0dfe47427",
        "colab": {
          "base_uri": "https://localhost:8080/"
        }
      },
      "execution_count": null,
      "outputs": [
        {
          "output_type": "stream",
          "name": "stdout",
          "text": [
            "Number of rows: 814818, number of features: 31\n"
          ]
        }
      ]
    },
    {
      "cell_type": "code",
      "source": [
        "df.describe()"
      ],
      "metadata": {
        "colab": {
          "base_uri": "https://localhost:8080/",
          "height": 300
        },
        "id": "AQ5SYIMYntTi",
        "outputId": "e6429b3e-998b-4814-f8d4-6fe5214e2ab8"
      },
      "execution_count": null,
      "outputs": [
        {
          "output_type": "execute_result",
          "data": {
            "text/plain": [
              "              MCDays  AmountIncurred  AmountInsured    ExcessPaid  \\\n",
              "count  811953.000000    8.148180e+05  814818.000000  8.148180e+05   \n",
              "mean        2.079418    3.830049e+03    3610.849656  2.191995e+02   \n",
              "std        14.780429    1.049955e+04    6919.003824  7.417467e+03   \n",
              "min     -1347.000000    0.000000e+00       0.010000 -1.000000e+04   \n",
              "25%         1.000000    1.897500e+02     184.450000  0.000000e+00   \n",
              "50%         2.000000    5.382500e+02     513.500000  0.000000e+00   \n",
              "75%         3.000000    4.810573e+03    4613.600000  5.385000e+01   \n",
              "max      1211.000000    6.335290e+06  688245.450000  6.335175e+06   \n",
              "\n",
              "          TotalVisit      Corporate  \n",
              "count  814818.000000  814818.000000  \n",
              "mean        0.505761    3519.218495  \n",
              "std         0.499970    2024.873130  \n",
              "min         0.000000       0.000000  \n",
              "25%         0.000000    1671.000000  \n",
              "50%         1.000000    3778.000000  \n",
              "75%         1.000000    5532.000000  \n",
              "max         2.000000    6619.000000  "
            ],
            "text/html": [
              "\n",
              "  <div id=\"df-893c2a67-bd66-4ee8-8924-f13d12a8de44\">\n",
              "    <div class=\"colab-df-container\">\n",
              "      <div>\n",
              "<style scoped>\n",
              "    .dataframe tbody tr th:only-of-type {\n",
              "        vertical-align: middle;\n",
              "    }\n",
              "\n",
              "    .dataframe tbody tr th {\n",
              "        vertical-align: top;\n",
              "    }\n",
              "\n",
              "    .dataframe thead th {\n",
              "        text-align: right;\n",
              "    }\n",
              "</style>\n",
              "<table border=\"1\" class=\"dataframe\">\n",
              "  <thead>\n",
              "    <tr style=\"text-align: right;\">\n",
              "      <th></th>\n",
              "      <th>MCDays</th>\n",
              "      <th>AmountIncurred</th>\n",
              "      <th>AmountInsured</th>\n",
              "      <th>ExcessPaid</th>\n",
              "      <th>TotalVisit</th>\n",
              "      <th>Corporate</th>\n",
              "    </tr>\n",
              "  </thead>\n",
              "  <tbody>\n",
              "    <tr>\n",
              "      <th>count</th>\n",
              "      <td>811953.000000</td>\n",
              "      <td>8.148180e+05</td>\n",
              "      <td>814818.000000</td>\n",
              "      <td>8.148180e+05</td>\n",
              "      <td>814818.000000</td>\n",
              "      <td>814818.000000</td>\n",
              "    </tr>\n",
              "    <tr>\n",
              "      <th>mean</th>\n",
              "      <td>2.079418</td>\n",
              "      <td>3.830049e+03</td>\n",
              "      <td>3610.849656</td>\n",
              "      <td>2.191995e+02</td>\n",
              "      <td>0.505761</td>\n",
              "      <td>3519.218495</td>\n",
              "    </tr>\n",
              "    <tr>\n",
              "      <th>std</th>\n",
              "      <td>14.780429</td>\n",
              "      <td>1.049955e+04</td>\n",
              "      <td>6919.003824</td>\n",
              "      <td>7.417467e+03</td>\n",
              "      <td>0.499970</td>\n",
              "      <td>2024.873130</td>\n",
              "    </tr>\n",
              "    <tr>\n",
              "      <th>min</th>\n",
              "      <td>-1347.000000</td>\n",
              "      <td>0.000000e+00</td>\n",
              "      <td>0.010000</td>\n",
              "      <td>-1.000000e+04</td>\n",
              "      <td>0.000000</td>\n",
              "      <td>0.000000</td>\n",
              "    </tr>\n",
              "    <tr>\n",
              "      <th>25%</th>\n",
              "      <td>1.000000</td>\n",
              "      <td>1.897500e+02</td>\n",
              "      <td>184.450000</td>\n",
              "      <td>0.000000e+00</td>\n",
              "      <td>0.000000</td>\n",
              "      <td>1671.000000</td>\n",
              "    </tr>\n",
              "    <tr>\n",
              "      <th>50%</th>\n",
              "      <td>2.000000</td>\n",
              "      <td>5.382500e+02</td>\n",
              "      <td>513.500000</td>\n",
              "      <td>0.000000e+00</td>\n",
              "      <td>1.000000</td>\n",
              "      <td>3778.000000</td>\n",
              "    </tr>\n",
              "    <tr>\n",
              "      <th>75%</th>\n",
              "      <td>3.000000</td>\n",
              "      <td>4.810573e+03</td>\n",
              "      <td>4613.600000</td>\n",
              "      <td>5.385000e+01</td>\n",
              "      <td>1.000000</td>\n",
              "      <td>5532.000000</td>\n",
              "    </tr>\n",
              "    <tr>\n",
              "      <th>max</th>\n",
              "      <td>1211.000000</td>\n",
              "      <td>6.335290e+06</td>\n",
              "      <td>688245.450000</td>\n",
              "      <td>6.335175e+06</td>\n",
              "      <td>2.000000</td>\n",
              "      <td>6619.000000</td>\n",
              "    </tr>\n",
              "  </tbody>\n",
              "</table>\n",
              "</div>\n",
              "      <button class=\"colab-df-convert\" onclick=\"convertToInteractive('df-893c2a67-bd66-4ee8-8924-f13d12a8de44')\"\n",
              "              title=\"Convert this dataframe to an interactive table.\"\n",
              "              style=\"display:none;\">\n",
              "        \n",
              "  <svg xmlns=\"http://www.w3.org/2000/svg\" height=\"24px\"viewBox=\"0 0 24 24\"\n",
              "       width=\"24px\">\n",
              "    <path d=\"M0 0h24v24H0V0z\" fill=\"none\"/>\n",
              "    <path d=\"M18.56 5.44l.94 2.06.94-2.06 2.06-.94-2.06-.94-.94-2.06-.94 2.06-2.06.94zm-11 1L8.5 8.5l.94-2.06 2.06-.94-2.06-.94L8.5 2.5l-.94 2.06-2.06.94zm10 10l.94 2.06.94-2.06 2.06-.94-2.06-.94-.94-2.06-.94 2.06-2.06.94z\"/><path d=\"M17.41 7.96l-1.37-1.37c-.4-.4-.92-.59-1.43-.59-.52 0-1.04.2-1.43.59L10.3 9.45l-7.72 7.72c-.78.78-.78 2.05 0 2.83L4 21.41c.39.39.9.59 1.41.59.51 0 1.02-.2 1.41-.59l7.78-7.78 2.81-2.81c.8-.78.8-2.07 0-2.86zM5.41 20L4 18.59l7.72-7.72 1.47 1.35L5.41 20z\"/>\n",
              "  </svg>\n",
              "      </button>\n",
              "      \n",
              "  <style>\n",
              "    .colab-df-container {\n",
              "      display:flex;\n",
              "      flex-wrap:wrap;\n",
              "      gap: 12px;\n",
              "    }\n",
              "\n",
              "    .colab-df-convert {\n",
              "      background-color: #E8F0FE;\n",
              "      border: none;\n",
              "      border-radius: 50%;\n",
              "      cursor: pointer;\n",
              "      display: none;\n",
              "      fill: #1967D2;\n",
              "      height: 32px;\n",
              "      padding: 0 0 0 0;\n",
              "      width: 32px;\n",
              "    }\n",
              "\n",
              "    .colab-df-convert:hover {\n",
              "      background-color: #E2EBFA;\n",
              "      box-shadow: 0px 1px 2px rgba(60, 64, 67, 0.3), 0px 1px 3px 1px rgba(60, 64, 67, 0.15);\n",
              "      fill: #174EA6;\n",
              "    }\n",
              "\n",
              "    [theme=dark] .colab-df-convert {\n",
              "      background-color: #3B4455;\n",
              "      fill: #D2E3FC;\n",
              "    }\n",
              "\n",
              "    [theme=dark] .colab-df-convert:hover {\n",
              "      background-color: #434B5C;\n",
              "      box-shadow: 0px 1px 3px 1px rgba(0, 0, 0, 0.15);\n",
              "      filter: drop-shadow(0px 1px 2px rgba(0, 0, 0, 0.3));\n",
              "      fill: #FFFFFF;\n",
              "    }\n",
              "  </style>\n",
              "\n",
              "      <script>\n",
              "        const buttonEl =\n",
              "          document.querySelector('#df-893c2a67-bd66-4ee8-8924-f13d12a8de44 button.colab-df-convert');\n",
              "        buttonEl.style.display =\n",
              "          google.colab.kernel.accessAllowed ? 'block' : 'none';\n",
              "\n",
              "        async function convertToInteractive(key) {\n",
              "          const element = document.querySelector('#df-893c2a67-bd66-4ee8-8924-f13d12a8de44');\n",
              "          const dataTable =\n",
              "            await google.colab.kernel.invokeFunction('convertToInteractive',\n",
              "                                                     [key], {});\n",
              "          if (!dataTable) return;\n",
              "\n",
              "          const docLinkHtml = 'Like what you see? Visit the ' +\n",
              "            '<a target=\"_blank\" href=https://colab.research.google.com/notebooks/data_table.ipynb>data table notebook</a>'\n",
              "            + ' to learn more about interactive tables.';\n",
              "          element.innerHTML = '';\n",
              "          dataTable['output_type'] = 'display_data';\n",
              "          await google.colab.output.renderOutput(dataTable, element);\n",
              "          const docLink = document.createElement('div');\n",
              "          docLink.innerHTML = docLinkHtml;\n",
              "          element.appendChild(docLink);\n",
              "        }\n",
              "      </script>\n",
              "    </div>\n",
              "  </div>\n",
              "  "
            ]
          },
          "metadata": {},
          "execution_count": 26
        }
      ]
    },
    {
      "cell_type": "code",
      "source": [
        "df.describe(include='all').T"
      ],
      "metadata": {
        "colab": {
          "base_uri": "https://localhost:8080/",
          "height": 1000
        },
        "id": "u6HziEXHnzPy",
        "outputId": "df77f54f-a57c-44e7-d44c-87d8783ceeac"
      },
      "execution_count": null,
      "outputs": [
        {
          "output_type": "stream",
          "name": "stderr",
          "text": [
            "<ipython-input-27-0dd56a246831>:1: FutureWarning: Treating datetime data as categorical rather than numeric in `.describe` is deprecated and will be removed in a future version of pandas. Specify `datetime_is_numeric=True` to silence this warning and adopt the future behavior now.\n",
            "  df.describe(include='all').T\n"
          ]
        },
        {
          "output_type": "execute_result",
          "data": {
            "text/plain": [
              "                     count  unique  \\\n",
              "ClaimType           814818       1   \n",
              "ClaimNo             814818  814817   \n",
              "Date                814818    1430   \n",
              "DischargeDate       811953    1596   \n",
              "MCDays            811953.0     NaN   \n",
              "AmountIncurred    814818.0     NaN   \n",
              "AmountInsured     814818.0     NaN   \n",
              "ExcessPaid        814818.0     NaN   \n",
              "Status              814818       7   \n",
              "TypeOfClaims        814818       4   \n",
              "TotalVisit        814818.0     NaN   \n",
              "IsSurgical          814818       3   \n",
              "IsLTM               814818       2   \n",
              "IsMultipleDiag      814818       2   \n",
              "BenefitPlan         814740    5551   \n",
              "EmployeeID          814818  209992   \n",
              "PatientID           814818  237984   \n",
              "Relationship        814818       4   \n",
              "PatientDOB          814763   26174   \n",
              "AgeBand             814818       7   \n",
              "PatientGender       769114      11   \n",
              "MedicalProviders    814747    1399   \n",
              "Diagnosis           764590    3369   \n",
              "DiagnosisGroup      762382      95   \n",
              "HospCharges         814818       6   \n",
              "Doctor              748312   76871   \n",
              "ICDCode             764590    3060   \n",
              "ProviderState       752727      18   \n",
              "IsPanel             814818       2   \n",
              "IndustryField       814818     175   \n",
              "Corporate         814818.0     NaN   \n",
              "\n",
              "                                                                top    freq  \\\n",
              "ClaimType                                                 Inpatient  814818   \n",
              "ClaimNo                                         G1066878CIP11220001       2   \n",
              "Date                                            2022-05-23 00:00:00    1232   \n",
              "DischargeDate                                             24/6/2022    1053   \n",
              "MCDays                                                          NaN     NaN   \n",
              "AmountIncurred                                                  NaN     NaN   \n",
              "AmountInsured                                                   NaN     NaN   \n",
              "ExcessPaid                                                      NaN     NaN   \n",
              "Status                                                    PROCESSED  661885   \n",
              "TypeOfClaims                                                GHSPost  370907   \n",
              "TotalVisit                                                      NaN     NaN   \n",
              "IsSurgical                                             Non-Surgical  452899   \n",
              "IsLTM                                                         Acute  715684   \n",
              "IsMultipleDiag                                                    N  814073   \n",
              "BenefitPlan                                                  PLAN30   25118   \n",
              "EmployeeID                                               EETQ000160     579   \n",
              "PatientID                                                EETQ000160     578   \n",
              "Relationship                                               Employee  598851   \n",
              "PatientDOB                                                 3/5/1967     643   \n",
              "AgeBand                                                    40 to 49  206719   \n",
              "PatientGender                                                     M  406103   \n",
              "MedicalProviders                                             OTHERS   60899   \n",
              "Diagnosis                                    GASTRITIS, UNSPECIFIED   25190   \n",
              "DiagnosisGroup    Diseases of the musculoskeletal system and con...  128293   \n",
              "HospCharges                                                  MEDIUM  336825   \n",
              "Doctor                                              PHYSIOTHERAPIST   34841   \n",
              "ICDCode                                                       K29.7   25210   \n",
              "ProviderState                                              SELANGOR  298364   \n",
              "IsPanel                                                       Panel  688971   \n",
              "IndustryField                                             Insurance  110289   \n",
              "Corporate                                                       NaN     NaN   \n",
              "\n",
              "                      first       last         mean           std      min  \\\n",
              "ClaimType               NaT        NaT          NaN           NaN      NaN   \n",
              "ClaimNo                 NaT        NaT          NaN           NaN      NaN   \n",
              "Date             2019-01-01 2022-12-11          NaN           NaN      NaN   \n",
              "DischargeDate           NaT        NaT          NaN           NaN      NaN   \n",
              "MCDays                  NaT        NaT     2.079418     14.780429  -1347.0   \n",
              "AmountIncurred          NaT        NaT  3830.049155  10499.547827      0.0   \n",
              "AmountInsured           NaT        NaT  3610.849656   6919.003824     0.01   \n",
              "ExcessPaid              NaT        NaT   219.199498   7417.466935 -10000.0   \n",
              "Status                  NaT        NaT          NaN           NaN      NaN   \n",
              "TypeOfClaims            NaT        NaT          NaN           NaN      NaN   \n",
              "TotalVisit              NaT        NaT     0.505761       0.49997      0.0   \n",
              "IsSurgical              NaT        NaT          NaN           NaN      NaN   \n",
              "IsLTM                   NaT        NaT          NaN           NaN      NaN   \n",
              "IsMultipleDiag          NaT        NaT          NaN           NaN      NaN   \n",
              "BenefitPlan             NaT        NaT          NaN           NaN      NaN   \n",
              "EmployeeID              NaT        NaT          NaN           NaN      NaN   \n",
              "PatientID               NaT        NaT          NaN           NaN      NaN   \n",
              "Relationship            NaT        NaT          NaN           NaN      NaN   \n",
              "PatientDOB              NaT        NaT          NaN           NaN      NaN   \n",
              "AgeBand                 NaT        NaT          NaN           NaN      NaN   \n",
              "PatientGender           NaT        NaT          NaN           NaN      NaN   \n",
              "MedicalProviders        NaT        NaT          NaN           NaN      NaN   \n",
              "Diagnosis               NaT        NaT          NaN           NaN      NaN   \n",
              "DiagnosisGroup          NaT        NaT          NaN           NaN      NaN   \n",
              "HospCharges             NaT        NaT          NaN           NaN      NaN   \n",
              "Doctor                  NaT        NaT          NaN           NaN      NaN   \n",
              "ICDCode                 NaT        NaT          NaN           NaN      NaN   \n",
              "ProviderState           NaT        NaT          NaN           NaN      NaN   \n",
              "IsPanel                 NaT        NaT          NaN           NaN      NaN   \n",
              "IndustryField           NaT        NaT          NaN           NaN      NaN   \n",
              "Corporate               NaT        NaT  3519.218495    2024.87313      0.0   \n",
              "\n",
              "                     25%     50%        75%        max  \n",
              "ClaimType            NaN     NaN        NaN        NaN  \n",
              "ClaimNo              NaN     NaN        NaN        NaN  \n",
              "Date                 NaN     NaN        NaN        NaN  \n",
              "DischargeDate        NaN     NaN        NaN        NaN  \n",
              "MCDays               1.0     2.0        3.0     1211.0  \n",
              "AmountIncurred    189.75  538.25  4810.5725  6335290.0  \n",
              "AmountInsured     184.45   513.5     4613.6  688245.45  \n",
              "ExcessPaid           0.0     0.0      53.85  6335175.0  \n",
              "Status               NaN     NaN        NaN        NaN  \n",
              "TypeOfClaims         NaN     NaN        NaN        NaN  \n",
              "TotalVisit           0.0     1.0        1.0        2.0  \n",
              "IsSurgical           NaN     NaN        NaN        NaN  \n",
              "IsLTM                NaN     NaN        NaN        NaN  \n",
              "IsMultipleDiag       NaN     NaN        NaN        NaN  \n",
              "BenefitPlan          NaN     NaN        NaN        NaN  \n",
              "EmployeeID           NaN     NaN        NaN        NaN  \n",
              "PatientID            NaN     NaN        NaN        NaN  \n",
              "Relationship         NaN     NaN        NaN        NaN  \n",
              "PatientDOB           NaN     NaN        NaN        NaN  \n",
              "AgeBand              NaN     NaN        NaN        NaN  \n",
              "PatientGender        NaN     NaN        NaN        NaN  \n",
              "MedicalProviders     NaN     NaN        NaN        NaN  \n",
              "Diagnosis            NaN     NaN        NaN        NaN  \n",
              "DiagnosisGroup       NaN     NaN        NaN        NaN  \n",
              "HospCharges          NaN     NaN        NaN        NaN  \n",
              "Doctor               NaN     NaN        NaN        NaN  \n",
              "ICDCode              NaN     NaN        NaN        NaN  \n",
              "ProviderState        NaN     NaN        NaN        NaN  \n",
              "IsPanel              NaN     NaN        NaN        NaN  \n",
              "IndustryField        NaN     NaN        NaN        NaN  \n",
              "Corporate         1671.0  3778.0     5532.0     6619.0  "
            ],
            "text/html": [
              "\n",
              "  <div id=\"df-e766c695-8eb1-4a09-aa50-98e86606f3ee\">\n",
              "    <div class=\"colab-df-container\">\n",
              "      <div>\n",
              "<style scoped>\n",
              "    .dataframe tbody tr th:only-of-type {\n",
              "        vertical-align: middle;\n",
              "    }\n",
              "\n",
              "    .dataframe tbody tr th {\n",
              "        vertical-align: top;\n",
              "    }\n",
              "\n",
              "    .dataframe thead th {\n",
              "        text-align: right;\n",
              "    }\n",
              "</style>\n",
              "<table border=\"1\" class=\"dataframe\">\n",
              "  <thead>\n",
              "    <tr style=\"text-align: right;\">\n",
              "      <th></th>\n",
              "      <th>count</th>\n",
              "      <th>unique</th>\n",
              "      <th>top</th>\n",
              "      <th>freq</th>\n",
              "      <th>first</th>\n",
              "      <th>last</th>\n",
              "      <th>mean</th>\n",
              "      <th>std</th>\n",
              "      <th>min</th>\n",
              "      <th>25%</th>\n",
              "      <th>50%</th>\n",
              "      <th>75%</th>\n",
              "      <th>max</th>\n",
              "    </tr>\n",
              "  </thead>\n",
              "  <tbody>\n",
              "    <tr>\n",
              "      <th>ClaimType</th>\n",
              "      <td>814818</td>\n",
              "      <td>1</td>\n",
              "      <td>Inpatient</td>\n",
              "      <td>814818</td>\n",
              "      <td>NaT</td>\n",
              "      <td>NaT</td>\n",
              "      <td>NaN</td>\n",
              "      <td>NaN</td>\n",
              "      <td>NaN</td>\n",
              "      <td>NaN</td>\n",
              "      <td>NaN</td>\n",
              "      <td>NaN</td>\n",
              "      <td>NaN</td>\n",
              "    </tr>\n",
              "    <tr>\n",
              "      <th>ClaimNo</th>\n",
              "      <td>814818</td>\n",
              "      <td>814817</td>\n",
              "      <td>G1066878CIP11220001</td>\n",
              "      <td>2</td>\n",
              "      <td>NaT</td>\n",
              "      <td>NaT</td>\n",
              "      <td>NaN</td>\n",
              "      <td>NaN</td>\n",
              "      <td>NaN</td>\n",
              "      <td>NaN</td>\n",
              "      <td>NaN</td>\n",
              "      <td>NaN</td>\n",
              "      <td>NaN</td>\n",
              "    </tr>\n",
              "    <tr>\n",
              "      <th>Date</th>\n",
              "      <td>814818</td>\n",
              "      <td>1430</td>\n",
              "      <td>2022-05-23 00:00:00</td>\n",
              "      <td>1232</td>\n",
              "      <td>2019-01-01</td>\n",
              "      <td>2022-12-11</td>\n",
              "      <td>NaN</td>\n",
              "      <td>NaN</td>\n",
              "      <td>NaN</td>\n",
              "      <td>NaN</td>\n",
              "      <td>NaN</td>\n",
              "      <td>NaN</td>\n",
              "      <td>NaN</td>\n",
              "    </tr>\n",
              "    <tr>\n",
              "      <th>DischargeDate</th>\n",
              "      <td>811953</td>\n",
              "      <td>1596</td>\n",
              "      <td>24/6/2022</td>\n",
              "      <td>1053</td>\n",
              "      <td>NaT</td>\n",
              "      <td>NaT</td>\n",
              "      <td>NaN</td>\n",
              "      <td>NaN</td>\n",
              "      <td>NaN</td>\n",
              "      <td>NaN</td>\n",
              "      <td>NaN</td>\n",
              "      <td>NaN</td>\n",
              "      <td>NaN</td>\n",
              "    </tr>\n",
              "    <tr>\n",
              "      <th>MCDays</th>\n",
              "      <td>811953.0</td>\n",
              "      <td>NaN</td>\n",
              "      <td>NaN</td>\n",
              "      <td>NaN</td>\n",
              "      <td>NaT</td>\n",
              "      <td>NaT</td>\n",
              "      <td>2.079418</td>\n",
              "      <td>14.780429</td>\n",
              "      <td>-1347.0</td>\n",
              "      <td>1.0</td>\n",
              "      <td>2.0</td>\n",
              "      <td>3.0</td>\n",
              "      <td>1211.0</td>\n",
              "    </tr>\n",
              "    <tr>\n",
              "      <th>AmountIncurred</th>\n",
              "      <td>814818.0</td>\n",
              "      <td>NaN</td>\n",
              "      <td>NaN</td>\n",
              "      <td>NaN</td>\n",
              "      <td>NaT</td>\n",
              "      <td>NaT</td>\n",
              "      <td>3830.049155</td>\n",
              "      <td>10499.547827</td>\n",
              "      <td>0.0</td>\n",
              "      <td>189.75</td>\n",
              "      <td>538.25</td>\n",
              "      <td>4810.5725</td>\n",
              "      <td>6335290.0</td>\n",
              "    </tr>\n",
              "    <tr>\n",
              "      <th>AmountInsured</th>\n",
              "      <td>814818.0</td>\n",
              "      <td>NaN</td>\n",
              "      <td>NaN</td>\n",
              "      <td>NaN</td>\n",
              "      <td>NaT</td>\n",
              "      <td>NaT</td>\n",
              "      <td>3610.849656</td>\n",
              "      <td>6919.003824</td>\n",
              "      <td>0.01</td>\n",
              "      <td>184.45</td>\n",
              "      <td>513.5</td>\n",
              "      <td>4613.6</td>\n",
              "      <td>688245.45</td>\n",
              "    </tr>\n",
              "    <tr>\n",
              "      <th>ExcessPaid</th>\n",
              "      <td>814818.0</td>\n",
              "      <td>NaN</td>\n",
              "      <td>NaN</td>\n",
              "      <td>NaN</td>\n",
              "      <td>NaT</td>\n",
              "      <td>NaT</td>\n",
              "      <td>219.199498</td>\n",
              "      <td>7417.466935</td>\n",
              "      <td>-10000.0</td>\n",
              "      <td>0.0</td>\n",
              "      <td>0.0</td>\n",
              "      <td>53.85</td>\n",
              "      <td>6335175.0</td>\n",
              "    </tr>\n",
              "    <tr>\n",
              "      <th>Status</th>\n",
              "      <td>814818</td>\n",
              "      <td>7</td>\n",
              "      <td>PROCESSED</td>\n",
              "      <td>661885</td>\n",
              "      <td>NaT</td>\n",
              "      <td>NaT</td>\n",
              "      <td>NaN</td>\n",
              "      <td>NaN</td>\n",
              "      <td>NaN</td>\n",
              "      <td>NaN</td>\n",
              "      <td>NaN</td>\n",
              "      <td>NaN</td>\n",
              "      <td>NaN</td>\n",
              "    </tr>\n",
              "    <tr>\n",
              "      <th>TypeOfClaims</th>\n",
              "      <td>814818</td>\n",
              "      <td>4</td>\n",
              "      <td>GHSPost</td>\n",
              "      <td>370907</td>\n",
              "      <td>NaT</td>\n",
              "      <td>NaT</td>\n",
              "      <td>NaN</td>\n",
              "      <td>NaN</td>\n",
              "      <td>NaN</td>\n",
              "      <td>NaN</td>\n",
              "      <td>NaN</td>\n",
              "      <td>NaN</td>\n",
              "      <td>NaN</td>\n",
              "    </tr>\n",
              "    <tr>\n",
              "      <th>TotalVisit</th>\n",
              "      <td>814818.0</td>\n",
              "      <td>NaN</td>\n",
              "      <td>NaN</td>\n",
              "      <td>NaN</td>\n",
              "      <td>NaT</td>\n",
              "      <td>NaT</td>\n",
              "      <td>0.505761</td>\n",
              "      <td>0.49997</td>\n",
              "      <td>0.0</td>\n",
              "      <td>0.0</td>\n",
              "      <td>1.0</td>\n",
              "      <td>1.0</td>\n",
              "      <td>2.0</td>\n",
              "    </tr>\n",
              "    <tr>\n",
              "      <th>IsSurgical</th>\n",
              "      <td>814818</td>\n",
              "      <td>3</td>\n",
              "      <td>Non-Surgical</td>\n",
              "      <td>452899</td>\n",
              "      <td>NaT</td>\n",
              "      <td>NaT</td>\n",
              "      <td>NaN</td>\n",
              "      <td>NaN</td>\n",
              "      <td>NaN</td>\n",
              "      <td>NaN</td>\n",
              "      <td>NaN</td>\n",
              "      <td>NaN</td>\n",
              "      <td>NaN</td>\n",
              "    </tr>\n",
              "    <tr>\n",
              "      <th>IsLTM</th>\n",
              "      <td>814818</td>\n",
              "      <td>2</td>\n",
              "      <td>Acute</td>\n",
              "      <td>715684</td>\n",
              "      <td>NaT</td>\n",
              "      <td>NaT</td>\n",
              "      <td>NaN</td>\n",
              "      <td>NaN</td>\n",
              "      <td>NaN</td>\n",
              "      <td>NaN</td>\n",
              "      <td>NaN</td>\n",
              "      <td>NaN</td>\n",
              "      <td>NaN</td>\n",
              "    </tr>\n",
              "    <tr>\n",
              "      <th>IsMultipleDiag</th>\n",
              "      <td>814818</td>\n",
              "      <td>2</td>\n",
              "      <td>N</td>\n",
              "      <td>814073</td>\n",
              "      <td>NaT</td>\n",
              "      <td>NaT</td>\n",
              "      <td>NaN</td>\n",
              "      <td>NaN</td>\n",
              "      <td>NaN</td>\n",
              "      <td>NaN</td>\n",
              "      <td>NaN</td>\n",
              "      <td>NaN</td>\n",
              "      <td>NaN</td>\n",
              "    </tr>\n",
              "    <tr>\n",
              "      <th>BenefitPlan</th>\n",
              "      <td>814740</td>\n",
              "      <td>5551</td>\n",
              "      <td>PLAN30</td>\n",
              "      <td>25118</td>\n",
              "      <td>NaT</td>\n",
              "      <td>NaT</td>\n",
              "      <td>NaN</td>\n",
              "      <td>NaN</td>\n",
              "      <td>NaN</td>\n",
              "      <td>NaN</td>\n",
              "      <td>NaN</td>\n",
              "      <td>NaN</td>\n",
              "      <td>NaN</td>\n",
              "    </tr>\n",
              "    <tr>\n",
              "      <th>EmployeeID</th>\n",
              "      <td>814818</td>\n",
              "      <td>209992</td>\n",
              "      <td>EETQ000160</td>\n",
              "      <td>579</td>\n",
              "      <td>NaT</td>\n",
              "      <td>NaT</td>\n",
              "      <td>NaN</td>\n",
              "      <td>NaN</td>\n",
              "      <td>NaN</td>\n",
              "      <td>NaN</td>\n",
              "      <td>NaN</td>\n",
              "      <td>NaN</td>\n",
              "      <td>NaN</td>\n",
              "    </tr>\n",
              "    <tr>\n",
              "      <th>PatientID</th>\n",
              "      <td>814818</td>\n",
              "      <td>237984</td>\n",
              "      <td>EETQ000160</td>\n",
              "      <td>578</td>\n",
              "      <td>NaT</td>\n",
              "      <td>NaT</td>\n",
              "      <td>NaN</td>\n",
              "      <td>NaN</td>\n",
              "      <td>NaN</td>\n",
              "      <td>NaN</td>\n",
              "      <td>NaN</td>\n",
              "      <td>NaN</td>\n",
              "      <td>NaN</td>\n",
              "    </tr>\n",
              "    <tr>\n",
              "      <th>Relationship</th>\n",
              "      <td>814818</td>\n",
              "      <td>4</td>\n",
              "      <td>Employee</td>\n",
              "      <td>598851</td>\n",
              "      <td>NaT</td>\n",
              "      <td>NaT</td>\n",
              "      <td>NaN</td>\n",
              "      <td>NaN</td>\n",
              "      <td>NaN</td>\n",
              "      <td>NaN</td>\n",
              "      <td>NaN</td>\n",
              "      <td>NaN</td>\n",
              "      <td>NaN</td>\n",
              "    </tr>\n",
              "    <tr>\n",
              "      <th>PatientDOB</th>\n",
              "      <td>814763</td>\n",
              "      <td>26174</td>\n",
              "      <td>3/5/1967</td>\n",
              "      <td>643</td>\n",
              "      <td>NaT</td>\n",
              "      <td>NaT</td>\n",
              "      <td>NaN</td>\n",
              "      <td>NaN</td>\n",
              "      <td>NaN</td>\n",
              "      <td>NaN</td>\n",
              "      <td>NaN</td>\n",
              "      <td>NaN</td>\n",
              "      <td>NaN</td>\n",
              "    </tr>\n",
              "    <tr>\n",
              "      <th>AgeBand</th>\n",
              "      <td>814818</td>\n",
              "      <td>7</td>\n",
              "      <td>40 to 49</td>\n",
              "      <td>206719</td>\n",
              "      <td>NaT</td>\n",
              "      <td>NaT</td>\n",
              "      <td>NaN</td>\n",
              "      <td>NaN</td>\n",
              "      <td>NaN</td>\n",
              "      <td>NaN</td>\n",
              "      <td>NaN</td>\n",
              "      <td>NaN</td>\n",
              "      <td>NaN</td>\n",
              "    </tr>\n",
              "    <tr>\n",
              "      <th>PatientGender</th>\n",
              "      <td>769114</td>\n",
              "      <td>11</td>\n",
              "      <td>M</td>\n",
              "      <td>406103</td>\n",
              "      <td>NaT</td>\n",
              "      <td>NaT</td>\n",
              "      <td>NaN</td>\n",
              "      <td>NaN</td>\n",
              "      <td>NaN</td>\n",
              "      <td>NaN</td>\n",
              "      <td>NaN</td>\n",
              "      <td>NaN</td>\n",
              "      <td>NaN</td>\n",
              "    </tr>\n",
              "    <tr>\n",
              "      <th>MedicalProviders</th>\n",
              "      <td>814747</td>\n",
              "      <td>1399</td>\n",
              "      <td>OTHERS</td>\n",
              "      <td>60899</td>\n",
              "      <td>NaT</td>\n",
              "      <td>NaT</td>\n",
              "      <td>NaN</td>\n",
              "      <td>NaN</td>\n",
              "      <td>NaN</td>\n",
              "      <td>NaN</td>\n",
              "      <td>NaN</td>\n",
              "      <td>NaN</td>\n",
              "      <td>NaN</td>\n",
              "    </tr>\n",
              "    <tr>\n",
              "      <th>Diagnosis</th>\n",
              "      <td>764590</td>\n",
              "      <td>3369</td>\n",
              "      <td>GASTRITIS, UNSPECIFIED</td>\n",
              "      <td>25190</td>\n",
              "      <td>NaT</td>\n",
              "      <td>NaT</td>\n",
              "      <td>NaN</td>\n",
              "      <td>NaN</td>\n",
              "      <td>NaN</td>\n",
              "      <td>NaN</td>\n",
              "      <td>NaN</td>\n",
              "      <td>NaN</td>\n",
              "      <td>NaN</td>\n",
              "    </tr>\n",
              "    <tr>\n",
              "      <th>DiagnosisGroup</th>\n",
              "      <td>762382</td>\n",
              "      <td>95</td>\n",
              "      <td>Diseases of the musculoskeletal system and con...</td>\n",
              "      <td>128293</td>\n",
              "      <td>NaT</td>\n",
              "      <td>NaT</td>\n",
              "      <td>NaN</td>\n",
              "      <td>NaN</td>\n",
              "      <td>NaN</td>\n",
              "      <td>NaN</td>\n",
              "      <td>NaN</td>\n",
              "      <td>NaN</td>\n",
              "      <td>NaN</td>\n",
              "    </tr>\n",
              "    <tr>\n",
              "      <th>HospCharges</th>\n",
              "      <td>814818</td>\n",
              "      <td>6</td>\n",
              "      <td>MEDIUM</td>\n",
              "      <td>336825</td>\n",
              "      <td>NaT</td>\n",
              "      <td>NaT</td>\n",
              "      <td>NaN</td>\n",
              "      <td>NaN</td>\n",
              "      <td>NaN</td>\n",
              "      <td>NaN</td>\n",
              "      <td>NaN</td>\n",
              "      <td>NaN</td>\n",
              "      <td>NaN</td>\n",
              "    </tr>\n",
              "    <tr>\n",
              "      <th>Doctor</th>\n",
              "      <td>748312</td>\n",
              "      <td>76871</td>\n",
              "      <td>PHYSIOTHERAPIST</td>\n",
              "      <td>34841</td>\n",
              "      <td>NaT</td>\n",
              "      <td>NaT</td>\n",
              "      <td>NaN</td>\n",
              "      <td>NaN</td>\n",
              "      <td>NaN</td>\n",
              "      <td>NaN</td>\n",
              "      <td>NaN</td>\n",
              "      <td>NaN</td>\n",
              "      <td>NaN</td>\n",
              "    </tr>\n",
              "    <tr>\n",
              "      <th>ICDCode</th>\n",
              "      <td>764590</td>\n",
              "      <td>3060</td>\n",
              "      <td>K29.7</td>\n",
              "      <td>25210</td>\n",
              "      <td>NaT</td>\n",
              "      <td>NaT</td>\n",
              "      <td>NaN</td>\n",
              "      <td>NaN</td>\n",
              "      <td>NaN</td>\n",
              "      <td>NaN</td>\n",
              "      <td>NaN</td>\n",
              "      <td>NaN</td>\n",
              "      <td>NaN</td>\n",
              "    </tr>\n",
              "    <tr>\n",
              "      <th>ProviderState</th>\n",
              "      <td>752727</td>\n",
              "      <td>18</td>\n",
              "      <td>SELANGOR</td>\n",
              "      <td>298364</td>\n",
              "      <td>NaT</td>\n",
              "      <td>NaT</td>\n",
              "      <td>NaN</td>\n",
              "      <td>NaN</td>\n",
              "      <td>NaN</td>\n",
              "      <td>NaN</td>\n",
              "      <td>NaN</td>\n",
              "      <td>NaN</td>\n",
              "      <td>NaN</td>\n",
              "    </tr>\n",
              "    <tr>\n",
              "      <th>IsPanel</th>\n",
              "      <td>814818</td>\n",
              "      <td>2</td>\n",
              "      <td>Panel</td>\n",
              "      <td>688971</td>\n",
              "      <td>NaT</td>\n",
              "      <td>NaT</td>\n",
              "      <td>NaN</td>\n",
              "      <td>NaN</td>\n",
              "      <td>NaN</td>\n",
              "      <td>NaN</td>\n",
              "      <td>NaN</td>\n",
              "      <td>NaN</td>\n",
              "      <td>NaN</td>\n",
              "    </tr>\n",
              "    <tr>\n",
              "      <th>IndustryField</th>\n",
              "      <td>814818</td>\n",
              "      <td>175</td>\n",
              "      <td>Insurance</td>\n",
              "      <td>110289</td>\n",
              "      <td>NaT</td>\n",
              "      <td>NaT</td>\n",
              "      <td>NaN</td>\n",
              "      <td>NaN</td>\n",
              "      <td>NaN</td>\n",
              "      <td>NaN</td>\n",
              "      <td>NaN</td>\n",
              "      <td>NaN</td>\n",
              "      <td>NaN</td>\n",
              "    </tr>\n",
              "    <tr>\n",
              "      <th>Corporate</th>\n",
              "      <td>814818.0</td>\n",
              "      <td>NaN</td>\n",
              "      <td>NaN</td>\n",
              "      <td>NaN</td>\n",
              "      <td>NaT</td>\n",
              "      <td>NaT</td>\n",
              "      <td>3519.218495</td>\n",
              "      <td>2024.87313</td>\n",
              "      <td>0.0</td>\n",
              "      <td>1671.0</td>\n",
              "      <td>3778.0</td>\n",
              "      <td>5532.0</td>\n",
              "      <td>6619.0</td>\n",
              "    </tr>\n",
              "  </tbody>\n",
              "</table>\n",
              "</div>\n",
              "      <button class=\"colab-df-convert\" onclick=\"convertToInteractive('df-e766c695-8eb1-4a09-aa50-98e86606f3ee')\"\n",
              "              title=\"Convert this dataframe to an interactive table.\"\n",
              "              style=\"display:none;\">\n",
              "        \n",
              "  <svg xmlns=\"http://www.w3.org/2000/svg\" height=\"24px\"viewBox=\"0 0 24 24\"\n",
              "       width=\"24px\">\n",
              "    <path d=\"M0 0h24v24H0V0z\" fill=\"none\"/>\n",
              "    <path d=\"M18.56 5.44l.94 2.06.94-2.06 2.06-.94-2.06-.94-.94-2.06-.94 2.06-2.06.94zm-11 1L8.5 8.5l.94-2.06 2.06-.94-2.06-.94L8.5 2.5l-.94 2.06-2.06.94zm10 10l.94 2.06.94-2.06 2.06-.94-2.06-.94-.94-2.06-.94 2.06-2.06.94z\"/><path d=\"M17.41 7.96l-1.37-1.37c-.4-.4-.92-.59-1.43-.59-.52 0-1.04.2-1.43.59L10.3 9.45l-7.72 7.72c-.78.78-.78 2.05 0 2.83L4 21.41c.39.39.9.59 1.41.59.51 0 1.02-.2 1.41-.59l7.78-7.78 2.81-2.81c.8-.78.8-2.07 0-2.86zM5.41 20L4 18.59l7.72-7.72 1.47 1.35L5.41 20z\"/>\n",
              "  </svg>\n",
              "      </button>\n",
              "      \n",
              "  <style>\n",
              "    .colab-df-container {\n",
              "      display:flex;\n",
              "      flex-wrap:wrap;\n",
              "      gap: 12px;\n",
              "    }\n",
              "\n",
              "    .colab-df-convert {\n",
              "      background-color: #E8F0FE;\n",
              "      border: none;\n",
              "      border-radius: 50%;\n",
              "      cursor: pointer;\n",
              "      display: none;\n",
              "      fill: #1967D2;\n",
              "      height: 32px;\n",
              "      padding: 0 0 0 0;\n",
              "      width: 32px;\n",
              "    }\n",
              "\n",
              "    .colab-df-convert:hover {\n",
              "      background-color: #E2EBFA;\n",
              "      box-shadow: 0px 1px 2px rgba(60, 64, 67, 0.3), 0px 1px 3px 1px rgba(60, 64, 67, 0.15);\n",
              "      fill: #174EA6;\n",
              "    }\n",
              "\n",
              "    [theme=dark] .colab-df-convert {\n",
              "      background-color: #3B4455;\n",
              "      fill: #D2E3FC;\n",
              "    }\n",
              "\n",
              "    [theme=dark] .colab-df-convert:hover {\n",
              "      background-color: #434B5C;\n",
              "      box-shadow: 0px 1px 3px 1px rgba(0, 0, 0, 0.15);\n",
              "      filter: drop-shadow(0px 1px 2px rgba(0, 0, 0, 0.3));\n",
              "      fill: #FFFFFF;\n",
              "    }\n",
              "  </style>\n",
              "\n",
              "      <script>\n",
              "        const buttonEl =\n",
              "          document.querySelector('#df-e766c695-8eb1-4a09-aa50-98e86606f3ee button.colab-df-convert');\n",
              "        buttonEl.style.display =\n",
              "          google.colab.kernel.accessAllowed ? 'block' : 'none';\n",
              "\n",
              "        async function convertToInteractive(key) {\n",
              "          const element = document.querySelector('#df-e766c695-8eb1-4a09-aa50-98e86606f3ee');\n",
              "          const dataTable =\n",
              "            await google.colab.kernel.invokeFunction('convertToInteractive',\n",
              "                                                     [key], {});\n",
              "          if (!dataTable) return;\n",
              "\n",
              "          const docLinkHtml = 'Like what you see? Visit the ' +\n",
              "            '<a target=\"_blank\" href=https://colab.research.google.com/notebooks/data_table.ipynb>data table notebook</a>'\n",
              "            + ' to learn more about interactive tables.';\n",
              "          element.innerHTML = '';\n",
              "          dataTable['output_type'] = 'display_data';\n",
              "          await google.colab.output.renderOutput(dataTable, element);\n",
              "          const docLink = document.createElement('div');\n",
              "          docLink.innerHTML = docLinkHtml;\n",
              "          element.appendChild(docLink);\n",
              "        }\n",
              "      </script>\n",
              "    </div>\n",
              "  </div>\n",
              "  "
            ]
          },
          "metadata": {},
          "execution_count": 27
        }
      ]
    },
    {
      "cell_type": "markdown",
      "source": [
        "### DATA VISUALIZATION"
      ],
      "metadata": {
        "id": "gRXx9zq3bHHN"
      }
    },
    {
      "cell_type": "code",
      "source": [
        "df[['AmountInsured']].boxplot()"
      ],
      "metadata": {
        "id": "fSPFhJNKDm6b",
        "outputId": "1c96f5cc-e67b-44d2-e791-0aeb0f123db4",
        "colab": {
          "base_uri": "https://localhost:8080/"
        }
      },
      "execution_count": null,
      "outputs": [
        {
          "output_type": "execute_result",
          "data": {
            "text/plain": [
              "<AxesSubplot:>"
            ]
          },
          "metadata": {},
          "execution_count": 28
        },
        {
          "output_type": "display_data",
          "data": {
            "text/plain": [
              "<Figure size 864x432 with 1 Axes>"
            ],
            "image/png": "[encoded data removed]"
          },
          "metadata": {}
        }
      ]
    },
    {
      "cell_type": "code",
      "source": [
        "df[['AmountIncurred']].boxplot()"
      ],
      "metadata": {
        "id": "bt0yTJ929Mxx",
        "outputId": "d071060a-6ffe-4d37-c174-d8b5eeb6d462",
        "colab": {
          "base_uri": "https://localhost:8080/"
        }
      },
      "execution_count": null,
      "outputs": [
        {
          "output_type": "execute_result",
          "data": {
            "text/plain": [
              "<AxesSubplot:>"
            ]
          },
          "metadata": {},
          "execution_count": 29
        },
        {
          "output_type": "display_data",
          "data": {
            "text/plain": [
              "<Figure size 864x432 with 1 Axes>"
            ],
            "image/png": "[encoded data removed]"
          },
          "metadata": {}
        }
      ]
    },
    {
      "cell_type": "code",
      "source": [
        "df[['MCDays']].boxplot()"
      ],
      "metadata": {
        "id": "R7hZyNOz_wvv",
        "outputId": "aca5fe27-9c01-474a-b69f-66e81968039a",
        "colab": {
          "base_uri": "https://localhost:8080/"
        }
      },
      "execution_count": null,
      "outputs": [
        {
          "output_type": "execute_result",
          "data": {
            "text/plain": [
              "<AxesSubplot:>"
            ]
          },
          "metadata": {},
          "execution_count": 30
        },
        {
          "output_type": "display_data",
          "data": {
            "text/plain": [
              "<Figure size 864x432 with 1 Axes>"
            ],
            "image/png": "[encoded data removed]"
          },
          "metadata": {}
        }
      ]
    },
    {
      "cell_type": "code",
      "source": [
        "plt.figure(figsize=(12,8),dpi=100)\n",
        "sns.boxplot(data=df, x='AgeBand', y='AmountInsured')"
      ],
      "metadata": {
        "id": "Fhxkiz9TikFT",
        "colab": {
          "base_uri": "https://localhost:8080/"
        },
        "outputId": "8023ebad-d1ef-4b69-8b0f-5b80ba6908cc"
      },
      "execution_count": null,
      "outputs": [
        {
          "output_type": "execute_result",
          "data": {
            "text/plain": [
              "<AxesSubplot:xlabel='AgeBand', ylabel='AmountInsured'>"
            ]
          },
          "metadata": {},
          "execution_count": 31
        },
        {
          "output_type": "display_data",
          "data": {
            "text/plain": [
              "<Figure size 1200x800 with 1 Axes>"
            ],
            "image/png": "[encoded data removed]"
          },
          "metadata": {}
        }
      ]
    },
    {
      "cell_type": "code",
      "source": [
        "df.groupby(['AgeBand']).mean()['AmountInsured'].sort_values(ascending=True)\n",
        "\n"
      ],
      "metadata": {
        "id": "SSQQjt_mi05n",
        "colab": {
          "base_uri": "https://localhost:8080/"
        },
        "outputId": "17e1cdd8-4086-450b-f94f-b2eb01fe4782"
      },
      "execution_count": null,
      "outputs": [
        {
          "output_type": "execute_result",
          "data": {
            "text/plain": [
              "AgeBand\n",
              "0 to 12     2986.171961\n",
              "30 to 39    3426.257682\n",
              "20 to 29    3545.818186\n",
              "40 to 49    3547.656986\n",
              "13 to 19    3702.329536\n",
              "50 to 59    3850.456430\n",
              "60 ≤        5725.241814\n",
              "Name: AmountInsured, dtype: float64"
            ]
          },
          "metadata": {},
          "execution_count": 32
        }
      ]
    },
    {
      "cell_type": "code",
      "source": [
        "df.groupby(['IndustryField']).mean()['AmountInsured'].sort_values(ascending=True)"
      ],
      "metadata": {
        "id": "XtmFasbgr9jN",
        "outputId": "bcc3cb60-5f04-4548-8c7a-cb06f2112e7a",
        "colab": {
          "base_uri": "https://localhost:8080/"
        }
      },
      "execution_count": null,
      "outputs": [
        {
          "output_type": "execute_result",
          "data": {
            "text/plain": [
              "IndustryField\n",
              "Design And Install Signages                                916.983333\n",
              "Consultant -Hr/Human Capital                              1728.965652\n",
              "Video Game Industry                                       1968.697500\n",
              "Direct Selling Co/Biz                                     1978.098262\n",
              "Manufacturing - Disposable Surgical/Medical Equipment     2079.465729\n",
              "                                                             ...     \n",
              "Exhibition                                                7950.219412\n",
              "Printing Of Packaging Boxes                               8223.430000\n",
              "Construction And Renovation                              11527.788000\n",
              "Trading & Consultancy                                    12160.220000\n",
              "Not Available                                            12599.792000\n",
              "Name: AmountInsured, Length: 175, dtype: float64"
            ]
          },
          "metadata": {},
          "execution_count": 33
        }
      ]
    },
    {
      "cell_type": "code",
      "source": [
        "sns.barplot(data=df, x='AgeBand', y='AmountInsured')"
      ],
      "metadata": {
        "id": "dSTC54XJi2Va",
        "colab": {
          "base_uri": "https://localhost:8080/"
        },
        "outputId": "62060c57-ffa9-488f-dc6a-968e277c42ed"
      },
      "execution_count": null,
      "outputs": [
        {
          "output_type": "execute_result",
          "data": {
            "text/plain": [
              "<AxesSubplot:xlabel='AgeBand', ylabel='AmountInsured'>"
            ]
          },
          "metadata": {},
          "execution_count": 35
        },
        {
          "output_type": "display_data",
          "data": {
            "text/plain": [
              "<Figure size 864x432 with 1 Axes>"
            ],
            "image/png": "[encoded data removed]"
          },
          "metadata": {}
        }
      ]
    },
    {
      "cell_type": "code",
      "source": [
        "plt.figure(figsize=(12,8),dpi=200)\n",
        "plt.xticks(rotation=90)\n",
        "sns.countplot(data=df, x='AgeBand');"
      ],
      "metadata": {
        "id": "o1AQlD7vjEqa",
        "colab": {
          "base_uri": "https://localhost:8080/"
        },
        "outputId": "4d616fed-75de-43cd-9f88-549196b6784c"
      },
      "execution_count": null,
      "outputs": [
        {
          "output_type": "display_data",
          "data": {
            "text/plain": [
              "<Figure size 2400x1600 with 1 Axes>"
            ],
            "image/png": "[encoded data removed]"
          },
          "metadata": {}
        }
      ]
    },
    {
      "cell_type": "code",
      "source": [
        "sns.displot(data=df, x='AmountInsured', kde=True)"
      ],
      "metadata": {
        "id": "vUf8ADa5jMxN",
        "colab": {
          "base_uri": "https://localhost:8080/"
        },
        "outputId": "6103d733-455e-4726-9dfe-a584576d7ce3"
      },
      "execution_count": null,
      "outputs": [
        {
          "output_type": "execute_result",
          "data": {
            "text/plain": [
              "<seaborn.axisgrid.FacetGrid at 0x7f1f0d834190>"
            ]
          },
          "metadata": {},
          "execution_count": 38
        },
        {
          "output_type": "display_data",
          "data": {
            "text/plain": [
              "<Figure size 360x360 with 1 Axes>"
            ],
            "image/png": "[encoded data removed]"
          },
          "metadata": {}
        }
      ]
    },
    {
      "cell_type": "code",
      "source": [
        "sns.set(style='whitegrid')\n",
        "f, ax = plt.subplots(1,1, figsize=(12, 8))\n",
        "ax = sns.distplot(df['charges'], kde = True, color = 'c')\n",
        "plt.title('Distribution of Charges')"
      ],
      "metadata": {
        "id": "sNimvxAzkESP",
        "colab": {
          "base_uri": "https://localhost:8080/",
          "height": 974
        },
        "outputId": "ef6160a9-de02-4fd6-e9c7-89ee36b84e43"
      },
      "execution_count": null,
      "outputs": [
        {
          "output_type": "error",
          "ename": "KeyError",
          "evalue": "ignored",
          "traceback": [
            "\u001b[0;31m---------------------------------------------------------------------------\u001b[0m",
            "\u001b[0;31mKeyError\u001b[0m                                  Traceback (most recent call last)",
            "\u001b[0;32m/usr/local/lib/python3.8/dist-packages/pandas/core/indexes/base.py\u001b[0m in \u001b[0;36mget_loc\u001b[0;34m(self, key, method, tolerance)\u001b[0m\n\u001b[1;32m   3360\u001b[0m             \u001b[0;32mtry\u001b[0m\u001b[0;34m:\u001b[0m\u001b[0;34m\u001b[0m\u001b[0;34m\u001b[0m\u001b[0m\n\u001b[0;32m-> 3361\u001b[0;31m                 \u001b[0;32mreturn\u001b[0m \u001b[0mself\u001b[0m\u001b[0;34m.\u001b[0m\u001b[0m_engine\u001b[0m\u001b[0;34m.\u001b[0m\u001b[0mget_loc\u001b[0m\u001b[0;34m(\u001b[0m\u001b[0mcasted_key\u001b[0m\u001b[0;34m)\u001b[0m\u001b[0;34m\u001b[0m\u001b[0;34m\u001b[0m\u001b[0m\n\u001b[0m\u001b[1;32m   3362\u001b[0m             \u001b[0;32mexcept\u001b[0m \u001b[0mKeyError\u001b[0m \u001b[0;32mas\u001b[0m \u001b[0merr\u001b[0m\u001b[0;34m:\u001b[0m\u001b[0;34m\u001b[0m\u001b[0;34m\u001b[0m\u001b[0m\n",
            "\u001b[0;32m/usr/local/lib/python3.8/dist-packages/pandas/_libs/index.pyx\u001b[0m in \u001b[0;36mpandas._libs.index.IndexEngine.get_loc\u001b[0;34m()\u001b[0m\n",
            "\u001b[0;32m/usr/local/lib/python3.8/dist-packages/pandas/_libs/index.pyx\u001b[0m in \u001b[0;36mpandas._libs.index.IndexEngine.get_loc\u001b[0;34m()\u001b[0m\n",
            "\u001b[0;32mpandas/_libs/hashtable_class_helper.pxi\u001b[0m in \u001b[0;36mpandas._libs.hashtable.PyObjectHashTable.get_item\u001b[0;34m()\u001b[0m\n",
            "\u001b[0;32mpandas/_libs/hashtable_class_helper.pxi\u001b[0m in \u001b[0;36mpandas._libs.hashtable.PyObjectHashTable.get_item\u001b[0;34m()\u001b[0m\n",
            "\u001b[0;31mKeyError\u001b[0m: 'charges'",
            "\nThe above exception was the direct cause of the following exception:\n",
            "\u001b[0;31mKeyError\u001b[0m                                  Traceback (most recent call last)",
            "\u001b[0;32m<ipython-input-25-deef4314f6c1>\u001b[0m in \u001b[0;36m<module>\u001b[0;34m\u001b[0m\n\u001b[1;32m      1\u001b[0m \u001b[0msns\u001b[0m\u001b[0;34m.\u001b[0m\u001b[0mset\u001b[0m\u001b[0;34m(\u001b[0m\u001b[0mstyle\u001b[0m\u001b[0;34m=\u001b[0m\u001b[0;34m'whitegrid'\u001b[0m\u001b[0;34m)\u001b[0m\u001b[0;34m\u001b[0m\u001b[0;34m\u001b[0m\u001b[0m\n\u001b[1;32m      2\u001b[0m \u001b[0mf\u001b[0m\u001b[0;34m,\u001b[0m \u001b[0max\u001b[0m \u001b[0;34m=\u001b[0m \u001b[0mplt\u001b[0m\u001b[0;34m.\u001b[0m\u001b[0msubplots\u001b[0m\u001b[0;34m(\u001b[0m\u001b[0;36m1\u001b[0m\u001b[0;34m,\u001b[0m\u001b[0;36m1\u001b[0m\u001b[0;34m,\u001b[0m \u001b[0mfigsize\u001b[0m\u001b[0;34m=\u001b[0m\u001b[0;34m(\u001b[0m\u001b[0;36m12\u001b[0m\u001b[0;34m,\u001b[0m \u001b[0;36m8\u001b[0m\u001b[0;34m)\u001b[0m\u001b[0;34m)\u001b[0m\u001b[0;34m\u001b[0m\u001b[0;34m\u001b[0m\u001b[0m\n\u001b[0;32m----> 3\u001b[0;31m \u001b[0max\u001b[0m \u001b[0;34m=\u001b[0m \u001b[0msns\u001b[0m\u001b[0;34m.\u001b[0m\u001b[0mdistplot\u001b[0m\u001b[0;34m(\u001b[0m\u001b[0mdf\u001b[0m\u001b[0;34m[\u001b[0m\u001b[0;34m'charges'\u001b[0m\u001b[0;34m]\u001b[0m\u001b[0;34m,\u001b[0m \u001b[0mkde\u001b[0m \u001b[0;34m=\u001b[0m \u001b[0;32mTrue\u001b[0m\u001b[0;34m,\u001b[0m \u001b[0mcolor\u001b[0m \u001b[0;34m=\u001b[0m \u001b[0;34m'c'\u001b[0m\u001b[0;34m)\u001b[0m\u001b[0;34m\u001b[0m\u001b[0;34m\u001b[0m\u001b[0m\n\u001b[0m\u001b[1;32m      4\u001b[0m \u001b[0mplt\u001b[0m\u001b[0;34m.\u001b[0m\u001b[0mtitle\u001b[0m\u001b[0;34m(\u001b[0m\u001b[0;34m'Distribution of Charges'\u001b[0m\u001b[0;34m)\u001b[0m\u001b[0;34m\u001b[0m\u001b[0;34m\u001b[0m\u001b[0m\n",
            "\u001b[0;32m/usr/local/lib/python3.8/dist-packages/pandas/core/frame.py\u001b[0m in \u001b[0;36m__getitem__\u001b[0;34m(self, key)\u001b[0m\n\u001b[1;32m   3456\u001b[0m             \u001b[0;32mif\u001b[0m \u001b[0mself\u001b[0m\u001b[0;34m.\u001b[0m\u001b[0mcolumns\u001b[0m\u001b[0;34m.\u001b[0m\u001b[0mnlevels\u001b[0m \u001b[0;34m>\u001b[0m \u001b[0;36m1\u001b[0m\u001b[0;34m:\u001b[0m\u001b[0;34m\u001b[0m\u001b[0;34m\u001b[0m\u001b[0m\n\u001b[1;32m   3457\u001b[0m                 \u001b[0;32mreturn\u001b[0m \u001b[0mself\u001b[0m\u001b[0;34m.\u001b[0m\u001b[0m_getitem_multilevel\u001b[0m\u001b[0;34m(\u001b[0m\u001b[0mkey\u001b[0m\u001b[0;34m)\u001b[0m\u001b[0;34m\u001b[0m\u001b[0;34m\u001b[0m\u001b[0m\n\u001b[0;32m-> 3458\u001b[0;31m             \u001b[0mindexer\u001b[0m \u001b[0;34m=\u001b[0m \u001b[0mself\u001b[0m\u001b[0;34m.\u001b[0m\u001b[0mcolumns\u001b[0m\u001b[0;34m.\u001b[0m\u001b[0mget_loc\u001b[0m\u001b[0;34m(\u001b[0m\u001b[0mkey\u001b[0m\u001b[0;34m)\u001b[0m\u001b[0;34m\u001b[0m\u001b[0;34m\u001b[0m\u001b[0m\n\u001b[0m\u001b[1;32m   3459\u001b[0m             \u001b[0;32mif\u001b[0m \u001b[0mis_integer\u001b[0m\u001b[0;34m(\u001b[0m\u001b[0mindexer\u001b[0m\u001b[0;34m)\u001b[0m\u001b[0;34m:\u001b[0m\u001b[0;34m\u001b[0m\u001b[0;34m\u001b[0m\u001b[0m\n\u001b[1;32m   3460\u001b[0m                 \u001b[0mindexer\u001b[0m \u001b[0;34m=\u001b[0m \u001b[0;34m[\u001b[0m\u001b[0mindexer\u001b[0m\u001b[0;34m]\u001b[0m\u001b[0;34m\u001b[0m\u001b[0;34m\u001b[0m\u001b[0m\n",
            "\u001b[0;32m/usr/local/lib/python3.8/dist-packages/pandas/core/indexes/base.py\u001b[0m in \u001b[0;36mget_loc\u001b[0;34m(self, key, method, tolerance)\u001b[0m\n\u001b[1;32m   3361\u001b[0m                 \u001b[0;32mreturn\u001b[0m \u001b[0mself\u001b[0m\u001b[0;34m.\u001b[0m\u001b[0m_engine\u001b[0m\u001b[0;34m.\u001b[0m\u001b[0mget_loc\u001b[0m\u001b[0;34m(\u001b[0m\u001b[0mcasted_key\u001b[0m\u001b[0;34m)\u001b[0m\u001b[0;34m\u001b[0m\u001b[0;34m\u001b[0m\u001b[0m\n\u001b[1;32m   3362\u001b[0m             \u001b[0;32mexcept\u001b[0m \u001b[0mKeyError\u001b[0m \u001b[0;32mas\u001b[0m \u001b[0merr\u001b[0m\u001b[0;34m:\u001b[0m\u001b[0;34m\u001b[0m\u001b[0;34m\u001b[0m\u001b[0m\n\u001b[0;32m-> 3363\u001b[0;31m                 \u001b[0;32mraise\u001b[0m \u001b[0mKeyError\u001b[0m\u001b[0;34m(\u001b[0m\u001b[0mkey\u001b[0m\u001b[0;34m)\u001b[0m \u001b[0;32mfrom\u001b[0m \u001b[0merr\u001b[0m\u001b[0;34m\u001b[0m\u001b[0;34m\u001b[0m\u001b[0m\n\u001b[0m\u001b[1;32m   3364\u001b[0m \u001b[0;34m\u001b[0m\u001b[0m\n\u001b[1;32m   3365\u001b[0m         \u001b[0;32mif\u001b[0m \u001b[0mis_scalar\u001b[0m\u001b[0;34m(\u001b[0m\u001b[0mkey\u001b[0m\u001b[0;34m)\u001b[0m \u001b[0;32mand\u001b[0m \u001b[0misna\u001b[0m\u001b[0;34m(\u001b[0m\u001b[0mkey\u001b[0m\u001b[0;34m)\u001b[0m \u001b[0;32mand\u001b[0m \u001b[0;32mnot\u001b[0m \u001b[0mself\u001b[0m\u001b[0;34m.\u001b[0m\u001b[0mhasnans\u001b[0m\u001b[0;34m:\u001b[0m\u001b[0;34m\u001b[0m\u001b[0;34m\u001b[0m\u001b[0m\n",
            "\u001b[0;31mKeyError\u001b[0m: 'charges'"
          ]
        },
        {
          "output_type": "display_data",
          "data": {
            "text/plain": [
              "<Figure size 864x576 with 1 Axes>"
            ],
            "image/png": "[encoded data removed]"
          },
          "metadata": {}
        }
      ]
    },
    {
      "cell_type": "markdown",
      "source": [
        "### Correlation Checking"
      ],
      "metadata": {
        "id": "87v_5pSXZCdo"
      }
    },
    {
      "cell_type": "code",
      "source": [
        "SpearmanCorr = df(method=\"spearman\")\n",
        "matplotlib.pyplot.figure(figsize=(10,10))\n",
        "sns.heatmap(SpearmanCorr, vmax=.9, square=True, annot=True, linewidths=.3, cmap=\"YlGnBu\", fmt='.1f')"
      ],
      "metadata": {
        "id": "tg6TCddZZAFZ",
        "colab": {
          "base_uri": "https://localhost:8080/",
          "height": 235
        },
        "outputId": "0533770c-8d3b-4e03-e765-e05272345f7a"
      },
      "execution_count": null,
      "outputs": [
        {
          "output_type": "error",
          "ename": "TypeError",
          "evalue": "ignored",
          "traceback": [
            "\u001b[0;31m---------------------------------------------------------------------------\u001b[0m",
            "\u001b[0;31mTypeError\u001b[0m                                 Traceback (most recent call last)",
            "\u001b[0;32m<ipython-input-34-6e444bb3a510>\u001b[0m in \u001b[0;36m<module>\u001b[0;34m\u001b[0m\n\u001b[1;32m      2\u001b[0m \u001b[0;32mimport\u001b[0m \u001b[0mmatplotlib\u001b[0m\u001b[0;34m.\u001b[0m\u001b[0mpyplot\u001b[0m \u001b[0;32mas\u001b[0m \u001b[0mplt\u001b[0m\u001b[0;34m\u001b[0m\u001b[0;34m\u001b[0m\u001b[0m\n\u001b[1;32m      3\u001b[0m \u001b[0;34m\u001b[0m\u001b[0m\n\u001b[0;32m----> 4\u001b[0;31m \u001b[0mSpearmanCorr\u001b[0m \u001b[0;34m=\u001b[0m \u001b[0mdf\u001b[0m\u001b[0;34m(\u001b[0m\u001b[0mmethod\u001b[0m\u001b[0;34m=\u001b[0m\u001b[0;34m\"spearman\"\u001b[0m\u001b[0;34m)\u001b[0m\u001b[0;34m\u001b[0m\u001b[0;34m\u001b[0m\u001b[0m\n\u001b[0m\u001b[1;32m      5\u001b[0m \u001b[0mmatplotlib\u001b[0m\u001b[0;34m.\u001b[0m\u001b[0mpyplot\u001b[0m\u001b[0;34m.\u001b[0m\u001b[0mfigure\u001b[0m\u001b[0;34m(\u001b[0m\u001b[0mfigsize\u001b[0m\u001b[0;34m=\u001b[0m\u001b[0;34m(\u001b[0m\u001b[0;36m10\u001b[0m\u001b[0;34m,\u001b[0m\u001b[0;36m10\u001b[0m\u001b[0;34m)\u001b[0m\u001b[0;34m)\u001b[0m\u001b[0;34m\u001b[0m\u001b[0;34m\u001b[0m\u001b[0m\n\u001b[1;32m      6\u001b[0m \u001b[0msns\u001b[0m\u001b[0;34m.\u001b[0m\u001b[0mheatmap\u001b[0m\u001b[0;34m(\u001b[0m\u001b[0mSpearmanCorr\u001b[0m\u001b[0;34m,\u001b[0m \u001b[0mvmax\u001b[0m\u001b[0;34m=\u001b[0m\u001b[0;36m.9\u001b[0m\u001b[0;34m,\u001b[0m \u001b[0msquare\u001b[0m\u001b[0;34m=\u001b[0m\u001b[0;32mTrue\u001b[0m\u001b[0;34m,\u001b[0m \u001b[0mannot\u001b[0m\u001b[0;34m=\u001b[0m\u001b[0;32mTrue\u001b[0m\u001b[0;34m,\u001b[0m \u001b[0mlinewidths\u001b[0m\u001b[0;34m=\u001b[0m\u001b[0;36m.3\u001b[0m\u001b[0;34m,\u001b[0m \u001b[0mcmap\u001b[0m\u001b[0;34m=\u001b[0m\u001b[0;34m\"YlGnBu\"\u001b[0m\u001b[0;34m,\u001b[0m \u001b[0mfmt\u001b[0m\u001b[0;34m=\u001b[0m\u001b[0;34m'.1f'\u001b[0m\u001b[0;34m)\u001b[0m\u001b[0;34m\u001b[0m\u001b[0;34m\u001b[0m\u001b[0m\n",
            "\u001b[0;31mTypeError\u001b[0m: 'DataFrame' object is not callable"
          ]
        }
      ]
    },
    {
      "cell_type": "code",
      "source": [
        "# Study of relationships between variables\n",
        "###sns.pairplot(df) -- session crashed will happen"
      ],
      "metadata": {
        "id": "e98YNm0c8iEC"
      },
      "execution_count": null,
      "outputs": []
    },
    {
      "cell_type": "code",
      "source": [
        "sns.countplot(df['TypeOfClaims']).unique()"
      ],
      "metadata": {
        "id": "WvCPNtRk-Q5N",
        "outputId": "d0ba3491-67dc-4a76-a39d-7d3dce70d8ca",
        "colab": {
          "base_uri": "https://localhost:8080/"
        }
      },
      "execution_count": null,
      "outputs": [
        {
          "output_type": "stream",
          "name": "stderr",
          "text": [
            "/usr/local/lib/python3.9/dist-packages/seaborn/_decorators.py:36: FutureWarning: Pass the following variable as a keyword arg: x. From version 0.12, the only valid positional argument will be `data`, and passing other arguments without an explicit keyword will result in an error or misinterpretation.\n",
            "  warnings.warn(\n"
          ]
        },
        {
          "output_type": "error",
          "ename": "AttributeError",
          "evalue": "ignored",
          "traceback": [
            "\u001b[0;31m---------------------------------------------------------------------------\u001b[0m",
            "\u001b[0;31mAttributeError\u001b[0m                            Traceback (most recent call last)",
            "\u001b[0;32m<ipython-input-39-d27bafaf3f69>\u001b[0m in \u001b[0;36m<module>\u001b[0;34m\u001b[0m\n\u001b[0;32m----> 1\u001b[0;31m \u001b[0msns\u001b[0m\u001b[0;34m.\u001b[0m\u001b[0mcountplot\u001b[0m\u001b[0;34m(\u001b[0m\u001b[0mdf\u001b[0m\u001b[0;34m[\u001b[0m\u001b[0;34m'TypeOfClaims'\u001b[0m\u001b[0;34m]\u001b[0m\u001b[0;34m)\u001b[0m\u001b[0;34m.\u001b[0m\u001b[0munique\u001b[0m\u001b[0;34m(\u001b[0m\u001b[0;34m)\u001b[0m\u001b[0;34m\u001b[0m\u001b[0;34m\u001b[0m\u001b[0m\n\u001b[0m",
            "\u001b[0;31mAttributeError\u001b[0m: 'AxesSubplot' object has no attribute 'unique'"
          ]
        },
        {
          "output_type": "display_data",
          "data": {
            "text/plain": [
              "<Figure size 864x432 with 1 Axes>"
            ],
            "image/png": "[encoded data removed]"
          },
          "metadata": {}
        }
      ]
    },
    {
      "cell_type": "code",
      "source": [
        "df.corr()"
      ],
      "metadata": {
        "colab": {
          "base_uri": "https://localhost:8080/"
        },
        "id": "TiAzpAhJxXL4",
        "outputId": "dfccb1c3-b7b3-4f95-fb4a-8eeb9b5b4691"
      },
      "execution_count": null,
      "outputs": [
        {
          "output_type": "execute_result",
          "data": {
            "text/plain": [
              "                  MCDays  AmountIncurred  AmountInsured  ExcessPaid  \\\n",
              "MCDays          1.000000        0.036514       0.042283    0.012250   \n",
              "AmountIncurred  0.036514        1.000000       0.709562    0.753638   \n",
              "AmountInsured   0.042283        0.709562       1.000000    0.071598   \n",
              "ExcessPaid      0.012250        0.753638       0.071598    1.000000   \n",
              "TotalVisit     -0.030275        0.326800       0.467276    0.026716   \n",
              "Corporate      -0.013306        0.018063       0.025703    0.001593   \n",
              "\n",
              "                TotalVisit  Corporate  \n",
              "MCDays           -0.030275  -0.013306  \n",
              "AmountIncurred    0.326800   0.018063  \n",
              "AmountInsured     0.467276   0.025703  \n",
              "ExcessPaid        0.026716   0.001593  \n",
              "TotalVisit        1.000000   0.173271  \n",
              "Corporate         0.173271   1.000000  "
            ],
            "text/html": [
              "\n",
              "  <div id=\"df-46383fbb-6bb7-46b2-9a91-2c33f2090cf5\">\n",
              "    <div class=\"colab-df-container\">\n",
              "      <div>\n",
              "<style scoped>\n",
              "    .dataframe tbody tr th:only-of-type {\n",
              "        vertical-align: middle;\n",
              "    }\n",
              "\n",
              "    .dataframe tbody tr th {\n",
              "        vertical-align: top;\n",
              "    }\n",
              "\n",
              "    .dataframe thead th {\n",
              "        text-align: right;\n",
              "    }\n",
              "</style>\n",
              "<table border=\"1\" class=\"dataframe\">\n",
              "  <thead>\n",
              "    <tr style=\"text-align: right;\">\n",
              "      <th></th>\n",
              "      <th>MCDays</th>\n",
              "      <th>AmountIncurred</th>\n",
              "      <th>AmountInsured</th>\n",
              "      <th>ExcessPaid</th>\n",
              "      <th>TotalVisit</th>\n",
              "      <th>Corporate</th>\n",
              "    </tr>\n",
              "  </thead>\n",
              "  <tbody>\n",
              "    <tr>\n",
              "      <th>MCDays</th>\n",
              "      <td>1.000000</td>\n",
              "      <td>0.036514</td>\n",
              "      <td>0.042283</td>\n",
              "      <td>0.012250</td>\n",
              "      <td>-0.030275</td>\n",
              "      <td>-0.013306</td>\n",
              "    </tr>\n",
              "    <tr>\n",
              "      <th>AmountIncurred</th>\n",
              "      <td>0.036514</td>\n",
              "      <td>1.000000</td>\n",
              "      <td>0.709562</td>\n",
              "      <td>0.753638</td>\n",
              "      <td>0.326800</td>\n",
              "      <td>0.018063</td>\n",
              "    </tr>\n",
              "    <tr>\n",
              "      <th>AmountInsured</th>\n",
              "      <td>0.042283</td>\n",
              "      <td>0.709562</td>\n",
              "      <td>1.000000</td>\n",
              "      <td>0.071598</td>\n",
              "      <td>0.467276</td>\n",
              "      <td>0.025703</td>\n",
              "    </tr>\n",
              "    <tr>\n",
              "      <th>ExcessPaid</th>\n",
              "      <td>0.012250</td>\n",
              "      <td>0.753638</td>\n",
              "      <td>0.071598</td>\n",
              "      <td>1.000000</td>\n",
              "      <td>0.026716</td>\n",
              "      <td>0.001593</td>\n",
              "    </tr>\n",
              "    <tr>\n",
              "      <th>TotalVisit</th>\n",
              "      <td>-0.030275</td>\n",
              "      <td>0.326800</td>\n",
              "      <td>0.467276</td>\n",
              "      <td>0.026716</td>\n",
              "      <td>1.000000</td>\n",
              "      <td>0.173271</td>\n",
              "    </tr>\n",
              "    <tr>\n",
              "      <th>Corporate</th>\n",
              "      <td>-0.013306</td>\n",
              "      <td>0.018063</td>\n",
              "      <td>0.025703</td>\n",
              "      <td>0.001593</td>\n",
              "      <td>0.173271</td>\n",
              "      <td>1.000000</td>\n",
              "    </tr>\n",
              "  </tbody>\n",
              "</table>\n",
              "</div>\n",
              "      <button class=\"colab-df-convert\" onclick=\"convertToInteractive('df-46383fbb-6bb7-46b2-9a91-2c33f2090cf5')\"\n",
              "              title=\"Convert this dataframe to an interactive table.\"\n",
              "              style=\"display:none;\">\n",
              "        \n",
              "  <svg xmlns=\"http://www.w3.org/2000/svg\" height=\"24px\"viewBox=\"0 0 24 24\"\n",
              "       width=\"24px\">\n",
              "    <path d=\"M0 0h24v24H0V0z\" fill=\"none\"/>\n",
              "    <path d=\"M18.56 5.44l.94 2.06.94-2.06 2.06-.94-2.06-.94-.94-2.06-.94 2.06-2.06.94zm-11 1L8.5 8.5l.94-2.06 2.06-.94-2.06-.94L8.5 2.5l-.94 2.06-2.06.94zm10 10l.94 2.06.94-2.06 2.06-.94-2.06-.94-.94-2.06-.94 2.06-2.06.94z\"/><path d=\"M17.41 7.96l-1.37-1.37c-.4-.4-.92-.59-1.43-.59-.52 0-1.04.2-1.43.59L10.3 9.45l-7.72 7.72c-.78.78-.78 2.05 0 2.83L4 21.41c.39.39.9.59 1.41.59.51 0 1.02-.2 1.41-.59l7.78-7.78 2.81-2.81c.8-.78.8-2.07 0-2.86zM5.41 20L4 18.59l7.72-7.72 1.47 1.35L5.41 20z\"/>\n",
              "  </svg>\n",
              "      </button>\n",
              "      \n",
              "  <style>\n",
              "    .colab-df-container {\n",
              "      display:flex;\n",
              "      flex-wrap:wrap;\n",
              "      gap: 12px;\n",
              "    }\n",
              "\n",
              "    .colab-df-convert {\n",
              "      background-color: #E8F0FE;\n",
              "      border: none;\n",
              "      border-radius: 50%;\n",
              "      cursor: pointer;\n",
              "      display: none;\n",
              "      fill: #1967D2;\n",
              "      height: 32px;\n",
              "      padding: 0 0 0 0;\n",
              "      width: 32px;\n",
              "    }\n",
              "\n",
              "    .colab-df-convert:hover {\n",
              "      background-color: #E2EBFA;\n",
              "      box-shadow: 0px 1px 2px rgba(60, 64, 67, 0.3), 0px 1px 3px 1px rgba(60, 64, 67, 0.15);\n",
              "      fill: #174EA6;\n",
              "    }\n",
              "\n",
              "    [theme=dark] .colab-df-convert {\n",
              "      background-color: #3B4455;\n",
              "      fill: #D2E3FC;\n",
              "    }\n",
              "\n",
              "    [theme=dark] .colab-df-convert:hover {\n",
              "      background-color: #434B5C;\n",
              "      box-shadow: 0px 1px 3px 1px rgba(0, 0, 0, 0.15);\n",
              "      filter: drop-shadow(0px 1px 2px rgba(0, 0, 0, 0.3));\n",
              "      fill: #FFFFFF;\n",
              "    }\n",
              "  </style>\n",
              "\n",
              "      <script>\n",
              "        const buttonEl =\n",
              "          document.querySelector('#df-46383fbb-6bb7-46b2-9a91-2c33f2090cf5 button.colab-df-convert');\n",
              "        buttonEl.style.display =\n",
              "          google.colab.kernel.accessAllowed ? 'block' : 'none';\n",
              "\n",
              "        async function convertToInteractive(key) {\n",
              "          const element = document.querySelector('#df-46383fbb-6bb7-46b2-9a91-2c33f2090cf5');\n",
              "          const dataTable =\n",
              "            await google.colab.kernel.invokeFunction('convertToInteractive',\n",
              "                                                     [key], {});\n",
              "          if (!dataTable) return;\n",
              "\n",
              "          const docLinkHtml = 'Like what you see? Visit the ' +\n",
              "            '<a target=\"_blank\" href=https://colab.research.google.com/notebooks/data_table.ipynb>data table notebook</a>'\n",
              "            + ' to learn more about interactive tables.';\n",
              "          element.innerHTML = '';\n",
              "          dataTable['output_type'] = 'display_data';\n",
              "          await google.colab.output.renderOutput(dataTable, element);\n",
              "          const docLink = document.createElement('div');\n",
              "          docLink.innerHTML = docLinkHtml;\n",
              "          element.appendChild(docLink);\n",
              "        }\n",
              "      </script>\n",
              "    </div>\n",
              "  </div>\n",
              "  "
            ]
          },
          "metadata": {},
          "execution_count": 40
        }
      ]
    },
    {
      "cell_type": "code",
      "source": [
        "sns.heatmap(df.corr())"
      ],
      "metadata": {
        "colab": {
          "base_uri": "https://localhost:8080/"
        },
        "id": "evhxilN0xf8b",
        "outputId": "e75617bf-0991-4681-c77b-cd88b4ad5bfc"
      },
      "execution_count": null,
      "outputs": [
        {
          "output_type": "execute_result",
          "data": {
            "text/plain": [
              "<AxesSubplot:>"
            ]
          },
          "metadata": {},
          "execution_count": 41
        },
        {
          "output_type": "display_data",
          "data": {
            "text/plain": [
              "<Figure size 864x432 with 2 Axes>"
            ],
            "image/png": "[encoded data removed]"
          },
          "metadata": {}
        }
      ]
    }
  ]
}