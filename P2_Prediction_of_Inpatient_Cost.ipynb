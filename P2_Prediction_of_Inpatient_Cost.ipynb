{
  "nbformat": 4,
  "nbformat_minor": 0,
  "metadata": {
    "colab": {
      "provenance": [],
      "include_colab_link": true
    },
    "kernelspec": {
      "name": "python3",
      "display_name": "Python 3"
    },
    "language_info": {
      "name": "python"
    }
  },
  "cells": [
    {
      "cell_type": "markdown",
      "metadata": {
        "id": "view-in-github",
        "colab_type": "text"
      },
      "source": [
        "<a href=\"https://colab.research.google.com/github/AngieChong/Research-Paper/blob/main/P2_Prediction_of_Inpatient_Cost.ipynb\" target=\"_parent\"><img src=\"https://colab.research.google.com/assets/colab-badge.svg\" alt=\"Open In Colab\"/></a>"
      ]
    },
    {
      "cell_type": "markdown",
      "source": [
        "## DATASETS - Inpatient"
      ],
      "metadata": {
        "id": "pWSRgpaZgnmK"
      }
    },
    {
      "cell_type": "code",
      "source": [
        "from google.colab import files\n",
        "\n",
        "uploaded = files.upload()\n",
        "\n",
        "for fn in uploaded.keys():\n",
        "  print('User uploaded file \"{name}\" with length {length} bytes'.format(\n",
        "      name=fn, length=len(uploaded[fn])))"
      ],
      "metadata": {
        "colab": {
          "base_uri": "https://localhost:8080/",
          "height": 90
        },
        "id": "oPkggjQUYc9S",
        "outputId": "62c9a38b-6c1b-4d1c-b6fc-6761c1530d0c"
      },
      "execution_count": 1,
      "outputs": [
        {
          "output_type": "display_data",
          "data": {
            "text/plain": [
              "<IPython.core.display.HTML object>"
            ],
            "text/html": [
              "\n",
              "     <input type=\"file\" id=\"files-2fe09bb3-2837-49a0-a562-a74f6e4c076d\" name=\"files[]\" multiple disabled\n",
              "        style=\"border:none\" />\n",
              "     <output id=\"result-2fe09bb3-2837-49a0-a562-a74f6e4c076d\">\n",
              "      Upload widget is only available when the cell has been executed in the\n",
              "      current browser session. Please rerun this cell to enable.\n",
              "      </output>\n",
              "      <script>// Copyright 2017 Google LLC\n",
              "//\n",
              "// Licensed under the Apache License, Version 2.0 (the \"License\");\n",
              "// you may not use this file except in compliance with the License.\n",
              "// You may obtain a copy of the License at\n",
              "//\n",
              "//      http://www.apache.org/licenses/LICENSE-2.0\n",
              "//\n",
              "// Unless required by applicable law or agreed to in writing, software\n",
              "// distributed under the License is distributed on an \"AS IS\" BASIS,\n",
              "// WITHOUT WARRANTIES OR CONDITIONS OF ANY KIND, either express or implied.\n",
              "// See the License for the specific language governing permissions and\n",
              "// limitations under the License.\n",
              "\n",
              "/**\n",
              " * @fileoverview Helpers for google.colab Python module.\n",
              " */\n",
              "(function(scope) {\n",
              "function span(text, styleAttributes = {}) {\n",
              "  const element = document.createElement('span');\n",
              "  element.textContent = text;\n",
              "  for (const key of Object.keys(styleAttributes)) {\n",
              "    element.style[key] = styleAttributes[key];\n",
              "  }\n",
              "  return element;\n",
              "}\n",
              "\n",
              "// Max number of bytes which will be uploaded at a time.\n",
              "const MAX_PAYLOAD_SIZE = 100 * 1024;\n",
              "\n",
              "function _uploadFiles(inputId, outputId) {\n",
              "  const steps = uploadFilesStep(inputId, outputId);\n",
              "  const outputElement = document.getElementById(outputId);\n",
              "  // Cache steps on the outputElement to make it available for the next call\n",
              "  // to uploadFilesContinue from Python.\n",
              "  outputElement.steps = steps;\n",
              "\n",
              "  return _uploadFilesContinue(outputId);\n",
              "}\n",
              "\n",
              "// This is roughly an async generator (not supported in the browser yet),\n",
              "// where there are multiple asynchronous steps and the Python side is going\n",
              "// to poll for completion of each step.\n",
              "// This uses a Promise to block the python side on completion of each step,\n",
              "// then passes the result of the previous step as the input to the next step.\n",
              "function _uploadFilesContinue(outputId) {\n",
              "  const outputElement = document.getElementById(outputId);\n",
              "  const steps = outputElement.steps;\n",
              "\n",
              "  const next = steps.next(outputElement.lastPromiseValue);\n",
              "  return Promise.resolve(next.value.promise).then((value) => {\n",
              "    // Cache the last promise value to make it available to the next\n",
              "    // step of the generator.\n",
              "    outputElement.lastPromiseValue = value;\n",
              "    return next.value.response;\n",
              "  });\n",
              "}\n",
              "\n",
              "/**\n",
              " * Generator function which is called between each async step of the upload\n",
              " * process.\n",
              " * @param {string} inputId Element ID of the input file picker element.\n",
              " * @param {string} outputId Element ID of the output display.\n",
              " * @return {!Iterable<!Object>} Iterable of next steps.\n",
              " */\n",
              "function* uploadFilesStep(inputId, outputId) {\n",
              "  const inputElement = document.getElementById(inputId);\n",
              "  inputElement.disabled = false;\n",
              "\n",
              "  const outputElement = document.getElementById(outputId);\n",
              "  outputElement.innerHTML = '';\n",
              "\n",
              "  const pickedPromise = new Promise((resolve) => {\n",
              "    inputElement.addEventListener('change', (e) => {\n",
              "      resolve(e.target.files);\n",
              "    });\n",
              "  });\n",
              "\n",
              "  const cancel = document.createElement('button');\n",
              "  inputElement.parentElement.appendChild(cancel);\n",
              "  cancel.textContent = 'Cancel upload';\n",
              "  const cancelPromise = new Promise((resolve) => {\n",
              "    cancel.onclick = () => {\n",
              "      resolve(null);\n",
              "    };\n",
              "  });\n",
              "\n",
              "  // Wait for the user to pick the files.\n",
              "  const files = yield {\n",
              "    promise: Promise.race([pickedPromise, cancelPromise]),\n",
              "    response: {\n",
              "      action: 'starting',\n",
              "    }\n",
              "  };\n",
              "\n",
              "  cancel.remove();\n",
              "\n",
              "  // Disable the input element since further picks are not allowed.\n",
              "  inputElement.disabled = true;\n",
              "\n",
              "  if (!files) {\n",
              "    return {\n",
              "      response: {\n",
              "        action: 'complete',\n",
              "      }\n",
              "    };\n",
              "  }\n",
              "\n",
              "  for (const file of files) {\n",
              "    const li = document.createElement('li');\n",
              "    li.append(span(file.name, {fontWeight: 'bold'}));\n",
              "    li.append(span(\n",
              "        `(${file.type || 'n/a'}) - ${file.size} bytes, ` +\n",
              "        `last modified: ${\n",
              "            file.lastModifiedDate ? file.lastModifiedDate.toLocaleDateString() :\n",
              "                                    'n/a'} - `));\n",
              "    const percent = span('0% done');\n",
              "    li.appendChild(percent);\n",
              "\n",
              "    outputElement.appendChild(li);\n",
              "\n",
              "    const fileDataPromise = new Promise((resolve) => {\n",
              "      const reader = new FileReader();\n",
              "      reader.onload = (e) => {\n",
              "        resolve(e.target.result);\n",
              "      };\n",
              "      reader.readAsArrayBuffer(file);\n",
              "    });\n",
              "    // Wait for the data to be ready.\n",
              "    let fileData = yield {\n",
              "      promise: fileDataPromise,\n",
              "      response: {\n",
              "        action: 'continue',\n",
              "      }\n",
              "    };\n",
              "\n",
              "    // Use a chunked sending to avoid message size limits. See b/62115660.\n",
              "    let position = 0;\n",
              "    do {\n",
              "      const length = Math.min(fileData.byteLength - position, MAX_PAYLOAD_SIZE);\n",
              "      const chunk = new Uint8Array(fileData, position, length);\n",
              "      position += length;\n",
              "\n",
              "      const base64 = btoa(String.fromCharCode.apply(null, chunk));\n",
              "      yield {\n",
              "        response: {\n",
              "          action: 'append',\n",
              "          file: file.name,\n",
              "          data: base64,\n",
              "        },\n",
              "      };\n",
              "\n",
              "      let percentDone = fileData.byteLength === 0 ?\n",
              "          100 :\n",
              "          Math.round((position / fileData.byteLength) * 100);\n",
              "      percent.textContent = `${percentDone}% done`;\n",
              "\n",
              "    } while (position < fileData.byteLength);\n",
              "  }\n",
              "\n",
              "  // All done.\n",
              "  yield {\n",
              "    response: {\n",
              "      action: 'complete',\n",
              "    }\n",
              "  };\n",
              "}\n",
              "\n",
              "scope.google = scope.google || {};\n",
              "scope.google.colab = scope.google.colab || {};\n",
              "scope.google.colab._files = {\n",
              "  _uploadFiles,\n",
              "  _uploadFilesContinue,\n",
              "};\n",
              "})(self);\n",
              "</script> "
            ]
          },
          "metadata": {}
        },
        {
          "output_type": "stream",
          "name": "stdout",
          "text": [
            "Saving Inpatient_2019-2022_NEW.csv to Inpatient_2019-2022_NEW.csv\n",
            "User uploaded file \"Inpatient_2019-2022_NEW.csv\" with length 292638384 bytes\n"
          ]
        }
      ]
    },
    {
      "cell_type": "code",
      "source": [
        "import pandas as pd\n",
        "df = pd.read_csv(\"Inpatient_2019-2022_NEW.csv\")\n",
        "df.head(2)"
      ],
      "metadata": {
        "colab": {
          "base_uri": "https://localhost:8080/",
          "height": 344
        },
        "id": "t33uRR-XhQUS",
        "outputId": "df35b7d6-360d-4ea4-bde3-22fbc29de1b2"
      },
      "execution_count": 5,
      "outputs": [
        {
          "output_type": "execute_result",
          "data": {
            "text/plain": [
              "                                       Corporate  ClaimType          ClaimNo  \\\n",
              "0  HESS EXPLORATION AND PRODUCTION MALAYSIA B.V.  Inpatient  HESSCIP09190002   \n",
              "1  HESS EXPLORATION AND PRODUCTION MALAYSIA B.V.  Inpatient  HESSCIP10190003   \n",
              "\n",
              "        Date DischargeDate  MCDays  AmountIncurred  AmountInsured  ExcessPaid  \\\n",
              "0  26/6/2019     28/6/2019     2.0          6626.9         5000.0      1626.9   \n",
              "1  30/6/2019      1/7/2019     1.0          3641.0         3641.0         0.0   \n",
              "\n",
              "      Status  ... PatientGender  \\\n",
              "0  PROCESSED  ...             F   \n",
              "1  PROCESSED  ...             F   \n",
              "\n",
              "                                    MedicalProviders            Diagnosis  \\\n",
              "0                  ANDORRA WOMEN & CHILDREN HOSPITAL  Outcome of delivery   \n",
              "1  OHANA SPECIALIST HOSPITAL (FORMELY KNOWN AS RA...  Outcome of delivery   \n",
              "\n",
              "                                      DiagnosisGroup HospCharges  \\\n",
              "0  Factors influencing health status and contact ...        HIGH   \n",
              "1  Factors influencing health status and contact ...        HIGH   \n",
              "\n",
              "                Doctor ICDCode ProviderState IsPanel  \\\n",
              "0  KHAMSIAH BINTI MUDA     Z37      SELANGOR       0   \n",
              "1        KAMARIA IDRIS     Z37  KUALA LUMPUR       0   \n",
              "\n",
              "                   IndustryField  \n",
              "0  Manufacturing Factory/Company  \n",
              "1  Manufacturing Factory/Company  \n",
              "\n",
              "[2 rows x 31 columns]"
            ],
            "text/html": [
              "\n",
              "  <div id=\"df-1fe6825f-9047-49df-ae64-8513258805f5\">\n",
              "    <div class=\"colab-df-container\">\n",
              "      <div>\n",
              "<style scoped>\n",
              "    .dataframe tbody tr th:only-of-type {\n",
              "        vertical-align: middle;\n",
              "    }\n",
              "\n",
              "    .dataframe tbody tr th {\n",
              "        vertical-align: top;\n",
              "    }\n",
              "\n",
              "    .dataframe thead th {\n",
              "        text-align: right;\n",
              "    }\n",
              "</style>\n",
              "<table border=\"1\" class=\"dataframe\">\n",
              "  <thead>\n",
              "    <tr style=\"text-align: right;\">\n",
              "      <th></th>\n",
              "      <th>Corporate</th>\n",
              "      <th>ClaimType</th>\n",
              "      <th>ClaimNo</th>\n",
              "      <th>Date</th>\n",
              "      <th>DischargeDate</th>\n",
              "      <th>MCDays</th>\n",
              "      <th>AmountIncurred</th>\n",
              "      <th>AmountInsured</th>\n",
              "      <th>ExcessPaid</th>\n",
              "      <th>Status</th>\n",
              "      <th>...</th>\n",
              "      <th>PatientGender</th>\n",
              "      <th>MedicalProviders</th>\n",
              "      <th>Diagnosis</th>\n",
              "      <th>DiagnosisGroup</th>\n",
              "      <th>HospCharges</th>\n",
              "      <th>Doctor</th>\n",
              "      <th>ICDCode</th>\n",
              "      <th>ProviderState</th>\n",
              "      <th>IsPanel</th>\n",
              "      <th>IndustryField</th>\n",
              "    </tr>\n",
              "  </thead>\n",
              "  <tbody>\n",
              "    <tr>\n",
              "      <th>0</th>\n",
              "      <td>HESS EXPLORATION AND PRODUCTION MALAYSIA B.V.</td>\n",
              "      <td>Inpatient</td>\n",
              "      <td>HESSCIP09190002</td>\n",
              "      <td>26/6/2019</td>\n",
              "      <td>28/6/2019</td>\n",
              "      <td>2.0</td>\n",
              "      <td>6626.9</td>\n",
              "      <td>5000.0</td>\n",
              "      <td>1626.9</td>\n",
              "      <td>PROCESSED</td>\n",
              "      <td>...</td>\n",
              "      <td>F</td>\n",
              "      <td>ANDORRA WOMEN &amp; CHILDREN HOSPITAL</td>\n",
              "      <td>Outcome of delivery</td>\n",
              "      <td>Factors influencing health status and contact ...</td>\n",
              "      <td>HIGH</td>\n",
              "      <td>KHAMSIAH BINTI MUDA</td>\n",
              "      <td>Z37</td>\n",
              "      <td>SELANGOR</td>\n",
              "      <td>0</td>\n",
              "      <td>Manufacturing Factory/Company</td>\n",
              "    </tr>\n",
              "    <tr>\n",
              "      <th>1</th>\n",
              "      <td>HESS EXPLORATION AND PRODUCTION MALAYSIA B.V.</td>\n",
              "      <td>Inpatient</td>\n",
              "      <td>HESSCIP10190003</td>\n",
              "      <td>30/6/2019</td>\n",
              "      <td>1/7/2019</td>\n",
              "      <td>1.0</td>\n",
              "      <td>3641.0</td>\n",
              "      <td>3641.0</td>\n",
              "      <td>0.0</td>\n",
              "      <td>PROCESSED</td>\n",
              "      <td>...</td>\n",
              "      <td>F</td>\n",
              "      <td>OHANA SPECIALIST HOSPITAL (FORMELY KNOWN AS RA...</td>\n",
              "      <td>Outcome of delivery</td>\n",
              "      <td>Factors influencing health status and contact ...</td>\n",
              "      <td>HIGH</td>\n",
              "      <td>KAMARIA IDRIS</td>\n",
              "      <td>Z37</td>\n",
              "      <td>KUALA LUMPUR</td>\n",
              "      <td>0</td>\n",
              "      <td>Manufacturing Factory/Company</td>\n",
              "    </tr>\n",
              "  </tbody>\n",
              "</table>\n",
              "<p>2 rows × 31 columns</p>\n",
              "</div>\n",
              "      <button class=\"colab-df-convert\" onclick=\"convertToInteractive('df-1fe6825f-9047-49df-ae64-8513258805f5')\"\n",
              "              title=\"Convert this dataframe to an interactive table.\"\n",
              "              style=\"display:none;\">\n",
              "        \n",
              "  <svg xmlns=\"http://www.w3.org/2000/svg\" height=\"24px\"viewBox=\"0 0 24 24\"\n",
              "       width=\"24px\">\n",
              "    <path d=\"M0 0h24v24H0V0z\" fill=\"none\"/>\n",
              "    <path d=\"M18.56 5.44l.94 2.06.94-2.06 2.06-.94-2.06-.94-.94-2.06-.94 2.06-2.06.94zm-11 1L8.5 8.5l.94-2.06 2.06-.94-2.06-.94L8.5 2.5l-.94 2.06-2.06.94zm10 10l.94 2.06.94-2.06 2.06-.94-2.06-.94-.94-2.06-.94 2.06-2.06.94z\"/><path d=\"M17.41 7.96l-1.37-1.37c-.4-.4-.92-.59-1.43-.59-.52 0-1.04.2-1.43.59L10.3 9.45l-7.72 7.72c-.78.78-.78 2.05 0 2.83L4 21.41c.39.39.9.59 1.41.59.51 0 1.02-.2 1.41-.59l7.78-7.78 2.81-2.81c.8-.78.8-2.07 0-2.86zM5.41 20L4 18.59l7.72-7.72 1.47 1.35L5.41 20z\"/>\n",
              "  </svg>\n",
              "      </button>\n",
              "      \n",
              "  <style>\n",
              "    .colab-df-container {\n",
              "      display:flex;\n",
              "      flex-wrap:wrap;\n",
              "      gap: 12px;\n",
              "    }\n",
              "\n",
              "    .colab-df-convert {\n",
              "      background-color: #E8F0FE;\n",
              "      border: none;\n",
              "      border-radius: 50%;\n",
              "      cursor: pointer;\n",
              "      display: none;\n",
              "      fill: #1967D2;\n",
              "      height: 32px;\n",
              "      padding: 0 0 0 0;\n",
              "      width: 32px;\n",
              "    }\n",
              "\n",
              "    .colab-df-convert:hover {\n",
              "      background-color: #E2EBFA;\n",
              "      box-shadow: 0px 1px 2px rgba(60, 64, 67, 0.3), 0px 1px 3px 1px rgba(60, 64, 67, 0.15);\n",
              "      fill: #174EA6;\n",
              "    }\n",
              "\n",
              "    [theme=dark] .colab-df-convert {\n",
              "      background-color: #3B4455;\n",
              "      fill: #D2E3FC;\n",
              "    }\n",
              "\n",
              "    [theme=dark] .colab-df-convert:hover {\n",
              "      background-color: #434B5C;\n",
              "      box-shadow: 0px 1px 3px 1px rgba(0, 0, 0, 0.15);\n",
              "      filter: drop-shadow(0px 1px 2px rgba(0, 0, 0, 0.3));\n",
              "      fill: #FFFFFF;\n",
              "    }\n",
              "  </style>\n",
              "\n",
              "      <script>\n",
              "        const buttonEl =\n",
              "          document.querySelector('#df-1fe6825f-9047-49df-ae64-8513258805f5 button.colab-df-convert');\n",
              "        buttonEl.style.display =\n",
              "          google.colab.kernel.accessAllowed ? 'block' : 'none';\n",
              "\n",
              "        async function convertToInteractive(key) {\n",
              "          const element = document.querySelector('#df-1fe6825f-9047-49df-ae64-8513258805f5');\n",
              "          const dataTable =\n",
              "            await google.colab.kernel.invokeFunction('convertToInteractive',\n",
              "                                                     [key], {});\n",
              "          if (!dataTable) return;\n",
              "\n",
              "          const docLinkHtml = 'Like what you see? Visit the ' +\n",
              "            '<a target=\"_blank\" href=https://colab.research.google.com/notebooks/data_table.ipynb>data table notebook</a>'\n",
              "            + ' to learn more about interactive tables.';\n",
              "          element.innerHTML = '';\n",
              "          dataTable['output_type'] = 'display_data';\n",
              "          await google.colab.output.renderOutput(dataTable, element);\n",
              "          const docLink = document.createElement('div');\n",
              "          docLink.innerHTML = docLinkHtml;\n",
              "          element.appendChild(docLink);\n",
              "        }\n",
              "      </script>\n",
              "    </div>\n",
              "  </div>\n",
              "  "
            ]
          },
          "metadata": {},
          "execution_count": 5
        }
      ]
    },
    {
      "cell_type": "code",
      "source": [
        "print(df.columns)"
      ],
      "metadata": {
        "id": "GwsBR84vc01E",
        "colab": {
          "base_uri": "https://localhost:8080/"
        },
        "outputId": "34010e6b-fd92-4b6e-dcc1-04186794cfb0"
      },
      "execution_count": 6,
      "outputs": [
        {
          "output_type": "stream",
          "name": "stdout",
          "text": [
            "Index(['Corporate', 'ClaimType', 'ClaimNo', 'Date', 'DischargeDate', 'MCDays',\n",
            "       'AmountIncurred', 'AmountInsured', 'ExcessPaid', 'Status',\n",
            "       'TypeOfClaims', 'TotalVisit', 'IsSurgical', 'IsLTM', 'IsMultipleDiag',\n",
            "       'BenefitPlan', 'EmployeeID', 'PatientID', 'Relationship', 'PatientDOB',\n",
            "       'AgeBand', 'PatientGender', 'MedicalProviders', 'Diagnosis',\n",
            "       'DiagnosisGroup', 'HospCharges', 'Doctor', 'ICDCode', 'ProviderState',\n",
            "       'IsPanel', 'IndustryField'],\n",
            "      dtype='object')\n"
          ]
        }
      ]
    },
    {
      "cell_type": "code",
      "source": [
        "df.info()"
      ],
      "metadata": {
        "id": "5DgzzIO0iYRX",
        "outputId": "1d704b68-a300-4291-d65a-7cebca4db363",
        "colab": {
          "base_uri": "https://localhost:8080/"
        }
      },
      "execution_count": 10,
      "outputs": [
        {
          "output_type": "stream",
          "name": "stdout",
          "text": [
            "<class 'pandas.core.frame.DataFrame'>\n",
            "RangeIndex: 814818 entries, 0 to 814817\n",
            "Data columns (total 31 columns):\n",
            " #   Column            Non-Null Count   Dtype  \n",
            "---  ------            --------------   -----  \n",
            " 0   Corporate         814818 non-null  object \n",
            " 1   ClaimType         814818 non-null  object \n",
            " 2   ClaimNo           814818 non-null  object \n",
            " 3   Date              814818 non-null  object \n",
            " 4   DischargeDate     811953 non-null  object \n",
            " 5   MCDays            811953 non-null  float64\n",
            " 6   AmountIncurred    814818 non-null  float64\n",
            " 7   AmountInsured     814818 non-null  float64\n",
            " 8   ExcessPaid        814818 non-null  float64\n",
            " 9   Status            814818 non-null  object \n",
            " 10  TypeOfClaims      814818 non-null  object \n",
            " 11  TotalVisit        814818 non-null  int64  \n",
            " 12  IsSurgical        814818 non-null  object \n",
            " 13  IsLTM             814818 non-null  int64  \n",
            " 14  IsMultipleDiag    814818 non-null  object \n",
            " 15  BenefitPlan       814740 non-null  object \n",
            " 16  EmployeeID        814818 non-null  object \n",
            " 17  PatientID         814818 non-null  object \n",
            " 18  Relationship      814818 non-null  object \n",
            " 19  PatientDOB        814763 non-null  object \n",
            " 20  AgeBand           814818 non-null  object \n",
            " 21  PatientGender     813747 non-null  object \n",
            " 22  MedicalProviders  814747 non-null  object \n",
            " 23  Diagnosis         764590 non-null  object \n",
            " 24  DiagnosisGroup    762382 non-null  object \n",
            " 25  HospCharges       814818 non-null  object \n",
            " 26  Doctor            748312 non-null  object \n",
            " 27  ICDCode           764590 non-null  object \n",
            " 28  ProviderState     753686 non-null  object \n",
            " 29  IsPanel           814818 non-null  int64  \n",
            " 30  IndustryField     814818 non-null  object \n",
            "dtypes: float64(4), int64(3), object(24)\n",
            "memory usage: 192.7+ MB\n"
          ]
        }
      ]
    },
    {
      "cell_type": "markdown",
      "source": [
        "## DATA TRANSFORMATION"
      ],
      "metadata": {
        "id": "aSh6uI5leE2K"
      }
    },
    {
      "cell_type": "markdown",
      "source": [
        "### Encode Column (Anonymisation)\n",
        "\n",
        "Encode column for `Corporate` to ensure protection of data privacy and confidential."
      ],
      "metadata": {
        "id": "FvRYeUy8jOTQ"
      }
    },
    {
      "cell_type": "code",
      "source": [
        "#Import LabelEncoder from sklearn / DataFrameMapper from sklearn_pandas\n",
        "from sklearn.preprocessing import LabelEncoder\n",
        "from sklearn_pandas import DataFrameMapper\n",
        "\n",
        "encoders = [([\"Corporate\"], LabelEncoder())]\n",
        "mapper = DataFrameMapper(encoders, df_out=True)\n",
        "label_col = mapper.fit_transform(df.copy())\n",
        "df1 = pd.concat([df.drop(columns=[\"Corporate\"]), label_col], axis=\"columns\")\n",
        "df1.head(3)"
      ],
      "metadata": {
        "id": "dRCBykPQ68Qd",
        "outputId": "52c2429e-4b4d-4a5e-a0d9-b32ac0ba3ae4",
        "colab": {
          "base_uri": "https://localhost:8080/",
          "height": 479
        }
      },
      "execution_count": 57,
      "outputs": [
        {
          "output_type": "stream",
          "name": "stderr",
          "text": [
            "/usr/local/lib/python3.9/dist-packages/sklearn/preprocessing/_label.py:116: DataConversionWarning: A column-vector y was passed when a 1d array was expected. Please change the shape of y to (n_samples, ), for example using ravel().\n",
            "  y = column_or_1d(y, warn=True)\n"
          ]
        },
        {
          "output_type": "execute_result",
          "data": {
            "text/plain": [
              "   ClaimType          ClaimNo       Date DischargeDate  MCDays  \\\n",
              "0  Inpatient  HESSCIP09190002  26/6/2019     28/6/2019     2.0   \n",
              "1  Inpatient  HESSCIP10190003  30/6/2019      1/7/2019     1.0   \n",
              "2  Inpatient  HESSCIP10190004  26/6/2019     28/6/2019     2.0   \n",
              "\n",
              "   AmountIncurred  AmountInsured  ExcessPaid     Status TypeOfClaims  ...  \\\n",
              "0          6626.9         5000.0      1626.9  PROCESSED      GHSReim  ...   \n",
              "1          3641.0         3641.0         0.0  PROCESSED      GHSReim  ...   \n",
              "2           949.0          949.0         0.0  PROCESSED      GHSReim  ...   \n",
              "\n",
              "                                    MedicalProviders  \\\n",
              "0                  ANDORRA WOMEN & CHILDREN HOSPITAL   \n",
              "1  OHANA SPECIALIST HOSPITAL (FORMELY KNOWN AS RA...   \n",
              "2                  ANDORRA WOMEN & CHILDREN HOSPITAL   \n",
              "\n",
              "                                           Diagnosis  \\\n",
              "0                                Outcome of delivery   \n",
              "1                                Outcome of delivery   \n",
              "2  Other specified conditions of integument speci...   \n",
              "\n",
              "                                      DiagnosisGroup HospCharges  \\\n",
              "0  Factors influencing health status and contact ...        HIGH   \n",
              "1  Factors influencing health status and contact ...        HIGH   \n",
              "2  Certain conditions originating in the perinata...        HIGH   \n",
              "\n",
              "                Doctor ICDCode ProviderState IsPanel  \\\n",
              "0  KHAMSIAH BINTI MUDA     Z37      SELANGOR       0   \n",
              "1        KAMARIA IDRIS     Z37  KUALA LUMPUR       0   \n",
              "2  KHAMSIAH BINTI MUDA   P83.8      SELANGOR       0   \n",
              "\n",
              "                   IndustryField Corporate  \n",
              "0  Manufacturing Factory/Company      2240  \n",
              "1  Manufacturing Factory/Company      2240  \n",
              "2  Manufacturing Factory/Company      2240  \n",
              "\n",
              "[3 rows x 31 columns]"
            ],
            "text/html": [
              "\n",
              "  <div id=\"df-72d088cf-a143-4a0c-9064-046e50fc70ed\">\n",
              "    <div class=\"colab-df-container\">\n",
              "      <div>\n",
              "<style scoped>\n",
              "    .dataframe tbody tr th:only-of-type {\n",
              "        vertical-align: middle;\n",
              "    }\n",
              "\n",
              "    .dataframe tbody tr th {\n",
              "        vertical-align: top;\n",
              "    }\n",
              "\n",
              "    .dataframe thead th {\n",
              "        text-align: right;\n",
              "    }\n",
              "</style>\n",
              "<table border=\"1\" class=\"dataframe\">\n",
              "  <thead>\n",
              "    <tr style=\"text-align: right;\">\n",
              "      <th></th>\n",
              "      <th>ClaimType</th>\n",
              "      <th>ClaimNo</th>\n",
              "      <th>Date</th>\n",
              "      <th>DischargeDate</th>\n",
              "      <th>MCDays</th>\n",
              "      <th>AmountIncurred</th>\n",
              "      <th>AmountInsured</th>\n",
              "      <th>ExcessPaid</th>\n",
              "      <th>Status</th>\n",
              "      <th>TypeOfClaims</th>\n",
              "      <th>...</th>\n",
              "      <th>MedicalProviders</th>\n",
              "      <th>Diagnosis</th>\n",
              "      <th>DiagnosisGroup</th>\n",
              "      <th>HospCharges</th>\n",
              "      <th>Doctor</th>\n",
              "      <th>ICDCode</th>\n",
              "      <th>ProviderState</th>\n",
              "      <th>IsPanel</th>\n",
              "      <th>IndustryField</th>\n",
              "      <th>Corporate</th>\n",
              "    </tr>\n",
              "  </thead>\n",
              "  <tbody>\n",
              "    <tr>\n",
              "      <th>0</th>\n",
              "      <td>Inpatient</td>\n",
              "      <td>HESSCIP09190002</td>\n",
              "      <td>26/6/2019</td>\n",
              "      <td>28/6/2019</td>\n",
              "      <td>2.0</td>\n",
              "      <td>6626.9</td>\n",
              "      <td>5000.0</td>\n",
              "      <td>1626.9</td>\n",
              "      <td>PROCESSED</td>\n",
              "      <td>GHSReim</td>\n",
              "      <td>...</td>\n",
              "      <td>ANDORRA WOMEN &amp; CHILDREN HOSPITAL</td>\n",
              "      <td>Outcome of delivery</td>\n",
              "      <td>Factors influencing health status and contact ...</td>\n",
              "      <td>HIGH</td>\n",
              "      <td>KHAMSIAH BINTI MUDA</td>\n",
              "      <td>Z37</td>\n",
              "      <td>SELANGOR</td>\n",
              "      <td>0</td>\n",
              "      <td>Manufacturing Factory/Company</td>\n",
              "      <td>2240</td>\n",
              "    </tr>\n",
              "    <tr>\n",
              "      <th>1</th>\n",
              "      <td>Inpatient</td>\n",
              "      <td>HESSCIP10190003</td>\n",
              "      <td>30/6/2019</td>\n",
              "      <td>1/7/2019</td>\n",
              "      <td>1.0</td>\n",
              "      <td>3641.0</td>\n",
              "      <td>3641.0</td>\n",
              "      <td>0.0</td>\n",
              "      <td>PROCESSED</td>\n",
              "      <td>GHSReim</td>\n",
              "      <td>...</td>\n",
              "      <td>OHANA SPECIALIST HOSPITAL (FORMELY KNOWN AS RA...</td>\n",
              "      <td>Outcome of delivery</td>\n",
              "      <td>Factors influencing health status and contact ...</td>\n",
              "      <td>HIGH</td>\n",
              "      <td>KAMARIA IDRIS</td>\n",
              "      <td>Z37</td>\n",
              "      <td>KUALA LUMPUR</td>\n",
              "      <td>0</td>\n",
              "      <td>Manufacturing Factory/Company</td>\n",
              "      <td>2240</td>\n",
              "    </tr>\n",
              "    <tr>\n",
              "      <th>2</th>\n",
              "      <td>Inpatient</td>\n",
              "      <td>HESSCIP10190004</td>\n",
              "      <td>26/6/2019</td>\n",
              "      <td>28/6/2019</td>\n",
              "      <td>2.0</td>\n",
              "      <td>949.0</td>\n",
              "      <td>949.0</td>\n",
              "      <td>0.0</td>\n",
              "      <td>PROCESSED</td>\n",
              "      <td>GHSReim</td>\n",
              "      <td>...</td>\n",
              "      <td>ANDORRA WOMEN &amp; CHILDREN HOSPITAL</td>\n",
              "      <td>Other specified conditions of integument speci...</td>\n",
              "      <td>Certain conditions originating in the perinata...</td>\n",
              "      <td>HIGH</td>\n",
              "      <td>KHAMSIAH BINTI MUDA</td>\n",
              "      <td>P83.8</td>\n",
              "      <td>SELANGOR</td>\n",
              "      <td>0</td>\n",
              "      <td>Manufacturing Factory/Company</td>\n",
              "      <td>2240</td>\n",
              "    </tr>\n",
              "  </tbody>\n",
              "</table>\n",
              "<p>3 rows × 31 columns</p>\n",
              "</div>\n",
              "      <button class=\"colab-df-convert\" onclick=\"convertToInteractive('df-72d088cf-a143-4a0c-9064-046e50fc70ed')\"\n",
              "              title=\"Convert this dataframe to an interactive table.\"\n",
              "              style=\"display:none;\">\n",
              "        \n",
              "  <svg xmlns=\"http://www.w3.org/2000/svg\" height=\"24px\"viewBox=\"0 0 24 24\"\n",
              "       width=\"24px\">\n",
              "    <path d=\"M0 0h24v24H0V0z\" fill=\"none\"/>\n",
              "    <path d=\"M18.56 5.44l.94 2.06.94-2.06 2.06-.94-2.06-.94-.94-2.06-.94 2.06-2.06.94zm-11 1L8.5 8.5l.94-2.06 2.06-.94-2.06-.94L8.5 2.5l-.94 2.06-2.06.94zm10 10l.94 2.06.94-2.06 2.06-.94-2.06-.94-.94-2.06-.94 2.06-2.06.94z\"/><path d=\"M17.41 7.96l-1.37-1.37c-.4-.4-.92-.59-1.43-.59-.52 0-1.04.2-1.43.59L10.3 9.45l-7.72 7.72c-.78.78-.78 2.05 0 2.83L4 21.41c.39.39.9.59 1.41.59.51 0 1.02-.2 1.41-.59l7.78-7.78 2.81-2.81c.8-.78.8-2.07 0-2.86zM5.41 20L4 18.59l7.72-7.72 1.47 1.35L5.41 20z\"/>\n",
              "  </svg>\n",
              "      </button>\n",
              "      \n",
              "  <style>\n",
              "    .colab-df-container {\n",
              "      display:flex;\n",
              "      flex-wrap:wrap;\n",
              "      gap: 12px;\n",
              "    }\n",
              "\n",
              "    .colab-df-convert {\n",
              "      background-color: #E8F0FE;\n",
              "      border: none;\n",
              "      border-radius: 50%;\n",
              "      cursor: pointer;\n",
              "      display: none;\n",
              "      fill: #1967D2;\n",
              "      height: 32px;\n",
              "      padding: 0 0 0 0;\n",
              "      width: 32px;\n",
              "    }\n",
              "\n",
              "    .colab-df-convert:hover {\n",
              "      background-color: #E2EBFA;\n",
              "      box-shadow: 0px 1px 2px rgba(60, 64, 67, 0.3), 0px 1px 3px 1px rgba(60, 64, 67, 0.15);\n",
              "      fill: #174EA6;\n",
              "    }\n",
              "\n",
              "    [theme=dark] .colab-df-convert {\n",
              "      background-color: #3B4455;\n",
              "      fill: #D2E3FC;\n",
              "    }\n",
              "\n",
              "    [theme=dark] .colab-df-convert:hover {\n",
              "      background-color: #434B5C;\n",
              "      box-shadow: 0px 1px 3px 1px rgba(0, 0, 0, 0.15);\n",
              "      filter: drop-shadow(0px 1px 2px rgba(0, 0, 0, 0.3));\n",
              "      fill: #FFFFFF;\n",
              "    }\n",
              "  </style>\n",
              "\n",
              "      <script>\n",
              "        const buttonEl =\n",
              "          document.querySelector('#df-72d088cf-a143-4a0c-9064-046e50fc70ed button.colab-df-convert');\n",
              "        buttonEl.style.display =\n",
              "          google.colab.kernel.accessAllowed ? 'block' : 'none';\n",
              "\n",
              "        async function convertToInteractive(key) {\n",
              "          const element = document.querySelector('#df-72d088cf-a143-4a0c-9064-046e50fc70ed');\n",
              "          const dataTable =\n",
              "            await google.colab.kernel.invokeFunction('convertToInteractive',\n",
              "                                                     [key], {});\n",
              "          if (!dataTable) return;\n",
              "\n",
              "          const docLinkHtml = 'Like what you see? Visit the ' +\n",
              "            '<a target=\"_blank\" href=https://colab.research.google.com/notebooks/data_table.ipynb>data table notebook</a>'\n",
              "            + ' to learn more about interactive tables.';\n",
              "          element.innerHTML = '';\n",
              "          dataTable['output_type'] = 'display_data';\n",
              "          await google.colab.output.renderOutput(dataTable, element);\n",
              "          const docLink = document.createElement('div');\n",
              "          docLink.innerHTML = docLinkHtml;\n",
              "          element.appendChild(docLink);\n",
              "        }\n",
              "      </script>\n",
              "    </div>\n",
              "  </div>\n",
              "  "
            ]
          },
          "metadata": {},
          "execution_count": 57
        }
      ]
    },
    {
      "cell_type": "code",
      "source": [
        "# Encode Class Labels\n",
        "## https://www.bogotobogo.com/python/scikit-learn/scikit_machine_learning_Data_Preprocessing-Missing-Data-Categorical-Data.php\n",
        "\n",
        "color_label_encoder = LabelEncoder()\n",
        "df1[:,0] = color_label_encoder.fit_transform(df1[:,0])\n"
      ],
      "metadata": {
        "id": "nDyHlLtgDJJf"
      },
      "execution_count": null,
      "outputs": []
    },
    {
      "cell_type": "markdown",
      "source": [
        "### Change Data Types"
      ],
      "metadata": {
        "id": "SJ5mZvkmkYDG"
      }
    },
    {
      "cell_type": "code",
      "source": [
        "print(df1.dtypes)"
      ],
      "metadata": {
        "id": "4iNVHEgkj8ZT",
        "outputId": "e48022a9-1d20-4c2b-9076-19879350aeea",
        "colab": {
          "base_uri": "https://localhost:8080/"
        }
      },
      "execution_count": 58,
      "outputs": [
        {
          "output_type": "stream",
          "name": "stdout",
          "text": [
            "ClaimType            object\n",
            "ClaimNo              object\n",
            "Date                 object\n",
            "DischargeDate        object\n",
            "MCDays              float64\n",
            "AmountIncurred      float64\n",
            "AmountInsured       float64\n",
            "ExcessPaid          float64\n",
            "Status               object\n",
            "TypeOfClaims         object\n",
            "TotalVisit            int64\n",
            "IsSurgical           object\n",
            "IsLTM                 int64\n",
            "IsMultipleDiag       object\n",
            "BenefitPlan          object\n",
            "EmployeeID           object\n",
            "PatientID            object\n",
            "Relationship         object\n",
            "PatientDOB           object\n",
            "AgeBand              object\n",
            "PatientGender        object\n",
            "MedicalProviders     object\n",
            "Diagnosis            object\n",
            "DiagnosisGroup       object\n",
            "HospCharges          object\n",
            "Doctor               object\n",
            "ICDCode              object\n",
            "ProviderState        object\n",
            "IsPanel               int64\n",
            "IndustryField        object\n",
            "Corporate             int64\n",
            "dtype: object\n"
          ]
        }
      ]
    },
    {
      "cell_type": "code",
      "source": [
        "df1['Date'] = pd.to_datetime(df1['Date'])\n",
        "df1['DischargeDate'] = pd.to_datetime(df1['DischargeDate'])\n",
        "#df1['PatientDOB'] = pd.to_datetime(df1['PatientDOB'])\n",
        "df1['Corporate'] = df1['Corporate'].astype(str)\n",
        "\n",
        "print(df1.dtypes)"
      ],
      "metadata": {
        "id": "loOERCOlD_CY",
        "outputId": "0c68f9bc-aafd-4ad0-de91-fe2ab70e70bb",
        "colab": {
          "base_uri": "https://localhost:8080/"
        }
      },
      "execution_count": 59,
      "outputs": [
        {
          "output_type": "stream",
          "name": "stderr",
          "text": [
            "<ipython-input-59-84836a588e99>:1: UserWarning: Parsing dates in DD/MM/YYYY format when dayfirst=False (the default) was specified. This may lead to inconsistently parsed dates! Specify a format to ensure consistent parsing.\n",
            "  df1['Date'] = pd.to_datetime(df1['Date'])\n",
            "<ipython-input-59-84836a588e99>:2: UserWarning: Parsing dates in DD/MM/YYYY format when dayfirst=False (the default) was specified. This may lead to inconsistently parsed dates! Specify a format to ensure consistent parsing.\n",
            "  df1['DischargeDate'] = pd.to_datetime(df1['DischargeDate'])\n"
          ]
        },
        {
          "output_type": "stream",
          "name": "stdout",
          "text": [
            "ClaimType                   object\n",
            "ClaimNo                     object\n",
            "Date                datetime64[ns]\n",
            "DischargeDate       datetime64[ns]\n",
            "MCDays                     float64\n",
            "AmountIncurred             float64\n",
            "AmountInsured              float64\n",
            "ExcessPaid                 float64\n",
            "Status                      object\n",
            "TypeOfClaims                object\n",
            "TotalVisit                   int64\n",
            "IsSurgical                  object\n",
            "IsLTM                        int64\n",
            "IsMultipleDiag              object\n",
            "BenefitPlan                 object\n",
            "EmployeeID                  object\n",
            "PatientID                   object\n",
            "Relationship                object\n",
            "PatientDOB                  object\n",
            "AgeBand                     object\n",
            "PatientGender               object\n",
            "MedicalProviders            object\n",
            "Diagnosis                   object\n",
            "DiagnosisGroup              object\n",
            "HospCharges                 object\n",
            "Doctor                      object\n",
            "ICDCode                     object\n",
            "ProviderState               object\n",
            "IsPanel                      int64\n",
            "IndustryField               object\n",
            "Corporate                   object\n",
            "dtype: object\n"
          ]
        }
      ]
    },
    {
      "cell_type": "code",
      "source": [
        "## Categorical Variables\n",
        "C = (df1.dtypes == 'object')\n",
        "CategoricalVariables = list(C[C].index)\n",
        "CategoricalVariables"
      ],
      "metadata": {
        "id": "1VJ0qpCGd-SY",
        "outputId": "e86d0006-c0aa-4778-a7a8-19d119cdee72",
        "colab": {
          "base_uri": "https://localhost:8080/"
        }
      },
      "execution_count": 60,
      "outputs": [
        {
          "output_type": "execute_result",
          "data": {
            "text/plain": [
              "['ClaimType',\n",
              " 'ClaimNo',\n",
              " 'Status',\n",
              " 'TypeOfClaims',\n",
              " 'IsSurgical',\n",
              " 'IsMultipleDiag',\n",
              " 'BenefitPlan',\n",
              " 'EmployeeID',\n",
              " 'PatientID',\n",
              " 'Relationship',\n",
              " 'PatientDOB',\n",
              " 'AgeBand',\n",
              " 'PatientGender',\n",
              " 'MedicalProviders',\n",
              " 'Diagnosis',\n",
              " 'DiagnosisGroup',\n",
              " 'HospCharges',\n",
              " 'Doctor',\n",
              " 'ICDCode',\n",
              " 'ProviderState',\n",
              " 'IndustryField',\n",
              " 'Corporate']"
            ]
          },
          "metadata": {},
          "execution_count": 60
        }
      ]
    },
    {
      "cell_type": "code",
      "source": [
        "## Numerical Variables\n",
        "Integer = (df1.dtypes == 'int64') \n",
        "Float   = (df1.dtypes == 'float64') \n",
        "NumericVariables = list(Integer[Integer].index) + list(Float[Float].index)\n",
        "NumericVariables"
      ],
      "metadata": {
        "id": "ZlwcN_00emLS",
        "outputId": "ebcfa802-5c46-4791-ea1f-74188867acd2",
        "colab": {
          "base_uri": "https://localhost:8080/"
        }
      },
      "execution_count": 61,
      "outputs": [
        {
          "output_type": "execute_result",
          "data": {
            "text/plain": [
              "['TotalVisit',\n",
              " 'IsLTM',\n",
              " 'IsPanel',\n",
              " 'MCDays',\n",
              " 'AmountIncurred',\n",
              " 'AmountInsured',\n",
              " 'ExcessPaid']"
            ]
          },
          "metadata": {},
          "execution_count": 61
        }
      ]
    },
    {
      "cell_type": "code",
      "source": [
        " ## Encode Categorical Labelled Data\n",
        " \n",
        " from sklearn import preprocessing\n",
        "    le = preprocessing.LabelEncoder()\n",
        "    for column_name in df1.columns:\n",
        "        if df1[column_name].dtype == object:\n",
        "            df1[column_name] = le.fit_transform(df1[column_name])\n",
        "        else:\n",
        "            pass\n",
        "## https://stackoverflow.com/questions/30384995/randomforestclassfier-fit-valueerror-could-not-convert-string-to-float\n",
        "\n",
        "from sklearn import preprocessing\n",
        "le = preprocessing.LabelEncoder()\n",
        "for i in range(*NUMBER OF FEATURES*):\n",
        "    df1[:,i] = le.fit_transform(df1[:,i])"
      ],
      "metadata": {
        "id": "09mzJ3XuM8z5"
      },
      "execution_count": null,
      "outputs": []
    },
    {
      "cell_type": "markdown",
      "source": [
        "## DATA CLEANING"
      ],
      "metadata": {
        "id": "_x4I3Scjaaey"
      }
    },
    {
      "cell_type": "markdown",
      "source": [
        "### CHECK DUPLICATE DATA"
      ],
      "metadata": {
        "id": "IYWoHn0DsnSP"
      }
    },
    {
      "cell_type": "code",
      "source": [
        "df1.duplicated().sum()"
      ],
      "metadata": {
        "colab": {
          "base_uri": "https://localhost:8080/"
        },
        "id": "E4dTG1kSpMLv",
        "outputId": "c62220a8-f7d5-4a55-f5d0-cf6ec02b0476"
      },
      "execution_count": 62,
      "outputs": [
        {
          "output_type": "execute_result",
          "data": {
            "text/plain": [
              "0"
            ]
          },
          "metadata": {},
          "execution_count": 62
        }
      ]
    },
    {
      "cell_type": "markdown",
      "source": [
        "Based on results below show that there have no duplicated data inside the dataset."
      ],
      "metadata": {
        "id": "lifPNzjRssnV"
      }
    },
    {
      "cell_type": "markdown",
      "source": [
        "### CHECK NULL VALUES"
      ],
      "metadata": {
        "id": "0_3B_dncs-xG"
      }
    },
    {
      "cell_type": "markdown",
      "source": [
        "Total NULL Values for Each Variable:\n",
        "Baased on the results below show that total 11 out 31 variables having null values. Variables that contain NULL values are DiachargeDate, MCDays, PatientDOB, PatientGender, Diagnosis, DiagnosisGroup Doctor, ICDCode, ProviderState."
      ],
      "metadata": {
        "id": "pmYMMaD7ehfW"
      }
    },
    {
      "cell_type": "code",
      "source": [
        "df1.isnull().sum()\n",
        "## df1.isna().sum() ##produce same output"
      ],
      "metadata": {
        "id": "alQm2s7qtDv0",
        "outputId": "6bc04a04-0b49-466e-e711-ec13ce9669b6",
        "colab": {
          "base_uri": "https://localhost:8080/"
        }
      },
      "execution_count": 63,
      "outputs": [
        {
          "output_type": "execute_result",
          "data": {
            "text/plain": [
              "ClaimType               0\n",
              "ClaimNo                 0\n",
              "Date                    0\n",
              "DischargeDate        2865\n",
              "MCDays               2865\n",
              "AmountIncurred          0\n",
              "AmountInsured           0\n",
              "ExcessPaid              0\n",
              "Status                  0\n",
              "TypeOfClaims            0\n",
              "TotalVisit              0\n",
              "IsSurgical              0\n",
              "IsLTM                   0\n",
              "IsMultipleDiag          0\n",
              "BenefitPlan            78\n",
              "EmployeeID              0\n",
              "PatientID               0\n",
              "Relationship            0\n",
              "PatientDOB             55\n",
              "AgeBand                 0\n",
              "PatientGender        1071\n",
              "MedicalProviders       71\n",
              "Diagnosis           50228\n",
              "DiagnosisGroup      52436\n",
              "HospCharges             0\n",
              "Doctor              66506\n",
              "ICDCode             50228\n",
              "ProviderState       61132\n",
              "IsPanel                 0\n",
              "IndustryField           0\n",
              "Corporate               0\n",
              "dtype: int64"
            ]
          },
          "metadata": {},
          "execution_count": 63
        }
      ]
    },
    {
      "cell_type": "code",
      "source": [
        "(df.isnull().sum()/len(df))*100"
      ],
      "metadata": {
        "id": "Oek8EZlptKla",
        "outputId": "2fbfe033-6dfa-4deb-fbc6-bb9a8d6727d4",
        "colab": {
          "base_uri": "https://localhost:8080/"
        }
      },
      "execution_count": 64,
      "outputs": [
        {
          "output_type": "execute_result",
          "data": {
            "text/plain": [
              "Corporate           0.000000\n",
              "ClaimType           0.000000\n",
              "ClaimNo             0.000000\n",
              "Date                0.000000\n",
              "DischargeDate       0.351612\n",
              "MCDays              0.351612\n",
              "AmountIncurred      0.000000\n",
              "AmountInsured       0.000000\n",
              "ExcessPaid          0.000000\n",
              "Status              0.000000\n",
              "TypeOfClaims        0.000000\n",
              "TotalVisit          0.000000\n",
              "IsSurgical          0.000000\n",
              "IsLTM               0.000000\n",
              "IsMultipleDiag      0.000000\n",
              "BenefitPlan         0.009573\n",
              "EmployeeID          0.000000\n",
              "PatientID           0.000000\n",
              "Relationship        0.000000\n",
              "PatientDOB          0.006750\n",
              "AgeBand             0.000000\n",
              "PatientGender       0.131440\n",
              "MedicalProviders    0.008714\n",
              "Diagnosis           6.164321\n",
              "DiagnosisGroup      6.435302\n",
              "HospCharges         0.000000\n",
              "Doctor              8.162068\n",
              "ICDCode             6.164321\n",
              "ProviderState       7.502534\n",
              "IsPanel             0.000000\n",
              "IndustryField       0.000000\n",
              "dtype: float64"
            ]
          },
          "metadata": {},
          "execution_count": 64
        }
      ]
    },
    {
      "cell_type": "code",
      "source": [
        "## Shape of the Dataset\n",
        "\n",
        "print('Number of rows: '+ format(df1.shape[0]) +', number of features: '+ format(df1.shape[1]))"
      ],
      "metadata": {
        "id": "ehFpbG9J89Wn",
        "outputId": "9c283ba7-b0a5-47cb-f1b8-3a5ddd30a5d4",
        "colab": {
          "base_uri": "https://localhost:8080/"
        }
      },
      "execution_count": 65,
      "outputs": [
        {
          "output_type": "stream",
          "name": "stdout",
          "text": [
            "Number of rows: 814818, number of features: 31\n"
          ]
        }
      ]
    },
    {
      "cell_type": "markdown",
      "source": [
        "### Handling Categorical Variables - Logistic Regression"
      ],
      "metadata": {
        "id": "d0bmwKnZuKom"
      }
    },
    {
      "cell_type": "markdown",
      "source": [
        "BenefitPlan\n"
      ],
      "metadata": {
        "id": "cpVsEjqaxspw"
      }
    },
    {
      "cell_type": "code",
      "source": [
        "# Splitting the null rows for variables BenefitPlan\n",
        "DataCleaning_NULL_test = df1[df1['BenefitPlan'].isna()]\n",
        "DataCleaning_NULL_train = df1.dropna()"
      ],
      "metadata": {
        "id": "uGaoHuoktj-0"
      },
      "execution_count": 66,
      "outputs": []
    },
    {
      "cell_type": "code",
      "source": [
        "# Check the test dataset for variable BenefitPlan \n",
        "DataCleaning_NULL_test['BenefitPlan'].head(3)"
      ],
      "metadata": {
        "id": "s85f3Xy1vd-P",
        "outputId": "21d12b59-89ee-4c43-f743-41032e9fbdf1",
        "colab": {
          "base_uri": "https://localhost:8080/"
        }
      },
      "execution_count": 68,
      "outputs": [
        {
          "output_type": "execute_result",
          "data": {
            "text/plain": [
              "75988    NaN\n",
              "76000    NaN\n",
              "76003    NaN\n",
              "Name: BenefitPlan, dtype: object"
            ]
          },
          "metadata": {},
          "execution_count": 68
        }
      ]
    },
    {
      "cell_type": "code",
      "source": [
        "# Check the shape of the data\n",
        "print(DataCleaning_NULL_train.shape)\n",
        "print(DataCleaning_NULL_test.shape)"
      ],
      "metadata": {
        "id": "e8mOk7IQxYl9",
        "outputId": "f57ed833-d06b-4c7a-9e56-139e07df6296",
        "colab": {
          "base_uri": "https://localhost:8080/"
        }
      },
      "execution_count": 69,
      "outputs": [
        {
          "output_type": "stream",
          "name": "stdout",
          "text": [
            "(744478, 31)\n",
            "(78, 31)\n"
          ]
        }
      ]
    },
    {
      "cell_type": "code",
      "source": [
        "# Data Preparing\n",
        "#X_DataCleaning_NULL_train = DataCleaning_NULL_train.drop(['BenefitPlan'], axis=1)\n",
        "#y_DataCleaning_NULL_train = DataCleaning_NULL_train['BenefitPlan']\n",
        "#X_DataCleaning_NULL_test = DataCleaning_NULL_test.drop(['BenefitPlan'], axis=1)\n",
        "\n",
        "x_train = DataCleaning_NULL_train.drop(['BenefitPlan'], axis=1)\n",
        "y_train = DataCleaning_NULL_train['BenefitPlan']\n",
        "x_test = DataCleaning_NULL_test.drop(['BenefitPlan'], axis=1)\n",
        "\n"
      ],
      "metadata": {
        "id": "vtlsATpv5BHZ"
      },
      "execution_count": 70,
      "outputs": []
    },
    {
      "cell_type": "code",
      "source": [
        "# Model\n",
        "# Getting ready a model to predict missing values(BenefitPlan column)\n",
        "from sklearn.linear_model import LogisticRegression\n",
        "from sklearn import metrics\n",
        "logistic = LogisticRegression()\n",
        "logistic.fit(x_train, y_train)\n",
        "y_pred = logistic.predict(x_test)\n"
      ],
      "metadata": {
        "id": "h0tLtEA66yS_",
        "outputId": "6ba4ed88-c016-41f4-a018-2dfa3ac64ae4",
        "colab": {
          "base_uri": "https://localhost:8080/",
          "height": 363
        }
      },
      "execution_count": 72,
      "outputs": [
        {
          "output_type": "error",
          "ename": "ValueError",
          "evalue": "ignored",
          "traceback": [
            "\u001b[0;31m---------------------------------------------------------------------------\u001b[0m",
            "\u001b[0;31mValueError\u001b[0m                                Traceback (most recent call last)",
            "\u001b[0;32m<ipython-input-72-a13bb9b3d373>\u001b[0m in \u001b[0;36m<cell line: 6>\u001b[0;34m()\u001b[0m\n\u001b[1;32m      4\u001b[0m \u001b[0;32mfrom\u001b[0m \u001b[0msklearn\u001b[0m \u001b[0;32mimport\u001b[0m \u001b[0mmetrics\u001b[0m\u001b[0;34m\u001b[0m\u001b[0;34m\u001b[0m\u001b[0m\n\u001b[1;32m      5\u001b[0m \u001b[0mlogistic\u001b[0m \u001b[0;34m=\u001b[0m \u001b[0mLogisticRegression\u001b[0m\u001b[0;34m(\u001b[0m\u001b[0;34m)\u001b[0m\u001b[0;34m\u001b[0m\u001b[0;34m\u001b[0m\u001b[0m\n\u001b[0;32m----> 6\u001b[0;31m \u001b[0mlogistic\u001b[0m\u001b[0;34m.\u001b[0m\u001b[0mfit\u001b[0m\u001b[0;34m(\u001b[0m\u001b[0mx_train\u001b[0m\u001b[0;34m,\u001b[0m \u001b[0my_train\u001b[0m\u001b[0;34m)\u001b[0m\u001b[0;34m\u001b[0m\u001b[0;34m\u001b[0m\u001b[0m\n\u001b[0m\u001b[1;32m      7\u001b[0m \u001b[0my_pred\u001b[0m \u001b[0;34m=\u001b[0m \u001b[0mlogistic\u001b[0m\u001b[0;34m.\u001b[0m\u001b[0mpredict\u001b[0m\u001b[0;34m(\u001b[0m\u001b[0mx_test\u001b[0m\u001b[0;34m)\u001b[0m\u001b[0;34m\u001b[0m\u001b[0;34m\u001b[0m\u001b[0m\n",
            "\u001b[0;32m/usr/local/lib/python3.9/dist-packages/sklearn/linear_model/_logistic.py\u001b[0m in \u001b[0;36mfit\u001b[0;34m(self, X, y, sample_weight)\u001b[0m\n\u001b[1;32m   1194\u001b[0m             \u001b[0m_dtype\u001b[0m \u001b[0;34m=\u001b[0m \u001b[0;34m[\u001b[0m\u001b[0mnp\u001b[0m\u001b[0;34m.\u001b[0m\u001b[0mfloat64\u001b[0m\u001b[0;34m,\u001b[0m \u001b[0mnp\u001b[0m\u001b[0;34m.\u001b[0m\u001b[0mfloat32\u001b[0m\u001b[0;34m]\u001b[0m\u001b[0;34m\u001b[0m\u001b[0;34m\u001b[0m\u001b[0m\n\u001b[1;32m   1195\u001b[0m \u001b[0;34m\u001b[0m\u001b[0m\n\u001b[0;32m-> 1196\u001b[0;31m         X, y = self._validate_data(\n\u001b[0m\u001b[1;32m   1197\u001b[0m             \u001b[0mX\u001b[0m\u001b[0;34m,\u001b[0m\u001b[0;34m\u001b[0m\u001b[0;34m\u001b[0m\u001b[0m\n\u001b[1;32m   1198\u001b[0m             \u001b[0my\u001b[0m\u001b[0;34m,\u001b[0m\u001b[0;34m\u001b[0m\u001b[0;34m\u001b[0m\u001b[0m\n",
            "\u001b[0;32m/usr/local/lib/python3.9/dist-packages/sklearn/base.py\u001b[0m in \u001b[0;36m_validate_data\u001b[0;34m(self, X, y, reset, validate_separately, **check_params)\u001b[0m\n\u001b[1;32m    582\u001b[0m                 \u001b[0my\u001b[0m \u001b[0;34m=\u001b[0m \u001b[0mcheck_array\u001b[0m\u001b[0;34m(\u001b[0m\u001b[0my\u001b[0m\u001b[0;34m,\u001b[0m \u001b[0minput_name\u001b[0m\u001b[0;34m=\u001b[0m\u001b[0;34m\"y\"\u001b[0m\u001b[0;34m,\u001b[0m \u001b[0;34m**\u001b[0m\u001b[0mcheck_y_params\u001b[0m\u001b[0;34m)\u001b[0m\u001b[0;34m\u001b[0m\u001b[0;34m\u001b[0m\u001b[0m\n\u001b[1;32m    583\u001b[0m             \u001b[0;32melse\u001b[0m\u001b[0;34m:\u001b[0m\u001b[0;34m\u001b[0m\u001b[0;34m\u001b[0m\u001b[0m\n\u001b[0;32m--> 584\u001b[0;31m                 \u001b[0mX\u001b[0m\u001b[0;34m,\u001b[0m \u001b[0my\u001b[0m \u001b[0;34m=\u001b[0m \u001b[0mcheck_X_y\u001b[0m\u001b[0;34m(\u001b[0m\u001b[0mX\u001b[0m\u001b[0;34m,\u001b[0m \u001b[0my\u001b[0m\u001b[0;34m,\u001b[0m \u001b[0;34m**\u001b[0m\u001b[0mcheck_params\u001b[0m\u001b[0;34m)\u001b[0m\u001b[0;34m\u001b[0m\u001b[0;34m\u001b[0m\u001b[0m\n\u001b[0m\u001b[1;32m    585\u001b[0m             \u001b[0mout\u001b[0m \u001b[0;34m=\u001b[0m \u001b[0mX\u001b[0m\u001b[0;34m,\u001b[0m \u001b[0my\u001b[0m\u001b[0;34m\u001b[0m\u001b[0;34m\u001b[0m\u001b[0m\n\u001b[1;32m    586\u001b[0m \u001b[0;34m\u001b[0m\u001b[0m\n",
            "\u001b[0;32m/usr/local/lib/python3.9/dist-packages/sklearn/utils/validation.py\u001b[0m in \u001b[0;36mcheck_X_y\u001b[0;34m(X, y, accept_sparse, accept_large_sparse, dtype, order, copy, force_all_finite, ensure_2d, allow_nd, multi_output, ensure_min_samples, ensure_min_features, y_numeric, estimator)\u001b[0m\n\u001b[1;32m   1104\u001b[0m         )\n\u001b[1;32m   1105\u001b[0m \u001b[0;34m\u001b[0m\u001b[0m\n\u001b[0;32m-> 1106\u001b[0;31m     X = check_array(\n\u001b[0m\u001b[1;32m   1107\u001b[0m         \u001b[0mX\u001b[0m\u001b[0;34m,\u001b[0m\u001b[0;34m\u001b[0m\u001b[0;34m\u001b[0m\u001b[0m\n\u001b[1;32m   1108\u001b[0m         \u001b[0maccept_sparse\u001b[0m\u001b[0;34m=\u001b[0m\u001b[0maccept_sparse\u001b[0m\u001b[0;34m,\u001b[0m\u001b[0;34m\u001b[0m\u001b[0;34m\u001b[0m\u001b[0m\n",
            "\u001b[0;32m/usr/local/lib/python3.9/dist-packages/sklearn/utils/validation.py\u001b[0m in \u001b[0;36mcheck_array\u001b[0;34m(array, accept_sparse, accept_large_sparse, dtype, order, copy, force_all_finite, ensure_2d, allow_nd, ensure_min_samples, ensure_min_features, estimator, input_name)\u001b[0m\n\u001b[1;32m    877\u001b[0m                     \u001b[0marray\u001b[0m \u001b[0;34m=\u001b[0m \u001b[0mxp\u001b[0m\u001b[0;34m.\u001b[0m\u001b[0mastype\u001b[0m\u001b[0;34m(\u001b[0m\u001b[0marray\u001b[0m\u001b[0;34m,\u001b[0m \u001b[0mdtype\u001b[0m\u001b[0;34m,\u001b[0m \u001b[0mcopy\u001b[0m\u001b[0;34m=\u001b[0m\u001b[0;32mFalse\u001b[0m\u001b[0;34m)\u001b[0m\u001b[0;34m\u001b[0m\u001b[0;34m\u001b[0m\u001b[0m\n\u001b[1;32m    878\u001b[0m                 \u001b[0;32melse\u001b[0m\u001b[0;34m:\u001b[0m\u001b[0;34m\u001b[0m\u001b[0;34m\u001b[0m\u001b[0m\n\u001b[0;32m--> 879\u001b[0;31m                     \u001b[0marray\u001b[0m \u001b[0;34m=\u001b[0m \u001b[0m_asarray_with_order\u001b[0m\u001b[0;34m(\u001b[0m\u001b[0marray\u001b[0m\u001b[0;34m,\u001b[0m \u001b[0morder\u001b[0m\u001b[0;34m=\u001b[0m\u001b[0morder\u001b[0m\u001b[0;34m,\u001b[0m \u001b[0mdtype\u001b[0m\u001b[0;34m=\u001b[0m\u001b[0mdtype\u001b[0m\u001b[0;34m,\u001b[0m \u001b[0mxp\u001b[0m\u001b[0;34m=\u001b[0m\u001b[0mxp\u001b[0m\u001b[0;34m)\u001b[0m\u001b[0;34m\u001b[0m\u001b[0;34m\u001b[0m\u001b[0m\n\u001b[0m\u001b[1;32m    880\u001b[0m             \u001b[0;32mexcept\u001b[0m \u001b[0mComplexWarning\u001b[0m \u001b[0;32mas\u001b[0m \u001b[0mcomplex_warning\u001b[0m\u001b[0;34m:\u001b[0m\u001b[0;34m\u001b[0m\u001b[0;34m\u001b[0m\u001b[0m\n\u001b[1;32m    881\u001b[0m                 raise ValueError(\n",
            "\u001b[0;32m/usr/local/lib/python3.9/dist-packages/sklearn/utils/_array_api.py\u001b[0m in \u001b[0;36m_asarray_with_order\u001b[0;34m(array, dtype, order, copy, xp)\u001b[0m\n\u001b[1;32m    183\u001b[0m     \u001b[0;32mif\u001b[0m \u001b[0mxp\u001b[0m\u001b[0;34m.\u001b[0m\u001b[0m__name__\u001b[0m \u001b[0;32min\u001b[0m \u001b[0;34m{\u001b[0m\u001b[0;34m\"numpy\"\u001b[0m\u001b[0;34m,\u001b[0m \u001b[0;34m\"numpy.array_api\"\u001b[0m\u001b[0;34m}\u001b[0m\u001b[0;34m:\u001b[0m\u001b[0;34m\u001b[0m\u001b[0;34m\u001b[0m\u001b[0m\n\u001b[1;32m    184\u001b[0m         \u001b[0;31m# Use NumPy API to support order\u001b[0m\u001b[0;34m\u001b[0m\u001b[0;34m\u001b[0m\u001b[0m\n\u001b[0;32m--> 185\u001b[0;31m         \u001b[0marray\u001b[0m \u001b[0;34m=\u001b[0m \u001b[0mnumpy\u001b[0m\u001b[0;34m.\u001b[0m\u001b[0masarray\u001b[0m\u001b[0;34m(\u001b[0m\u001b[0marray\u001b[0m\u001b[0;34m,\u001b[0m \u001b[0morder\u001b[0m\u001b[0;34m=\u001b[0m\u001b[0morder\u001b[0m\u001b[0;34m,\u001b[0m \u001b[0mdtype\u001b[0m\u001b[0;34m=\u001b[0m\u001b[0mdtype\u001b[0m\u001b[0;34m)\u001b[0m\u001b[0;34m\u001b[0m\u001b[0;34m\u001b[0m\u001b[0m\n\u001b[0m\u001b[1;32m    186\u001b[0m         \u001b[0;32mreturn\u001b[0m \u001b[0mxp\u001b[0m\u001b[0;34m.\u001b[0m\u001b[0masarray\u001b[0m\u001b[0;34m(\u001b[0m\u001b[0marray\u001b[0m\u001b[0;34m,\u001b[0m \u001b[0mcopy\u001b[0m\u001b[0;34m=\u001b[0m\u001b[0mcopy\u001b[0m\u001b[0;34m)\u001b[0m\u001b[0;34m\u001b[0m\u001b[0;34m\u001b[0m\u001b[0m\n\u001b[1;32m    187\u001b[0m     \u001b[0;32melse\u001b[0m\u001b[0;34m:\u001b[0m\u001b[0;34m\u001b[0m\u001b[0;34m\u001b[0m\u001b[0m\n",
            "\u001b[0;32m/usr/local/lib/python3.9/dist-packages/pandas/core/generic.py\u001b[0m in \u001b[0;36m__array__\u001b[0;34m(self, dtype)\u001b[0m\n\u001b[1;32m   2068\u001b[0m \u001b[0;34m\u001b[0m\u001b[0m\n\u001b[1;32m   2069\u001b[0m     \u001b[0;32mdef\u001b[0m \u001b[0m__array__\u001b[0m\u001b[0;34m(\u001b[0m\u001b[0mself\u001b[0m\u001b[0;34m,\u001b[0m \u001b[0mdtype\u001b[0m\u001b[0;34m:\u001b[0m \u001b[0mnpt\u001b[0m\u001b[0;34m.\u001b[0m\u001b[0mDTypeLike\u001b[0m \u001b[0;34m|\u001b[0m \u001b[0;32mNone\u001b[0m \u001b[0;34m=\u001b[0m \u001b[0;32mNone\u001b[0m\u001b[0;34m)\u001b[0m \u001b[0;34m->\u001b[0m \u001b[0mnp\u001b[0m\u001b[0;34m.\u001b[0m\u001b[0mndarray\u001b[0m\u001b[0;34m:\u001b[0m\u001b[0;34m\u001b[0m\u001b[0;34m\u001b[0m\u001b[0m\n\u001b[0;32m-> 2070\u001b[0;31m         \u001b[0;32mreturn\u001b[0m \u001b[0mnp\u001b[0m\u001b[0;34m.\u001b[0m\u001b[0masarray\u001b[0m\u001b[0;34m(\u001b[0m\u001b[0mself\u001b[0m\u001b[0;34m.\u001b[0m\u001b[0m_values\u001b[0m\u001b[0;34m,\u001b[0m \u001b[0mdtype\u001b[0m\u001b[0;34m=\u001b[0m\u001b[0mdtype\u001b[0m\u001b[0;34m)\u001b[0m\u001b[0;34m\u001b[0m\u001b[0;34m\u001b[0m\u001b[0m\n\u001b[0m\u001b[1;32m   2071\u001b[0m \u001b[0;34m\u001b[0m\u001b[0m\n\u001b[1;32m   2072\u001b[0m     def __array_wrap__(\n",
            "\u001b[0;31mValueError\u001b[0m: could not convert string to float: 'Inpatient'"
          ]
        }
      ]
    },
    {
      "cell_type": "code",
      "source": [
        "# Check the Results\n",
        "print(data.Genre.isna().sum(), \"missing values\")\n",
        "data.loc[data['Genre'].isnull(), 'Genre'] = y_pred\n",
        "print(\"After imputation\")\n",
        "print(data.Genre.isna().sum(), \"missing values\")"
      ],
      "metadata": {
        "id": "3gBz1C6jLA6m"
      },
      "execution_count": null,
      "outputs": []
    },
    {
      "cell_type": "code",
      "source": [
        "# Model\n",
        "# Getting ready a model to predict missing values(BenefitPlan column)\n",
        "from sklearn.linear_model import LogisticRegression\n",
        "logistic = LogisticRegression(random_state = 0)\n",
        "logistic.fit(X_DataCleaning_NULL_train, y_DataCleaning_NULL_train)"
      ],
      "metadata": {
        "id": "9Xm3pMud5Y4T",
        "outputId": "60754f7c-0c5e-4646-8af3-b033c2bd37ef",
        "colab": {
          "base_uri": "https://localhost:8080/",
          "height": 345
        }
      },
      "execution_count": 40,
      "outputs": [
        {
          "output_type": "error",
          "ename": "ValueError",
          "evalue": "ignored",
          "traceback": [
            "\u001b[0;31m---------------------------------------------------------------------------\u001b[0m",
            "\u001b[0;31mValueError\u001b[0m                                Traceback (most recent call last)",
            "\u001b[0;32m<ipython-input-40-956eb48bdd8b>\u001b[0m in \u001b[0;36m<cell line: 5>\u001b[0;34m()\u001b[0m\n\u001b[1;32m      3\u001b[0m \u001b[0;32mfrom\u001b[0m \u001b[0msklearn\u001b[0m\u001b[0;34m.\u001b[0m\u001b[0mlinear_model\u001b[0m \u001b[0;32mimport\u001b[0m \u001b[0mLogisticRegression\u001b[0m\u001b[0;34m\u001b[0m\u001b[0;34m\u001b[0m\u001b[0m\n\u001b[1;32m      4\u001b[0m \u001b[0mlogistic\u001b[0m \u001b[0;34m=\u001b[0m \u001b[0mLogisticRegression\u001b[0m\u001b[0;34m(\u001b[0m\u001b[0mrandom_state\u001b[0m \u001b[0;34m=\u001b[0m \u001b[0;36m0\u001b[0m\u001b[0;34m)\u001b[0m\u001b[0;34m\u001b[0m\u001b[0;34m\u001b[0m\u001b[0m\n\u001b[0;32m----> 5\u001b[0;31m \u001b[0mlogistic\u001b[0m\u001b[0;34m.\u001b[0m\u001b[0mfit\u001b[0m\u001b[0;34m(\u001b[0m\u001b[0mX_DataCleaning_NULL_train\u001b[0m\u001b[0;34m,\u001b[0m \u001b[0my_DataCleaning_NULL_train\u001b[0m\u001b[0;34m)\u001b[0m\u001b[0;34m\u001b[0m\u001b[0;34m\u001b[0m\u001b[0m\n\u001b[0m",
            "\u001b[0;32m/usr/local/lib/python3.9/dist-packages/sklearn/linear_model/_logistic.py\u001b[0m in \u001b[0;36mfit\u001b[0;34m(self, X, y, sample_weight)\u001b[0m\n\u001b[1;32m   1194\u001b[0m             \u001b[0m_dtype\u001b[0m \u001b[0;34m=\u001b[0m \u001b[0;34m[\u001b[0m\u001b[0mnp\u001b[0m\u001b[0;34m.\u001b[0m\u001b[0mfloat64\u001b[0m\u001b[0;34m,\u001b[0m \u001b[0mnp\u001b[0m\u001b[0;34m.\u001b[0m\u001b[0mfloat32\u001b[0m\u001b[0;34m]\u001b[0m\u001b[0;34m\u001b[0m\u001b[0;34m\u001b[0m\u001b[0m\n\u001b[1;32m   1195\u001b[0m \u001b[0;34m\u001b[0m\u001b[0m\n\u001b[0;32m-> 1196\u001b[0;31m         X, y = self._validate_data(\n\u001b[0m\u001b[1;32m   1197\u001b[0m             \u001b[0mX\u001b[0m\u001b[0;34m,\u001b[0m\u001b[0;34m\u001b[0m\u001b[0;34m\u001b[0m\u001b[0m\n\u001b[1;32m   1198\u001b[0m             \u001b[0my\u001b[0m\u001b[0;34m,\u001b[0m\u001b[0;34m\u001b[0m\u001b[0;34m\u001b[0m\u001b[0m\n",
            "\u001b[0;32m/usr/local/lib/python3.9/dist-packages/sklearn/base.py\u001b[0m in \u001b[0;36m_validate_data\u001b[0;34m(self, X, y, reset, validate_separately, **check_params)\u001b[0m\n\u001b[1;32m    582\u001b[0m                 \u001b[0my\u001b[0m \u001b[0;34m=\u001b[0m \u001b[0mcheck_array\u001b[0m\u001b[0;34m(\u001b[0m\u001b[0my\u001b[0m\u001b[0;34m,\u001b[0m \u001b[0minput_name\u001b[0m\u001b[0;34m=\u001b[0m\u001b[0;34m\"y\"\u001b[0m\u001b[0;34m,\u001b[0m \u001b[0;34m**\u001b[0m\u001b[0mcheck_y_params\u001b[0m\u001b[0;34m)\u001b[0m\u001b[0;34m\u001b[0m\u001b[0;34m\u001b[0m\u001b[0m\n\u001b[1;32m    583\u001b[0m             \u001b[0;32melse\u001b[0m\u001b[0;34m:\u001b[0m\u001b[0;34m\u001b[0m\u001b[0;34m\u001b[0m\u001b[0m\n\u001b[0;32m--> 584\u001b[0;31m                 \u001b[0mX\u001b[0m\u001b[0;34m,\u001b[0m \u001b[0my\u001b[0m \u001b[0;34m=\u001b[0m \u001b[0mcheck_X_y\u001b[0m\u001b[0;34m(\u001b[0m\u001b[0mX\u001b[0m\u001b[0;34m,\u001b[0m \u001b[0my\u001b[0m\u001b[0;34m,\u001b[0m \u001b[0;34m**\u001b[0m\u001b[0mcheck_params\u001b[0m\u001b[0;34m)\u001b[0m\u001b[0;34m\u001b[0m\u001b[0;34m\u001b[0m\u001b[0m\n\u001b[0m\u001b[1;32m    585\u001b[0m             \u001b[0mout\u001b[0m \u001b[0;34m=\u001b[0m \u001b[0mX\u001b[0m\u001b[0;34m,\u001b[0m \u001b[0my\u001b[0m\u001b[0;34m\u001b[0m\u001b[0;34m\u001b[0m\u001b[0m\n\u001b[1;32m    586\u001b[0m \u001b[0;34m\u001b[0m\u001b[0m\n",
            "\u001b[0;32m/usr/local/lib/python3.9/dist-packages/sklearn/utils/validation.py\u001b[0m in \u001b[0;36mcheck_X_y\u001b[0;34m(X, y, accept_sparse, accept_large_sparse, dtype, order, copy, force_all_finite, ensure_2d, allow_nd, multi_output, ensure_min_samples, ensure_min_features, y_numeric, estimator)\u001b[0m\n\u001b[1;32m   1104\u001b[0m         )\n\u001b[1;32m   1105\u001b[0m \u001b[0;34m\u001b[0m\u001b[0m\n\u001b[0;32m-> 1106\u001b[0;31m     X = check_array(\n\u001b[0m\u001b[1;32m   1107\u001b[0m         \u001b[0mX\u001b[0m\u001b[0;34m,\u001b[0m\u001b[0;34m\u001b[0m\u001b[0;34m\u001b[0m\u001b[0m\n\u001b[1;32m   1108\u001b[0m         \u001b[0maccept_sparse\u001b[0m\u001b[0;34m=\u001b[0m\u001b[0maccept_sparse\u001b[0m\u001b[0;34m,\u001b[0m\u001b[0;34m\u001b[0m\u001b[0;34m\u001b[0m\u001b[0m\n",
            "\u001b[0;32m/usr/local/lib/python3.9/dist-packages/sklearn/utils/validation.py\u001b[0m in \u001b[0;36mcheck_array\u001b[0;34m(array, accept_sparse, accept_large_sparse, dtype, order, copy, force_all_finite, ensure_2d, allow_nd, ensure_min_samples, ensure_min_features, estimator, input_name)\u001b[0m\n\u001b[1;32m    877\u001b[0m                     \u001b[0marray\u001b[0m \u001b[0;34m=\u001b[0m \u001b[0mxp\u001b[0m\u001b[0;34m.\u001b[0m\u001b[0mastype\u001b[0m\u001b[0;34m(\u001b[0m\u001b[0marray\u001b[0m\u001b[0;34m,\u001b[0m \u001b[0mdtype\u001b[0m\u001b[0;34m,\u001b[0m \u001b[0mcopy\u001b[0m\u001b[0;34m=\u001b[0m\u001b[0;32mFalse\u001b[0m\u001b[0;34m)\u001b[0m\u001b[0;34m\u001b[0m\u001b[0;34m\u001b[0m\u001b[0m\n\u001b[1;32m    878\u001b[0m                 \u001b[0;32melse\u001b[0m\u001b[0;34m:\u001b[0m\u001b[0;34m\u001b[0m\u001b[0;34m\u001b[0m\u001b[0m\n\u001b[0;32m--> 879\u001b[0;31m                     \u001b[0marray\u001b[0m \u001b[0;34m=\u001b[0m \u001b[0m_asarray_with_order\u001b[0m\u001b[0;34m(\u001b[0m\u001b[0marray\u001b[0m\u001b[0;34m,\u001b[0m \u001b[0morder\u001b[0m\u001b[0;34m=\u001b[0m\u001b[0morder\u001b[0m\u001b[0;34m,\u001b[0m \u001b[0mdtype\u001b[0m\u001b[0;34m=\u001b[0m\u001b[0mdtype\u001b[0m\u001b[0;34m,\u001b[0m \u001b[0mxp\u001b[0m\u001b[0;34m=\u001b[0m\u001b[0mxp\u001b[0m\u001b[0;34m)\u001b[0m\u001b[0;34m\u001b[0m\u001b[0;34m\u001b[0m\u001b[0m\n\u001b[0m\u001b[1;32m    880\u001b[0m             \u001b[0;32mexcept\u001b[0m \u001b[0mComplexWarning\u001b[0m \u001b[0;32mas\u001b[0m \u001b[0mcomplex_warning\u001b[0m\u001b[0;34m:\u001b[0m\u001b[0;34m\u001b[0m\u001b[0;34m\u001b[0m\u001b[0m\n\u001b[1;32m    881\u001b[0m                 raise ValueError(\n",
            "\u001b[0;32m/usr/local/lib/python3.9/dist-packages/sklearn/utils/_array_api.py\u001b[0m in \u001b[0;36m_asarray_with_order\u001b[0;34m(array, dtype, order, copy, xp)\u001b[0m\n\u001b[1;32m    183\u001b[0m     \u001b[0;32mif\u001b[0m \u001b[0mxp\u001b[0m\u001b[0;34m.\u001b[0m\u001b[0m__name__\u001b[0m \u001b[0;32min\u001b[0m \u001b[0;34m{\u001b[0m\u001b[0;34m\"numpy\"\u001b[0m\u001b[0;34m,\u001b[0m \u001b[0;34m\"numpy.array_api\"\u001b[0m\u001b[0;34m}\u001b[0m\u001b[0;34m:\u001b[0m\u001b[0;34m\u001b[0m\u001b[0;34m\u001b[0m\u001b[0m\n\u001b[1;32m    184\u001b[0m         \u001b[0;31m# Use NumPy API to support order\u001b[0m\u001b[0;34m\u001b[0m\u001b[0;34m\u001b[0m\u001b[0m\n\u001b[0;32m--> 185\u001b[0;31m         \u001b[0marray\u001b[0m \u001b[0;34m=\u001b[0m \u001b[0mnumpy\u001b[0m\u001b[0;34m.\u001b[0m\u001b[0masarray\u001b[0m\u001b[0;34m(\u001b[0m\u001b[0marray\u001b[0m\u001b[0;34m,\u001b[0m \u001b[0morder\u001b[0m\u001b[0;34m=\u001b[0m\u001b[0morder\u001b[0m\u001b[0;34m,\u001b[0m \u001b[0mdtype\u001b[0m\u001b[0;34m=\u001b[0m\u001b[0mdtype\u001b[0m\u001b[0;34m)\u001b[0m\u001b[0;34m\u001b[0m\u001b[0;34m\u001b[0m\u001b[0m\n\u001b[0m\u001b[1;32m    186\u001b[0m         \u001b[0;32mreturn\u001b[0m \u001b[0mxp\u001b[0m\u001b[0;34m.\u001b[0m\u001b[0masarray\u001b[0m\u001b[0;34m(\u001b[0m\u001b[0marray\u001b[0m\u001b[0;34m,\u001b[0m \u001b[0mcopy\u001b[0m\u001b[0;34m=\u001b[0m\u001b[0mcopy\u001b[0m\u001b[0;34m)\u001b[0m\u001b[0;34m\u001b[0m\u001b[0;34m\u001b[0m\u001b[0m\n\u001b[1;32m    187\u001b[0m     \u001b[0;32melse\u001b[0m\u001b[0;34m:\u001b[0m\u001b[0;34m\u001b[0m\u001b[0;34m\u001b[0m\u001b[0m\n",
            "\u001b[0;32m/usr/local/lib/python3.9/dist-packages/pandas/core/generic.py\u001b[0m in \u001b[0;36m__array__\u001b[0;34m(self, dtype)\u001b[0m\n\u001b[1;32m   2068\u001b[0m \u001b[0;34m\u001b[0m\u001b[0m\n\u001b[1;32m   2069\u001b[0m     \u001b[0;32mdef\u001b[0m \u001b[0m__array__\u001b[0m\u001b[0;34m(\u001b[0m\u001b[0mself\u001b[0m\u001b[0;34m,\u001b[0m \u001b[0mdtype\u001b[0m\u001b[0;34m:\u001b[0m \u001b[0mnpt\u001b[0m\u001b[0;34m.\u001b[0m\u001b[0mDTypeLike\u001b[0m \u001b[0;34m|\u001b[0m \u001b[0;32mNone\u001b[0m \u001b[0;34m=\u001b[0m \u001b[0;32mNone\u001b[0m\u001b[0;34m)\u001b[0m \u001b[0;34m->\u001b[0m \u001b[0mnp\u001b[0m\u001b[0;34m.\u001b[0m\u001b[0mndarray\u001b[0m\u001b[0;34m:\u001b[0m\u001b[0;34m\u001b[0m\u001b[0;34m\u001b[0m\u001b[0m\n\u001b[0;32m-> 2070\u001b[0;31m         \u001b[0;32mreturn\u001b[0m \u001b[0mnp\u001b[0m\u001b[0;34m.\u001b[0m\u001b[0masarray\u001b[0m\u001b[0;34m(\u001b[0m\u001b[0mself\u001b[0m\u001b[0;34m.\u001b[0m\u001b[0m_values\u001b[0m\u001b[0;34m,\u001b[0m \u001b[0mdtype\u001b[0m\u001b[0;34m=\u001b[0m\u001b[0mdtype\u001b[0m\u001b[0;34m)\u001b[0m\u001b[0;34m\u001b[0m\u001b[0;34m\u001b[0m\u001b[0m\n\u001b[0m\u001b[1;32m   2071\u001b[0m \u001b[0;34m\u001b[0m\u001b[0m\n\u001b[1;32m   2072\u001b[0m     def __array_wrap__(\n",
            "\u001b[0;31mValueError\u001b[0m: could not convert string to float: 'Inpatient'"
          ]
        }
      ]
    },
    {
      "cell_type": "code",
      "source": [
        "#df.loc[df['MCDays']==0.0,'MCDays']=np.nan\n",
        "#df.MCDays.isnull().sum()\n",
        "#df['MCDays'].fillna(value=np.mean(df['MCDays']),inplace=True)\n",
        "\n",
        "x = df1['MCDays'].mean()\n",
        "df1['MCDays'].fillna(x, inplace = True)\n",
        "df1.MCDays.isnull().sum()\n",
        "\n"
      ],
      "metadata": {
        "id": "jtmOa554tR9v",
        "outputId": "aa94b71d-6c06-49dd-aa80-d00ad2edcb3c",
        "colab": {
          "base_uri": "https://localhost:8080/"
        }
      },
      "execution_count": 29,
      "outputs": [
        {
          "output_type": "execute_result",
          "data": {
            "text/plain": [
              "0"
            ]
          },
          "metadata": {},
          "execution_count": 29
        }
      ]
    },
    {
      "cell_type": "code",
      "source": [
        "df.replace(np.nan,'0',inplace = True)\n",
        "\n",
        "Missing_Percentage = (df.isnull().sum()).sum()/np.product(df.shape)*100\n",
        "print(\"The number of missing entries before cleaning: \" + str(round(Missing_Percentage,5)) + \" %\")"
      ],
      "metadata": {
        "id": "wyHGyS0ZHjx1",
        "outputId": "28d95fb8-ab25-43b3-f048-8a846dde2303",
        "colab": {
          "base_uri": "https://localhost:8080/"
        }
      },
      "execution_count": null,
      "outputs": [
        {
          "output_type": "stream",
          "name": "stdout",
          "text": [
            "The number of missing entries before cleaning: 0.0 %\n"
          ]
        }
      ]
    },
    {
      "cell_type": "markdown",
      "source": [
        "## EXPLORATORY DATA ANALYSIS"
      ],
      "metadata": {
        "id": "FQklgIUTkJ1x"
      }
    },
    {
      "cell_type": "markdown",
      "source": [
        "### DATA DESCRIPTION"
      ],
      "metadata": {
        "id": "NbctM13Fa-R3"
      }
    },
    {
      "cell_type": "code",
      "source": [
        "# data manipulation\n",
        "import pandas as pd\n",
        "import numpy as np\n",
        "\n",
        "# data viz\n",
        "import matplotlib.pyplot as plt\n",
        "from matplotlib import rcParams\n",
        "import seaborn as sns\n",
        "\n",
        "# apply some cool styling\n",
        "plt.style.use(\"ggplot\")\n",
        "rcParams['figure.figsize'] = (12, 6)\n",
        "\n"
      ],
      "metadata": {
        "id": "jdqpdbcf8zJq"
      },
      "execution_count": null,
      "outputs": []
    },
    {
      "cell_type": "code",
      "source": [
        "df.info()"
      ],
      "metadata": {
        "colab": {
          "base_uri": "https://localhost:8080/"
        },
        "id": "xxX7sZiVkQrM",
        "outputId": "0ed63cf8-3363-40ff-fd41-9c670a4cf497"
      },
      "execution_count": null,
      "outputs": [
        {
          "output_type": "stream",
          "name": "stdout",
          "text": [
            "<class 'pandas.core.frame.DataFrame'>\n",
            "RangeIndex: 814818 entries, 0 to 814817\n",
            "Data columns (total 31 columns):\n",
            " #   Column            Non-Null Count   Dtype         \n",
            "---  ------            --------------   -----         \n",
            " 0   ClaimType         814818 non-null  object        \n",
            " 1   ClaimNo           814818 non-null  object        \n",
            " 2   Date              814818 non-null  datetime64[ns]\n",
            " 3   DischargeDate     814818 non-null  object        \n",
            " 4   MCDays            814818 non-null  float64       \n",
            " 5   AmountIncurred    814818 non-null  float64       \n",
            " 6   AmountInsured     814818 non-null  float64       \n",
            " 7   ExcessPaid        814818 non-null  float64       \n",
            " 8   Status            814818 non-null  object        \n",
            " 9   TypeOfClaims      814818 non-null  object        \n",
            " 10  TotalVisit        814818 non-null  int64         \n",
            " 11  IsSurgical        814818 non-null  object        \n",
            " 12  IsLTM             814818 non-null  object        \n",
            " 13  IsMultipleDiag    814818 non-null  object        \n",
            " 14  BenefitPlan       814818 non-null  object        \n",
            " 15  EmployeeID        814818 non-null  object        \n",
            " 16  PatientID         814818 non-null  object        \n",
            " 17  Relationship      814818 non-null  object        \n",
            " 18  PatientDOB        814818 non-null  object        \n",
            " 19  AgeBand           814818 non-null  object        \n",
            " 20  PatientGender     814818 non-null  object        \n",
            " 21  MedicalProviders  814818 non-null  object        \n",
            " 22  Diagnosis         814818 non-null  object        \n",
            " 23  DiagnosisGroup    814818 non-null  object        \n",
            " 24  HospCharges       814818 non-null  object        \n",
            " 25  Doctor            814818 non-null  object        \n",
            " 26  ICDCode           814818 non-null  object        \n",
            " 27  ProviderState     814818 non-null  object        \n",
            " 28  IsPanel           814818 non-null  object        \n",
            " 29  IndustryField     814818 non-null  object        \n",
            " 30  Corporate         814818 non-null  int64         \n",
            "dtypes: datetime64[ns](1), float64(4), int64(2), object(24)\n",
            "memory usage: 192.7+ MB\n"
          ]
        }
      ]
    },
    {
      "cell_type": "code",
      "source": [
        "df.describe()"
      ],
      "metadata": {
        "colab": {
          "base_uri": "https://localhost:8080/",
          "height": 300
        },
        "id": "AQ5SYIMYntTi",
        "outputId": "a107ebcf-9beb-4ca1-f9aa-0b41066ba181"
      },
      "execution_count": null,
      "outputs": [
        {
          "output_type": "execute_result",
          "data": {
            "text/plain": [
              "              MCDays  AmountIncurred  AmountInsured    ExcessPaid  \\\n",
              "count  814818.000000    8.148180e+05  814818.000000  8.148180e+05   \n",
              "mean        2.079418    3.830049e+03    3610.849656  2.191995e+02   \n",
              "std        14.754421    1.049955e+04    6919.003824  7.417467e+03   \n",
              "min     -1347.000000    0.000000e+00       0.010000 -1.000000e+04   \n",
              "25%         1.000000    1.897500e+02     184.450000  0.000000e+00   \n",
              "50%         2.000000    5.382500e+02     513.500000  0.000000e+00   \n",
              "75%         3.000000    4.810573e+03    4613.600000  5.385000e+01   \n",
              "max      1211.000000    6.335290e+06  688245.450000  6.335175e+06   \n",
              "\n",
              "          TotalVisit  \n",
              "count  814818.000000  \n",
              "mean        0.505761  \n",
              "std         0.499970  \n",
              "min         0.000000  \n",
              "25%         0.000000  \n",
              "50%         1.000000  \n",
              "75%         1.000000  \n",
              "max         2.000000  "
            ],
            "text/html": [
              "\n",
              "  <div id=\"df-1d622bb5-efab-4747-805a-5cc28866fe0e\">\n",
              "    <div class=\"colab-df-container\">\n",
              "      <div>\n",
              "<style scoped>\n",
              "    .dataframe tbody tr th:only-of-type {\n",
              "        vertical-align: middle;\n",
              "    }\n",
              "\n",
              "    .dataframe tbody tr th {\n",
              "        vertical-align: top;\n",
              "    }\n",
              "\n",
              "    .dataframe thead th {\n",
              "        text-align: right;\n",
              "    }\n",
              "</style>\n",
              "<table border=\"1\" class=\"dataframe\">\n",
              "  <thead>\n",
              "    <tr style=\"text-align: right;\">\n",
              "      <th></th>\n",
              "      <th>MCDays</th>\n",
              "      <th>AmountIncurred</th>\n",
              "      <th>AmountInsured</th>\n",
              "      <th>ExcessPaid</th>\n",
              "      <th>TotalVisit</th>\n",
              "    </tr>\n",
              "  </thead>\n",
              "  <tbody>\n",
              "    <tr>\n",
              "      <th>count</th>\n",
              "      <td>814818.000000</td>\n",
              "      <td>8.148180e+05</td>\n",
              "      <td>814818.000000</td>\n",
              "      <td>8.148180e+05</td>\n",
              "      <td>814818.000000</td>\n",
              "    </tr>\n",
              "    <tr>\n",
              "      <th>mean</th>\n",
              "      <td>2.079418</td>\n",
              "      <td>3.830049e+03</td>\n",
              "      <td>3610.849656</td>\n",
              "      <td>2.191995e+02</td>\n",
              "      <td>0.505761</td>\n",
              "    </tr>\n",
              "    <tr>\n",
              "      <th>std</th>\n",
              "      <td>14.754421</td>\n",
              "      <td>1.049955e+04</td>\n",
              "      <td>6919.003824</td>\n",
              "      <td>7.417467e+03</td>\n",
              "      <td>0.499970</td>\n",
              "    </tr>\n",
              "    <tr>\n",
              "      <th>min</th>\n",
              "      <td>-1347.000000</td>\n",
              "      <td>0.000000e+00</td>\n",
              "      <td>0.010000</td>\n",
              "      <td>-1.000000e+04</td>\n",
              "      <td>0.000000</td>\n",
              "    </tr>\n",
              "    <tr>\n",
              "      <th>25%</th>\n",
              "      <td>1.000000</td>\n",
              "      <td>1.897500e+02</td>\n",
              "      <td>184.450000</td>\n",
              "      <td>0.000000e+00</td>\n",
              "      <td>0.000000</td>\n",
              "    </tr>\n",
              "    <tr>\n",
              "      <th>50%</th>\n",
              "      <td>2.000000</td>\n",
              "      <td>5.382500e+02</td>\n",
              "      <td>513.500000</td>\n",
              "      <td>0.000000e+00</td>\n",
              "      <td>1.000000</td>\n",
              "    </tr>\n",
              "    <tr>\n",
              "      <th>75%</th>\n",
              "      <td>3.000000</td>\n",
              "      <td>4.810573e+03</td>\n",
              "      <td>4613.600000</td>\n",
              "      <td>5.385000e+01</td>\n",
              "      <td>1.000000</td>\n",
              "    </tr>\n",
              "    <tr>\n",
              "      <th>max</th>\n",
              "      <td>1211.000000</td>\n",
              "      <td>6.335290e+06</td>\n",
              "      <td>688245.450000</td>\n",
              "      <td>6.335175e+06</td>\n",
              "      <td>2.000000</td>\n",
              "    </tr>\n",
              "  </tbody>\n",
              "</table>\n",
              "</div>\n",
              "      <button class=\"colab-df-convert\" onclick=\"convertToInteractive('df-1d622bb5-efab-4747-805a-5cc28866fe0e')\"\n",
              "              title=\"Convert this dataframe to an interactive table.\"\n",
              "              style=\"display:none;\">\n",
              "        \n",
              "  <svg xmlns=\"http://www.w3.org/2000/svg\" height=\"24px\"viewBox=\"0 0 24 24\"\n",
              "       width=\"24px\">\n",
              "    <path d=\"M0 0h24v24H0V0z\" fill=\"none\"/>\n",
              "    <path d=\"M18.56 5.44l.94 2.06.94-2.06 2.06-.94-2.06-.94-.94-2.06-.94 2.06-2.06.94zm-11 1L8.5 8.5l.94-2.06 2.06-.94-2.06-.94L8.5 2.5l-.94 2.06-2.06.94zm10 10l.94 2.06.94-2.06 2.06-.94-2.06-.94-.94-2.06-.94 2.06-2.06.94z\"/><path d=\"M17.41 7.96l-1.37-1.37c-.4-.4-.92-.59-1.43-.59-.52 0-1.04.2-1.43.59L10.3 9.45l-7.72 7.72c-.78.78-.78 2.05 0 2.83L4 21.41c.39.39.9.59 1.41.59.51 0 1.02-.2 1.41-.59l7.78-7.78 2.81-2.81c.8-.78.8-2.07 0-2.86zM5.41 20L4 18.59l7.72-7.72 1.47 1.35L5.41 20z\"/>\n",
              "  </svg>\n",
              "      </button>\n",
              "      \n",
              "  <style>\n",
              "    .colab-df-container {\n",
              "      display:flex;\n",
              "      flex-wrap:wrap;\n",
              "      gap: 12px;\n",
              "    }\n",
              "\n",
              "    .colab-df-convert {\n",
              "      background-color: #E8F0FE;\n",
              "      border: none;\n",
              "      border-radius: 50%;\n",
              "      cursor: pointer;\n",
              "      display: none;\n",
              "      fill: #1967D2;\n",
              "      height: 32px;\n",
              "      padding: 0 0 0 0;\n",
              "      width: 32px;\n",
              "    }\n",
              "\n",
              "    .colab-df-convert:hover {\n",
              "      background-color: #E2EBFA;\n",
              "      box-shadow: 0px 1px 2px rgba(60, 64, 67, 0.3), 0px 1px 3px 1px rgba(60, 64, 67, 0.15);\n",
              "      fill: #174EA6;\n",
              "    }\n",
              "\n",
              "    [theme=dark] .colab-df-convert {\n",
              "      background-color: #3B4455;\n",
              "      fill: #D2E3FC;\n",
              "    }\n",
              "\n",
              "    [theme=dark] .colab-df-convert:hover {\n",
              "      background-color: #434B5C;\n",
              "      box-shadow: 0px 1px 3px 1px rgba(0, 0, 0, 0.15);\n",
              "      filter: drop-shadow(0px 1px 2px rgba(0, 0, 0, 0.3));\n",
              "      fill: #FFFFFF;\n",
              "    }\n",
              "  </style>\n",
              "\n",
              "      <script>\n",
              "        const buttonEl =\n",
              "          document.querySelector('#df-1d622bb5-efab-4747-805a-5cc28866fe0e button.colab-df-convert');\n",
              "        buttonEl.style.display =\n",
              "          google.colab.kernel.accessAllowed ? 'block' : 'none';\n",
              "\n",
              "        async function convertToInteractive(key) {\n",
              "          const element = document.querySelector('#df-1d622bb5-efab-4747-805a-5cc28866fe0e');\n",
              "          const dataTable =\n",
              "            await google.colab.kernel.invokeFunction('convertToInteractive',\n",
              "                                                     [key], {});\n",
              "          if (!dataTable) return;\n",
              "\n",
              "          const docLinkHtml = 'Like what you see? Visit the ' +\n",
              "            '<a target=\"_blank\" href=https://colab.research.google.com/notebooks/data_table.ipynb>data table notebook</a>'\n",
              "            + ' to learn more about interactive tables.';\n",
              "          element.innerHTML = '';\n",
              "          dataTable['output_type'] = 'display_data';\n",
              "          await google.colab.output.renderOutput(dataTable, element);\n",
              "          const docLink = document.createElement('div');\n",
              "          docLink.innerHTML = docLinkHtml;\n",
              "          element.appendChild(docLink);\n",
              "        }\n",
              "      </script>\n",
              "    </div>\n",
              "  </div>\n",
              "  "
            ]
          },
          "metadata": {},
          "execution_count": 40
        }
      ]
    },
    {
      "cell_type": "code",
      "source": [
        "df.describe(include='all').T"
      ],
      "metadata": {
        "colab": {
          "base_uri": "https://localhost:8080/",
          "height": 1000
        },
        "id": "u6HziEXHnzPy",
        "outputId": "534eae78-45d4-4375-a52e-05199efb6dfb"
      },
      "execution_count": null,
      "outputs": [
        {
          "output_type": "stream",
          "name": "stderr",
          "text": [
            "<ipython-input-20-0dd56a246831>:1: FutureWarning: Treating datetime data as categorical rather than numeric in `.describe` is deprecated and will be removed in a future version of pandas. Specify `datetime_is_numeric=True` to silence this warning and adopt the future behavior now.\n",
            "  df.describe(include='all').T\n"
          ]
        },
        {
          "output_type": "execute_result",
          "data": {
            "text/plain": [
              "                     count  unique  \\\n",
              "ClaimType           814818       1   \n",
              "ClaimNo             814818  814817   \n",
              "Date                814818    1430   \n",
              "DischargeDate       811953    1596   \n",
              "MCDays            814818.0     NaN   \n",
              "AmountIncurred    814818.0     NaN   \n",
              "AmountInsured     814818.0     NaN   \n",
              "ExcessPaid        814818.0     NaN   \n",
              "Status              814818       7   \n",
              "TypeOfClaims        814818       4   \n",
              "TotalVisit        814818.0     NaN   \n",
              "IsSurgical          814818       3   \n",
              "IsLTM               814818       2   \n",
              "IsMultipleDiag      814818       2   \n",
              "BenefitPlan         814740    5551   \n",
              "EmployeeID          814818  209992   \n",
              "PatientID           814818  237984   \n",
              "Relationship        814818       4   \n",
              "PatientDOB          814763   26174   \n",
              "AgeBand             814818       7   \n",
              "PatientGender       813747       4   \n",
              "MedicalProviders    814747    1398   \n",
              "Diagnosis           764590    3369   \n",
              "DiagnosisGroup      762382      95   \n",
              "HospCharges         814818       6   \n",
              "Doctor              748312   76871   \n",
              "ICDCode             764590    3060   \n",
              "ProviderState       753686      44   \n",
              "IsPanel             814818       2   \n",
              "IndustryField       814818     175   \n",
              "Corporate           814818    1430   \n",
              "\n",
              "                                                                top    freq  \\\n",
              "ClaimType                                                 Inpatient  814818   \n",
              "ClaimNo                                         G1066878CIP11220001       2   \n",
              "Date                                            2022-05-23 00:00:00    1232   \n",
              "DischargeDate                                             24/6/2022    1053   \n",
              "MCDays                                                          NaN     NaN   \n",
              "AmountIncurred                                                  NaN     NaN   \n",
              "AmountInsured                                                   NaN     NaN   \n",
              "ExcessPaid                                                      NaN     NaN   \n",
              "Status                                                    PROCESSED  661885   \n",
              "TypeOfClaims                                                GHSPost  370907   \n",
              "TotalVisit                                                      NaN     NaN   \n",
              "IsSurgical                                             Non-Surgical  452899   \n",
              "IsLTM                                                         Acute  715684   \n",
              "IsMultipleDiag                                                    N  814073   \n",
              "BenefitPlan                                                  PLAN30   25118   \n",
              "EmployeeID                                               EETQ000160     579   \n",
              "PatientID                                                EETQ000160     578   \n",
              "Relationship                                               Employee  598851   \n",
              "PatientDOB                                                 3/5/1967     643   \n",
              "AgeBand                                                    40 to 49  206719   \n",
              "PatientGender                                                     M  430758   \n",
              "MedicalProviders                                             OTHERS   60986   \n",
              "Diagnosis                                    GASTRITIS, UNSPECIFIED   25190   \n",
              "DiagnosisGroup    Diseases of the musculoskeletal system and con...  128293   \n",
              "HospCharges                                                  MEDIUM  336825   \n",
              "Doctor                                              PHYSIOTHERAPIST   34841   \n",
              "ICDCode                                                       K29.7   25210   \n",
              "ProviderState                                              SELANGOR  298545   \n",
              "IsPanel                                                       Panel  688971   \n",
              "IndustryField                                             Insurance  110289   \n",
              "Corporate                                                2022-05-23    1232   \n",
              "\n",
              "                      first       last         mean           std      min  \\\n",
              "ClaimType               NaT        NaT          NaN           NaN      NaN   \n",
              "ClaimNo                 NaT        NaT          NaN           NaN      NaN   \n",
              "Date             2019-01-01 2022-12-11          NaN           NaN      NaN   \n",
              "DischargeDate           NaT        NaT          NaN           NaN      NaN   \n",
              "MCDays                  NaT        NaT     2.079418     14.754421  -1347.0   \n",
              "AmountIncurred          NaT        NaT  3830.049155  10499.547827      0.0   \n",
              "AmountInsured           NaT        NaT  3610.849656   6919.003824     0.01   \n",
              "ExcessPaid              NaT        NaT   219.199498   7417.466935 -10000.0   \n",
              "Status                  NaT        NaT          NaN           NaN      NaN   \n",
              "TypeOfClaims            NaT        NaT          NaN           NaN      NaN   \n",
              "TotalVisit              NaT        NaT     0.505761       0.49997      0.0   \n",
              "IsSurgical              NaT        NaT          NaN           NaN      NaN   \n",
              "IsLTM                   NaT        NaT          NaN           NaN      NaN   \n",
              "IsMultipleDiag          NaT        NaT          NaN           NaN      NaN   \n",
              "BenefitPlan             NaT        NaT          NaN           NaN      NaN   \n",
              "EmployeeID              NaT        NaT          NaN           NaN      NaN   \n",
              "PatientID               NaT        NaT          NaN           NaN      NaN   \n",
              "Relationship            NaT        NaT          NaN           NaN      NaN   \n",
              "PatientDOB              NaT        NaT          NaN           NaN      NaN   \n",
              "AgeBand                 NaT        NaT          NaN           NaN      NaN   \n",
              "PatientGender           NaT        NaT          NaN           NaN      NaN   \n",
              "MedicalProviders        NaT        NaT          NaN           NaN      NaN   \n",
              "Diagnosis               NaT        NaT          NaN           NaN      NaN   \n",
              "DiagnosisGroup          NaT        NaT          NaN           NaN      NaN   \n",
              "HospCharges             NaT        NaT          NaN           NaN      NaN   \n",
              "Doctor                  NaT        NaT          NaN           NaN      NaN   \n",
              "ICDCode                 NaT        NaT          NaN           NaN      NaN   \n",
              "ProviderState           NaT        NaT          NaN           NaN      NaN   \n",
              "IsPanel                 NaT        NaT          NaN           NaN      NaN   \n",
              "IndustryField           NaT        NaT          NaN           NaN      NaN   \n",
              "Corporate               NaT        NaT          NaN           NaN      NaN   \n",
              "\n",
              "                     25%     50%        75%        max  \n",
              "ClaimType            NaN     NaN        NaN        NaN  \n",
              "ClaimNo              NaN     NaN        NaN        NaN  \n",
              "Date                 NaN     NaN        NaN        NaN  \n",
              "DischargeDate        NaN     NaN        NaN        NaN  \n",
              "MCDays               1.0     2.0        3.0     1211.0  \n",
              "AmountIncurred    189.75  538.25  4810.5725  6335290.0  \n",
              "AmountInsured     184.45   513.5     4613.6  688245.45  \n",
              "ExcessPaid           0.0     0.0      53.85  6335175.0  \n",
              "Status               NaN     NaN        NaN        NaN  \n",
              "TypeOfClaims         NaN     NaN        NaN        NaN  \n",
              "TotalVisit           0.0     1.0        1.0        2.0  \n",
              "IsSurgical           NaN     NaN        NaN        NaN  \n",
              "IsLTM                NaN     NaN        NaN        NaN  \n",
              "IsMultipleDiag       NaN     NaN        NaN        NaN  \n",
              "BenefitPlan          NaN     NaN        NaN        NaN  \n",
              "EmployeeID           NaN     NaN        NaN        NaN  \n",
              "PatientID            NaN     NaN        NaN        NaN  \n",
              "Relationship         NaN     NaN        NaN        NaN  \n",
              "PatientDOB           NaN     NaN        NaN        NaN  \n",
              "AgeBand              NaN     NaN        NaN        NaN  \n",
              "PatientGender        NaN     NaN        NaN        NaN  \n",
              "MedicalProviders     NaN     NaN        NaN        NaN  \n",
              "Diagnosis            NaN     NaN        NaN        NaN  \n",
              "DiagnosisGroup       NaN     NaN        NaN        NaN  \n",
              "HospCharges          NaN     NaN        NaN        NaN  \n",
              "Doctor               NaN     NaN        NaN        NaN  \n",
              "ICDCode              NaN     NaN        NaN        NaN  \n",
              "ProviderState        NaN     NaN        NaN        NaN  \n",
              "IsPanel              NaN     NaN        NaN        NaN  \n",
              "IndustryField        NaN     NaN        NaN        NaN  \n",
              "Corporate            NaN     NaN        NaN        NaN  "
            ],
            "text/html": [
              "\n",
              "  <div id=\"df-8bd136b7-e0dd-4c84-b698-0cecda2f9dfd\">\n",
              "    <div class=\"colab-df-container\">\n",
              "      <div>\n",
              "<style scoped>\n",
              "    .dataframe tbody tr th:only-of-type {\n",
              "        vertical-align: middle;\n",
              "    }\n",
              "\n",
              "    .dataframe tbody tr th {\n",
              "        vertical-align: top;\n",
              "    }\n",
              "\n",
              "    .dataframe thead th {\n",
              "        text-align: right;\n",
              "    }\n",
              "</style>\n",
              "<table border=\"1\" class=\"dataframe\">\n",
              "  <thead>\n",
              "    <tr style=\"text-align: right;\">\n",
              "      <th></th>\n",
              "      <th>count</th>\n",
              "      <th>unique</th>\n",
              "      <th>top</th>\n",
              "      <th>freq</th>\n",
              "      <th>first</th>\n",
              "      <th>last</th>\n",
              "      <th>mean</th>\n",
              "      <th>std</th>\n",
              "      <th>min</th>\n",
              "      <th>25%</th>\n",
              "      <th>50%</th>\n",
              "      <th>75%</th>\n",
              "      <th>max</th>\n",
              "    </tr>\n",
              "  </thead>\n",
              "  <tbody>\n",
              "    <tr>\n",
              "      <th>ClaimType</th>\n",
              "      <td>814818</td>\n",
              "      <td>1</td>\n",
              "      <td>Inpatient</td>\n",
              "      <td>814818</td>\n",
              "      <td>NaT</td>\n",
              "      <td>NaT</td>\n",
              "      <td>NaN</td>\n",
              "      <td>NaN</td>\n",
              "      <td>NaN</td>\n",
              "      <td>NaN</td>\n",
              "      <td>NaN</td>\n",
              "      <td>NaN</td>\n",
              "      <td>NaN</td>\n",
              "    </tr>\n",
              "    <tr>\n",
              "      <th>ClaimNo</th>\n",
              "      <td>814818</td>\n",
              "      <td>814817</td>\n",
              "      <td>G1066878CIP11220001</td>\n",
              "      <td>2</td>\n",
              "      <td>NaT</td>\n",
              "      <td>NaT</td>\n",
              "      <td>NaN</td>\n",
              "      <td>NaN</td>\n",
              "      <td>NaN</td>\n",
              "      <td>NaN</td>\n",
              "      <td>NaN</td>\n",
              "      <td>NaN</td>\n",
              "      <td>NaN</td>\n",
              "    </tr>\n",
              "    <tr>\n",
              "      <th>Date</th>\n",
              "      <td>814818</td>\n",
              "      <td>1430</td>\n",
              "      <td>2022-05-23 00:00:00</td>\n",
              "      <td>1232</td>\n",
              "      <td>2019-01-01</td>\n",
              "      <td>2022-12-11</td>\n",
              "      <td>NaN</td>\n",
              "      <td>NaN</td>\n",
              "      <td>NaN</td>\n",
              "      <td>NaN</td>\n",
              "      <td>NaN</td>\n",
              "      <td>NaN</td>\n",
              "      <td>NaN</td>\n",
              "    </tr>\n",
              "    <tr>\n",
              "      <th>DischargeDate</th>\n",
              "      <td>811953</td>\n",
              "      <td>1596</td>\n",
              "      <td>24/6/2022</td>\n",
              "      <td>1053</td>\n",
              "      <td>NaT</td>\n",
              "      <td>NaT</td>\n",
              "      <td>NaN</td>\n",
              "      <td>NaN</td>\n",
              "      <td>NaN</td>\n",
              "      <td>NaN</td>\n",
              "      <td>NaN</td>\n",
              "      <td>NaN</td>\n",
              "      <td>NaN</td>\n",
              "    </tr>\n",
              "    <tr>\n",
              "      <th>MCDays</th>\n",
              "      <td>814818.0</td>\n",
              "      <td>NaN</td>\n",
              "      <td>NaN</td>\n",
              "      <td>NaN</td>\n",
              "      <td>NaT</td>\n",
              "      <td>NaT</td>\n",
              "      <td>2.079418</td>\n",
              "      <td>14.754421</td>\n",
              "      <td>-1347.0</td>\n",
              "      <td>1.0</td>\n",
              "      <td>2.0</td>\n",
              "      <td>3.0</td>\n",
              "      <td>1211.0</td>\n",
              "    </tr>\n",
              "    <tr>\n",
              "      <th>AmountIncurred</th>\n",
              "      <td>814818.0</td>\n",
              "      <td>NaN</td>\n",
              "      <td>NaN</td>\n",
              "      <td>NaN</td>\n",
              "      <td>NaT</td>\n",
              "      <td>NaT</td>\n",
              "      <td>3830.049155</td>\n",
              "      <td>10499.547827</td>\n",
              "      <td>0.0</td>\n",
              "      <td>189.75</td>\n",
              "      <td>538.25</td>\n",
              "      <td>4810.5725</td>\n",
              "      <td>6335290.0</td>\n",
              "    </tr>\n",
              "    <tr>\n",
              "      <th>AmountInsured</th>\n",
              "      <td>814818.0</td>\n",
              "      <td>NaN</td>\n",
              "      <td>NaN</td>\n",
              "      <td>NaN</td>\n",
              "      <td>NaT</td>\n",
              "      <td>NaT</td>\n",
              "      <td>3610.849656</td>\n",
              "      <td>6919.003824</td>\n",
              "      <td>0.01</td>\n",
              "      <td>184.45</td>\n",
              "      <td>513.5</td>\n",
              "      <td>4613.6</td>\n",
              "      <td>688245.45</td>\n",
              "    </tr>\n",
              "    <tr>\n",
              "      <th>ExcessPaid</th>\n",
              "      <td>814818.0</td>\n",
              "      <td>NaN</td>\n",
              "      <td>NaN</td>\n",
              "      <td>NaN</td>\n",
              "      <td>NaT</td>\n",
              "      <td>NaT</td>\n",
              "      <td>219.199498</td>\n",
              "      <td>7417.466935</td>\n",
              "      <td>-10000.0</td>\n",
              "      <td>0.0</td>\n",
              "      <td>0.0</td>\n",
              "      <td>53.85</td>\n",
              "      <td>6335175.0</td>\n",
              "    </tr>\n",
              "    <tr>\n",
              "      <th>Status</th>\n",
              "      <td>814818</td>\n",
              "      <td>7</td>\n",
              "      <td>PROCESSED</td>\n",
              "      <td>661885</td>\n",
              "      <td>NaT</td>\n",
              "      <td>NaT</td>\n",
              "      <td>NaN</td>\n",
              "      <td>NaN</td>\n",
              "      <td>NaN</td>\n",
              "      <td>NaN</td>\n",
              "      <td>NaN</td>\n",
              "      <td>NaN</td>\n",
              "      <td>NaN</td>\n",
              "    </tr>\n",
              "    <tr>\n",
              "      <th>TypeOfClaims</th>\n",
              "      <td>814818</td>\n",
              "      <td>4</td>\n",
              "      <td>GHSPost</td>\n",
              "      <td>370907</td>\n",
              "      <td>NaT</td>\n",
              "      <td>NaT</td>\n",
              "      <td>NaN</td>\n",
              "      <td>NaN</td>\n",
              "      <td>NaN</td>\n",
              "      <td>NaN</td>\n",
              "      <td>NaN</td>\n",
              "      <td>NaN</td>\n",
              "      <td>NaN</td>\n",
              "    </tr>\n",
              "    <tr>\n",
              "      <th>TotalVisit</th>\n",
              "      <td>814818.0</td>\n",
              "      <td>NaN</td>\n",
              "      <td>NaN</td>\n",
              "      <td>NaN</td>\n",
              "      <td>NaT</td>\n",
              "      <td>NaT</td>\n",
              "      <td>0.505761</td>\n",
              "      <td>0.49997</td>\n",
              "      <td>0.0</td>\n",
              "      <td>0.0</td>\n",
              "      <td>1.0</td>\n",
              "      <td>1.0</td>\n",
              "      <td>2.0</td>\n",
              "    </tr>\n",
              "    <tr>\n",
              "      <th>IsSurgical</th>\n",
              "      <td>814818</td>\n",
              "      <td>3</td>\n",
              "      <td>Non-Surgical</td>\n",
              "      <td>452899</td>\n",
              "      <td>NaT</td>\n",
              "      <td>NaT</td>\n",
              "      <td>NaN</td>\n",
              "      <td>NaN</td>\n",
              "      <td>NaN</td>\n",
              "      <td>NaN</td>\n",
              "      <td>NaN</td>\n",
              "      <td>NaN</td>\n",
              "      <td>NaN</td>\n",
              "    </tr>\n",
              "    <tr>\n",
              "      <th>IsLTM</th>\n",
              "      <td>814818</td>\n",
              "      <td>2</td>\n",
              "      <td>Acute</td>\n",
              "      <td>715684</td>\n",
              "      <td>NaT</td>\n",
              "      <td>NaT</td>\n",
              "      <td>NaN</td>\n",
              "      <td>NaN</td>\n",
              "      <td>NaN</td>\n",
              "      <td>NaN</td>\n",
              "      <td>NaN</td>\n",
              "      <td>NaN</td>\n",
              "      <td>NaN</td>\n",
              "    </tr>\n",
              "    <tr>\n",
              "      <th>IsMultipleDiag</th>\n",
              "      <td>814818</td>\n",
              "      <td>2</td>\n",
              "      <td>N</td>\n",
              "      <td>814073</td>\n",
              "      <td>NaT</td>\n",
              "      <td>NaT</td>\n",
              "      <td>NaN</td>\n",
              "      <td>NaN</td>\n",
              "      <td>NaN</td>\n",
              "      <td>NaN</td>\n",
              "      <td>NaN</td>\n",
              "      <td>NaN</td>\n",
              "      <td>NaN</td>\n",
              "    </tr>\n",
              "    <tr>\n",
              "      <th>BenefitPlan</th>\n",
              "      <td>814740</td>\n",
              "      <td>5551</td>\n",
              "      <td>PLAN30</td>\n",
              "      <td>25118</td>\n",
              "      <td>NaT</td>\n",
              "      <td>NaT</td>\n",
              "      <td>NaN</td>\n",
              "      <td>NaN</td>\n",
              "      <td>NaN</td>\n",
              "      <td>NaN</td>\n",
              "      <td>NaN</td>\n",
              "      <td>NaN</td>\n",
              "      <td>NaN</td>\n",
              "    </tr>\n",
              "    <tr>\n",
              "      <th>EmployeeID</th>\n",
              "      <td>814818</td>\n",
              "      <td>209992</td>\n",
              "      <td>EETQ000160</td>\n",
              "      <td>579</td>\n",
              "      <td>NaT</td>\n",
              "      <td>NaT</td>\n",
              "      <td>NaN</td>\n",
              "      <td>NaN</td>\n",
              "      <td>NaN</td>\n",
              "      <td>NaN</td>\n",
              "      <td>NaN</td>\n",
              "      <td>NaN</td>\n",
              "      <td>NaN</td>\n",
              "    </tr>\n",
              "    <tr>\n",
              "      <th>PatientID</th>\n",
              "      <td>814818</td>\n",
              "      <td>237984</td>\n",
              "      <td>EETQ000160</td>\n",
              "      <td>578</td>\n",
              "      <td>NaT</td>\n",
              "      <td>NaT</td>\n",
              "      <td>NaN</td>\n",
              "      <td>NaN</td>\n",
              "      <td>NaN</td>\n",
              "      <td>NaN</td>\n",
              "      <td>NaN</td>\n",
              "      <td>NaN</td>\n",
              "      <td>NaN</td>\n",
              "    </tr>\n",
              "    <tr>\n",
              "      <th>Relationship</th>\n",
              "      <td>814818</td>\n",
              "      <td>4</td>\n",
              "      <td>Employee</td>\n",
              "      <td>598851</td>\n",
              "      <td>NaT</td>\n",
              "      <td>NaT</td>\n",
              "      <td>NaN</td>\n",
              "      <td>NaN</td>\n",
              "      <td>NaN</td>\n",
              "      <td>NaN</td>\n",
              "      <td>NaN</td>\n",
              "      <td>NaN</td>\n",
              "      <td>NaN</td>\n",
              "    </tr>\n",
              "    <tr>\n",
              "      <th>PatientDOB</th>\n",
              "      <td>814763</td>\n",
              "      <td>26174</td>\n",
              "      <td>3/5/1967</td>\n",
              "      <td>643</td>\n",
              "      <td>NaT</td>\n",
              "      <td>NaT</td>\n",
              "      <td>NaN</td>\n",
              "      <td>NaN</td>\n",
              "      <td>NaN</td>\n",
              "      <td>NaN</td>\n",
              "      <td>NaN</td>\n",
              "      <td>NaN</td>\n",
              "      <td>NaN</td>\n",
              "    </tr>\n",
              "    <tr>\n",
              "      <th>AgeBand</th>\n",
              "      <td>814818</td>\n",
              "      <td>7</td>\n",
              "      <td>40 to 49</td>\n",
              "      <td>206719</td>\n",
              "      <td>NaT</td>\n",
              "      <td>NaT</td>\n",
              "      <td>NaN</td>\n",
              "      <td>NaN</td>\n",
              "      <td>NaN</td>\n",
              "      <td>NaN</td>\n",
              "      <td>NaN</td>\n",
              "      <td>NaN</td>\n",
              "      <td>NaN</td>\n",
              "    </tr>\n",
              "    <tr>\n",
              "      <th>PatientGender</th>\n",
              "      <td>813747</td>\n",
              "      <td>4</td>\n",
              "      <td>M</td>\n",
              "      <td>430758</td>\n",
              "      <td>NaT</td>\n",
              "      <td>NaT</td>\n",
              "      <td>NaN</td>\n",
              "      <td>NaN</td>\n",
              "      <td>NaN</td>\n",
              "      <td>NaN</td>\n",
              "      <td>NaN</td>\n",
              "      <td>NaN</td>\n",
              "      <td>NaN</td>\n",
              "    </tr>\n",
              "    <tr>\n",
              "      <th>MedicalProviders</th>\n",
              "      <td>814747</td>\n",
              "      <td>1398</td>\n",
              "      <td>OTHERS</td>\n",
              "      <td>60986</td>\n",
              "      <td>NaT</td>\n",
              "      <td>NaT</td>\n",
              "      <td>NaN</td>\n",
              "      <td>NaN</td>\n",
              "      <td>NaN</td>\n",
              "      <td>NaN</td>\n",
              "      <td>NaN</td>\n",
              "      <td>NaN</td>\n",
              "      <td>NaN</td>\n",
              "    </tr>\n",
              "    <tr>\n",
              "      <th>Diagnosis</th>\n",
              "      <td>764590</td>\n",
              "      <td>3369</td>\n",
              "      <td>GASTRITIS, UNSPECIFIED</td>\n",
              "      <td>25190</td>\n",
              "      <td>NaT</td>\n",
              "      <td>NaT</td>\n",
              "      <td>NaN</td>\n",
              "      <td>NaN</td>\n",
              "      <td>NaN</td>\n",
              "      <td>NaN</td>\n",
              "      <td>NaN</td>\n",
              "      <td>NaN</td>\n",
              "      <td>NaN</td>\n",
              "    </tr>\n",
              "    <tr>\n",
              "      <th>DiagnosisGroup</th>\n",
              "      <td>762382</td>\n",
              "      <td>95</td>\n",
              "      <td>Diseases of the musculoskeletal system and con...</td>\n",
              "      <td>128293</td>\n",
              "      <td>NaT</td>\n",
              "      <td>NaT</td>\n",
              "      <td>NaN</td>\n",
              "      <td>NaN</td>\n",
              "      <td>NaN</td>\n",
              "      <td>NaN</td>\n",
              "      <td>NaN</td>\n",
              "      <td>NaN</td>\n",
              "      <td>NaN</td>\n",
              "    </tr>\n",
              "    <tr>\n",
              "      <th>HospCharges</th>\n",
              "      <td>814818</td>\n",
              "      <td>6</td>\n",
              "      <td>MEDIUM</td>\n",
              "      <td>336825</td>\n",
              "      <td>NaT</td>\n",
              "      <td>NaT</td>\n",
              "      <td>NaN</td>\n",
              "      <td>NaN</td>\n",
              "      <td>NaN</td>\n",
              "      <td>NaN</td>\n",
              "      <td>NaN</td>\n",
              "      <td>NaN</td>\n",
              "      <td>NaN</td>\n",
              "    </tr>\n",
              "    <tr>\n",
              "      <th>Doctor</th>\n",
              "      <td>748312</td>\n",
              "      <td>76871</td>\n",
              "      <td>PHYSIOTHERAPIST</td>\n",
              "      <td>34841</td>\n",
              "      <td>NaT</td>\n",
              "      <td>NaT</td>\n",
              "      <td>NaN</td>\n",
              "      <td>NaN</td>\n",
              "      <td>NaN</td>\n",
              "      <td>NaN</td>\n",
              "      <td>NaN</td>\n",
              "      <td>NaN</td>\n",
              "      <td>NaN</td>\n",
              "    </tr>\n",
              "    <tr>\n",
              "      <th>ICDCode</th>\n",
              "      <td>764590</td>\n",
              "      <td>3060</td>\n",
              "      <td>K29.7</td>\n",
              "      <td>25210</td>\n",
              "      <td>NaT</td>\n",
              "      <td>NaT</td>\n",
              "      <td>NaN</td>\n",
              "      <td>NaN</td>\n",
              "      <td>NaN</td>\n",
              "      <td>NaN</td>\n",
              "      <td>NaN</td>\n",
              "      <td>NaN</td>\n",
              "      <td>NaN</td>\n",
              "    </tr>\n",
              "    <tr>\n",
              "      <th>ProviderState</th>\n",
              "      <td>753686</td>\n",
              "      <td>44</td>\n",
              "      <td>SELANGOR</td>\n",
              "      <td>298545</td>\n",
              "      <td>NaT</td>\n",
              "      <td>NaT</td>\n",
              "      <td>NaN</td>\n",
              "      <td>NaN</td>\n",
              "      <td>NaN</td>\n",
              "      <td>NaN</td>\n",
              "      <td>NaN</td>\n",
              "      <td>NaN</td>\n",
              "      <td>NaN</td>\n",
              "    </tr>\n",
              "    <tr>\n",
              "      <th>IsPanel</th>\n",
              "      <td>814818</td>\n",
              "      <td>2</td>\n",
              "      <td>Panel</td>\n",
              "      <td>688971</td>\n",
              "      <td>NaT</td>\n",
              "      <td>NaT</td>\n",
              "      <td>NaN</td>\n",
              "      <td>NaN</td>\n",
              "      <td>NaN</td>\n",
              "      <td>NaN</td>\n",
              "      <td>NaN</td>\n",
              "      <td>NaN</td>\n",
              "      <td>NaN</td>\n",
              "    </tr>\n",
              "    <tr>\n",
              "      <th>IndustryField</th>\n",
              "      <td>814818</td>\n",
              "      <td>175</td>\n",
              "      <td>Insurance</td>\n",
              "      <td>110289</td>\n",
              "      <td>NaT</td>\n",
              "      <td>NaT</td>\n",
              "      <td>NaN</td>\n",
              "      <td>NaN</td>\n",
              "      <td>NaN</td>\n",
              "      <td>NaN</td>\n",
              "      <td>NaN</td>\n",
              "      <td>NaN</td>\n",
              "      <td>NaN</td>\n",
              "    </tr>\n",
              "    <tr>\n",
              "      <th>Corporate</th>\n",
              "      <td>814818</td>\n",
              "      <td>1430</td>\n",
              "      <td>2022-05-23</td>\n",
              "      <td>1232</td>\n",
              "      <td>NaT</td>\n",
              "      <td>NaT</td>\n",
              "      <td>NaN</td>\n",
              "      <td>NaN</td>\n",
              "      <td>NaN</td>\n",
              "      <td>NaN</td>\n",
              "      <td>NaN</td>\n",
              "      <td>NaN</td>\n",
              "      <td>NaN</td>\n",
              "    </tr>\n",
              "  </tbody>\n",
              "</table>\n",
              "</div>\n",
              "      <button class=\"colab-df-convert\" onclick=\"convertToInteractive('df-8bd136b7-e0dd-4c84-b698-0cecda2f9dfd')\"\n",
              "              title=\"Convert this dataframe to an interactive table.\"\n",
              "              style=\"display:none;\">\n",
              "        \n",
              "  <svg xmlns=\"http://www.w3.org/2000/svg\" height=\"24px\"viewBox=\"0 0 24 24\"\n",
              "       width=\"24px\">\n",
              "    <path d=\"M0 0h24v24H0V0z\" fill=\"none\"/>\n",
              "    <path d=\"M18.56 5.44l.94 2.06.94-2.06 2.06-.94-2.06-.94-.94-2.06-.94 2.06-2.06.94zm-11 1L8.5 8.5l.94-2.06 2.06-.94-2.06-.94L8.5 2.5l-.94 2.06-2.06.94zm10 10l.94 2.06.94-2.06 2.06-.94-2.06-.94-.94-2.06-.94 2.06-2.06.94z\"/><path d=\"M17.41 7.96l-1.37-1.37c-.4-.4-.92-.59-1.43-.59-.52 0-1.04.2-1.43.59L10.3 9.45l-7.72 7.72c-.78.78-.78 2.05 0 2.83L4 21.41c.39.39.9.59 1.41.59.51 0 1.02-.2 1.41-.59l7.78-7.78 2.81-2.81c.8-.78.8-2.07 0-2.86zM5.41 20L4 18.59l7.72-7.72 1.47 1.35L5.41 20z\"/>\n",
              "  </svg>\n",
              "      </button>\n",
              "      \n",
              "  <style>\n",
              "    .colab-df-container {\n",
              "      display:flex;\n",
              "      flex-wrap:wrap;\n",
              "      gap: 12px;\n",
              "    }\n",
              "\n",
              "    .colab-df-convert {\n",
              "      background-color: #E8F0FE;\n",
              "      border: none;\n",
              "      border-radius: 50%;\n",
              "      cursor: pointer;\n",
              "      display: none;\n",
              "      fill: #1967D2;\n",
              "      height: 32px;\n",
              "      padding: 0 0 0 0;\n",
              "      width: 32px;\n",
              "    }\n",
              "\n",
              "    .colab-df-convert:hover {\n",
              "      background-color: #E2EBFA;\n",
              "      box-shadow: 0px 1px 2px rgba(60, 64, 67, 0.3), 0px 1px 3px 1px rgba(60, 64, 67, 0.15);\n",
              "      fill: #174EA6;\n",
              "    }\n",
              "\n",
              "    [theme=dark] .colab-df-convert {\n",
              "      background-color: #3B4455;\n",
              "      fill: #D2E3FC;\n",
              "    }\n",
              "\n",
              "    [theme=dark] .colab-df-convert:hover {\n",
              "      background-color: #434B5C;\n",
              "      box-shadow: 0px 1px 3px 1px rgba(0, 0, 0, 0.15);\n",
              "      filter: drop-shadow(0px 1px 2px rgba(0, 0, 0, 0.3));\n",
              "      fill: #FFFFFF;\n",
              "    }\n",
              "  </style>\n",
              "\n",
              "      <script>\n",
              "        const buttonEl =\n",
              "          document.querySelector('#df-8bd136b7-e0dd-4c84-b698-0cecda2f9dfd button.colab-df-convert');\n",
              "        buttonEl.style.display =\n",
              "          google.colab.kernel.accessAllowed ? 'block' : 'none';\n",
              "\n",
              "        async function convertToInteractive(key) {\n",
              "          const element = document.querySelector('#df-8bd136b7-e0dd-4c84-b698-0cecda2f9dfd');\n",
              "          const dataTable =\n",
              "            await google.colab.kernel.invokeFunction('convertToInteractive',\n",
              "                                                     [key], {});\n",
              "          if (!dataTable) return;\n",
              "\n",
              "          const docLinkHtml = 'Like what you see? Visit the ' +\n",
              "            '<a target=\"_blank\" href=https://colab.research.google.com/notebooks/data_table.ipynb>data table notebook</a>'\n",
              "            + ' to learn more about interactive tables.';\n",
              "          element.innerHTML = '';\n",
              "          dataTable['output_type'] = 'display_data';\n",
              "          await google.colab.output.renderOutput(dataTable, element);\n",
              "          const docLink = document.createElement('div');\n",
              "          docLink.innerHTML = docLinkHtml;\n",
              "          element.appendChild(docLink);\n",
              "        }\n",
              "      </script>\n",
              "    </div>\n",
              "  </div>\n",
              "  "
            ]
          },
          "metadata": {},
          "execution_count": 20
        }
      ]
    },
    {
      "cell_type": "markdown",
      "source": [
        "### DATA VISUALIZATION"
      ],
      "metadata": {
        "id": "gRXx9zq3bHHN"
      }
    },
    {
      "cell_type": "code",
      "source": [
        "df[['AmountInsured']].boxplot()"
      ],
      "metadata": {
        "id": "fSPFhJNKDm6b",
        "outputId": "dab64d02-2f14-4377-9e55-49ca9f97ceab",
        "colab": {
          "base_uri": "https://localhost:8080/",
          "height": 539
        }
      },
      "execution_count": null,
      "outputs": [
        {
          "output_type": "execute_result",
          "data": {
            "text/plain": [
              "<Axes: >"
            ]
          },
          "metadata": {},
          "execution_count": 21
        },
        {
          "output_type": "display_data",
          "data": {
            "text/plain": [
              "<Figure size 1200x600 with 1 Axes>"
            ],
            "image/png": "[encoded data removed]"
          },
          "metadata": {}
        }
      ]
    },
    {
      "cell_type": "code",
      "source": [
        "df[['AmountIncurred']].boxplot()"
      ],
      "metadata": {
        "id": "bt0yTJ929Mxx",
        "outputId": "bb297b96-628b-4377-f4b8-9b1f020fda00",
        "colab": {
          "base_uri": "https://localhost:8080/",
          "height": 554
        }
      },
      "execution_count": null,
      "outputs": [
        {
          "output_type": "execute_result",
          "data": {
            "text/plain": [
              "<Axes: >"
            ]
          },
          "metadata": {},
          "execution_count": 22
        },
        {
          "output_type": "display_data",
          "data": {
            "text/plain": [
              "<Figure size 1200x600 with 1 Axes>"
            ],
            "image/png": "[encoded data removed]"
          },
          "metadata": {}
        }
      ]
    },
    {
      "cell_type": "code",
      "source": [
        "df[['MCDays']].boxplot()"
      ],
      "metadata": {
        "id": "R7hZyNOz_wvv",
        "outputId": "ee15cb87-0d01-49bc-aa57-ce36e7a7b19c",
        "colab": {
          "base_uri": "https://localhost:8080/",
          "height": 539
        }
      },
      "execution_count": null,
      "outputs": [
        {
          "output_type": "execute_result",
          "data": {
            "text/plain": [
              "<Axes: >"
            ]
          },
          "metadata": {},
          "execution_count": 23
        },
        {
          "output_type": "display_data",
          "data": {
            "text/plain": [
              "<Figure size 1200x600 with 1 Axes>"
            ],
            "image/png": "[encoded data removed]"
          },
          "metadata": {}
        }
      ]
    },
    {
      "cell_type": "code",
      "source": [
        "plt.figure(figsize=(12,8),dpi=100)\n",
        "sns.boxplot(data=df, x='AgeBand', y='AmountInsured')"
      ],
      "metadata": {
        "id": "Fhxkiz9TikFT",
        "colab": {
          "base_uri": "https://localhost:8080/",
          "height": 717
        },
        "outputId": "ec4def16-68e6-400c-98ad-549e5250eb2a"
      },
      "execution_count": null,
      "outputs": [
        {
          "output_type": "execute_result",
          "data": {
            "text/plain": [
              "<Axes: xlabel='AgeBand', ylabel='AmountInsured'>"
            ]
          },
          "metadata": {},
          "execution_count": 24
        },
        {
          "output_type": "display_data",
          "data": {
            "text/plain": [
              "<Figure size 1200x800 with 1 Axes>"
            ],
            "image/png": "[encoded data removed]"
          },
          "metadata": {}
        }
      ]
    },
    {
      "cell_type": "code",
      "source": [
        "df.groupby(['AgeBand']).mean()['AmountInsured'].sort_values(ascending=True)\n",
        "\n"
      ],
      "metadata": {
        "id": "SSQQjt_mi05n",
        "colab": {
          "base_uri": "https://localhost:8080/"
        },
        "outputId": "556db1a8-6568-4807-f77b-da6f58b398f7"
      },
      "execution_count": null,
      "outputs": [
        {
          "output_type": "execute_result",
          "data": {
            "text/plain": [
              "AgeBand\n",
              "0 to 12     2986.171961\n",
              "30 to 39    3426.257682\n",
              "20 to 29    3545.818186\n",
              "40 to 49    3547.656986\n",
              "13 to 19    3702.329536\n",
              "50 to 59    3850.456430\n",
              "60 ≤        5725.241814\n",
              "Name: AmountInsured, dtype: float64"
            ]
          },
          "metadata": {},
          "execution_count": 25
        }
      ]
    },
    {
      "cell_type": "code",
      "source": [
        "df.groupby(['IndustryField']).mean()['AmountInsured'].sort_values(ascending=True)"
      ],
      "metadata": {
        "id": "XtmFasbgr9jN",
        "outputId": "044a674d-de8f-459f-8b2a-c655c7efaa21",
        "colab": {
          "base_uri": "https://localhost:8080/"
        }
      },
      "execution_count": null,
      "outputs": [
        {
          "output_type": "execute_result",
          "data": {
            "text/plain": [
              "IndustryField\n",
              "Design And Install Signages                                916.983333\n",
              "Consultant -Hr/Human Capital                              1728.965652\n",
              "Video Game Industry                                       1968.697500\n",
              "Direct Selling Co/Biz                                     1978.098262\n",
              "Manufacturing - Disposable Surgical/Medical Equipment     2079.465729\n",
              "                                                             ...     \n",
              "Exhibition                                                7950.219412\n",
              "Printing Of Packaging Boxes                               8223.430000\n",
              "Construction And Renovation                              11527.788000\n",
              "Trading & Consultancy                                    12160.220000\n",
              "Not Available                                            12599.792000\n",
              "Name: AmountInsured, Length: 175, dtype: float64"
            ]
          },
          "metadata": {},
          "execution_count": 29
        }
      ]
    },
    {
      "cell_type": "code",
      "source": [
        "sns.barplot(data=df, x='AgeBand', y='AmountInsured')"
      ],
      "metadata": {
        "id": "dSTC54XJi2Va",
        "colab": {
          "base_uri": "https://localhost:8080/",
          "height": 563
        },
        "outputId": "d7051564-6e5d-496d-8960-3cacbe24d7da"
      },
      "execution_count": null,
      "outputs": [
        {
          "output_type": "execute_result",
          "data": {
            "text/plain": [
              "<Axes: xlabel='AgeBand', ylabel='AmountInsured'>"
            ]
          },
          "metadata": {},
          "execution_count": 30
        },
        {
          "output_type": "display_data",
          "data": {
            "text/plain": [
              "<Figure size 1200x600 with 1 Axes>"
            ],
            "image/png": "[encoded data removed]"
          },
          "metadata": {}
        }
      ]
    },
    {
      "cell_type": "code",
      "source": [
        "plt.figure(figsize=(12,8),dpi=200)\n",
        "plt.xticks(rotation=90)\n",
        "sns.countplot(data=df, x='AgeBand');"
      ],
      "metadata": {
        "id": "o1AQlD7vjEqa",
        "colab": {
          "base_uri": "https://localhost:8080/"
        },
        "outputId": "4d616fed-75de-43cd-9f88-549196b6784c"
      },
      "execution_count": null,
      "outputs": [
        {
          "output_type": "display_data",
          "data": {
            "text/plain": [
              "<Figure size 2400x1600 with 1 Axes>"
            ],
            "image/png": "[encoded data removed]"
          },
          "metadata": {}
        }
      ]
    },
    {
      "cell_type": "code",
      "source": [
        "sns.displot(data=df, x='AmountInsured', kde=True)"
      ],
      "metadata": {
        "id": "vUf8ADa5jMxN",
        "colab": {
          "base_uri": "https://localhost:8080/"
        },
        "outputId": "6103d733-455e-4726-9dfe-a584576d7ce3"
      },
      "execution_count": null,
      "outputs": [
        {
          "output_type": "execute_result",
          "data": {
            "text/plain": [
              "<seaborn.axisgrid.FacetGrid at 0x7f1f0d834190>"
            ]
          },
          "metadata": {},
          "execution_count": 38
        },
        {
          "output_type": "display_data",
          "data": {
            "text/plain": [
              "<Figure size 360x360 with 1 Axes>"
            ],
            "image/png": "[encoded data removed]"
          },
          "metadata": {}
        }
      ]
    },
    {
      "cell_type": "code",
      "source": [
        "sns.set(style='whitegrid')\n",
        "f, ax = plt.subplots(1,1, figsize=(12, 8))\n",
        "ax = sns.distplot(df['charges'], kde = True, color = 'c')\n",
        "plt.title('Distribution of Charges')"
      ],
      "metadata": {
        "id": "sNimvxAzkESP",
        "colab": {
          "base_uri": "https://localhost:8080/",
          "height": 974
        },
        "outputId": "ef6160a9-de02-4fd6-e9c7-89ee36b84e43"
      },
      "execution_count": null,
      "outputs": [
        {
          "output_type": "error",
          "ename": "KeyError",
          "evalue": "ignored",
          "traceback": [
            "\u001b[0;31m---------------------------------------------------------------------------\u001b[0m",
            "\u001b[0;31mKeyError\u001b[0m                                  Traceback (most recent call last)",
            "\u001b[0;32m/usr/local/lib/python3.8/dist-packages/pandas/core/indexes/base.py\u001b[0m in \u001b[0;36mget_loc\u001b[0;34m(self, key, method, tolerance)\u001b[0m\n\u001b[1;32m   3360\u001b[0m             \u001b[0;32mtry\u001b[0m\u001b[0;34m:\u001b[0m\u001b[0;34m\u001b[0m\u001b[0;34m\u001b[0m\u001b[0m\n\u001b[0;32m-> 3361\u001b[0;31m                 \u001b[0;32mreturn\u001b[0m \u001b[0mself\u001b[0m\u001b[0;34m.\u001b[0m\u001b[0m_engine\u001b[0m\u001b[0;34m.\u001b[0m\u001b[0mget_loc\u001b[0m\u001b[0;34m(\u001b[0m\u001b[0mcasted_key\u001b[0m\u001b[0;34m)\u001b[0m\u001b[0;34m\u001b[0m\u001b[0;34m\u001b[0m\u001b[0m\n\u001b[0m\u001b[1;32m   3362\u001b[0m             \u001b[0;32mexcept\u001b[0m \u001b[0mKeyError\u001b[0m \u001b[0;32mas\u001b[0m \u001b[0merr\u001b[0m\u001b[0;34m:\u001b[0m\u001b[0;34m\u001b[0m\u001b[0;34m\u001b[0m\u001b[0m\n",
            "\u001b[0;32m/usr/local/lib/python3.8/dist-packages/pandas/_libs/index.pyx\u001b[0m in \u001b[0;36mpandas._libs.index.IndexEngine.get_loc\u001b[0;34m()\u001b[0m\n",
            "\u001b[0;32m/usr/local/lib/python3.8/dist-packages/pandas/_libs/index.pyx\u001b[0m in \u001b[0;36mpandas._libs.index.IndexEngine.get_loc\u001b[0;34m()\u001b[0m\n",
            "\u001b[0;32mpandas/_libs/hashtable_class_helper.pxi\u001b[0m in \u001b[0;36mpandas._libs.hashtable.PyObjectHashTable.get_item\u001b[0;34m()\u001b[0m\n",
            "\u001b[0;32mpandas/_libs/hashtable_class_helper.pxi\u001b[0m in \u001b[0;36mpandas._libs.hashtable.PyObjectHashTable.get_item\u001b[0;34m()\u001b[0m\n",
            "\u001b[0;31mKeyError\u001b[0m: 'charges'",
            "\nThe above exception was the direct cause of the following exception:\n",
            "\u001b[0;31mKeyError\u001b[0m                                  Traceback (most recent call last)",
            "\u001b[0;32m<ipython-input-25-deef4314f6c1>\u001b[0m in \u001b[0;36m<module>\u001b[0;34m\u001b[0m\n\u001b[1;32m      1\u001b[0m \u001b[0msns\u001b[0m\u001b[0;34m.\u001b[0m\u001b[0mset\u001b[0m\u001b[0;34m(\u001b[0m\u001b[0mstyle\u001b[0m\u001b[0;34m=\u001b[0m\u001b[0;34m'whitegrid'\u001b[0m\u001b[0;34m)\u001b[0m\u001b[0;34m\u001b[0m\u001b[0;34m\u001b[0m\u001b[0m\n\u001b[1;32m      2\u001b[0m \u001b[0mf\u001b[0m\u001b[0;34m,\u001b[0m \u001b[0max\u001b[0m \u001b[0;34m=\u001b[0m \u001b[0mplt\u001b[0m\u001b[0;34m.\u001b[0m\u001b[0msubplots\u001b[0m\u001b[0;34m(\u001b[0m\u001b[0;36m1\u001b[0m\u001b[0;34m,\u001b[0m\u001b[0;36m1\u001b[0m\u001b[0;34m,\u001b[0m \u001b[0mfigsize\u001b[0m\u001b[0;34m=\u001b[0m\u001b[0;34m(\u001b[0m\u001b[0;36m12\u001b[0m\u001b[0;34m,\u001b[0m \u001b[0;36m8\u001b[0m\u001b[0;34m)\u001b[0m\u001b[0;34m)\u001b[0m\u001b[0;34m\u001b[0m\u001b[0;34m\u001b[0m\u001b[0m\n\u001b[0;32m----> 3\u001b[0;31m \u001b[0max\u001b[0m \u001b[0;34m=\u001b[0m \u001b[0msns\u001b[0m\u001b[0;34m.\u001b[0m\u001b[0mdistplot\u001b[0m\u001b[0;34m(\u001b[0m\u001b[0mdf\u001b[0m\u001b[0;34m[\u001b[0m\u001b[0;34m'charges'\u001b[0m\u001b[0;34m]\u001b[0m\u001b[0;34m,\u001b[0m \u001b[0mkde\u001b[0m \u001b[0;34m=\u001b[0m \u001b[0;32mTrue\u001b[0m\u001b[0;34m,\u001b[0m \u001b[0mcolor\u001b[0m \u001b[0;34m=\u001b[0m \u001b[0;34m'c'\u001b[0m\u001b[0;34m)\u001b[0m\u001b[0;34m\u001b[0m\u001b[0;34m\u001b[0m\u001b[0m\n\u001b[0m\u001b[1;32m      4\u001b[0m \u001b[0mplt\u001b[0m\u001b[0;34m.\u001b[0m\u001b[0mtitle\u001b[0m\u001b[0;34m(\u001b[0m\u001b[0;34m'Distribution of Charges'\u001b[0m\u001b[0;34m)\u001b[0m\u001b[0;34m\u001b[0m\u001b[0;34m\u001b[0m\u001b[0m\n",
            "\u001b[0;32m/usr/local/lib/python3.8/dist-packages/pandas/core/frame.py\u001b[0m in \u001b[0;36m__getitem__\u001b[0;34m(self, key)\u001b[0m\n\u001b[1;32m   3456\u001b[0m             \u001b[0;32mif\u001b[0m \u001b[0mself\u001b[0m\u001b[0;34m.\u001b[0m\u001b[0mcolumns\u001b[0m\u001b[0;34m.\u001b[0m\u001b[0mnlevels\u001b[0m \u001b[0;34m>\u001b[0m \u001b[0;36m1\u001b[0m\u001b[0;34m:\u001b[0m\u001b[0;34m\u001b[0m\u001b[0;34m\u001b[0m\u001b[0m\n\u001b[1;32m   3457\u001b[0m                 \u001b[0;32mreturn\u001b[0m \u001b[0mself\u001b[0m\u001b[0;34m.\u001b[0m\u001b[0m_getitem_multilevel\u001b[0m\u001b[0;34m(\u001b[0m\u001b[0mkey\u001b[0m\u001b[0;34m)\u001b[0m\u001b[0;34m\u001b[0m\u001b[0;34m\u001b[0m\u001b[0m\n\u001b[0;32m-> 3458\u001b[0;31m             \u001b[0mindexer\u001b[0m \u001b[0;34m=\u001b[0m \u001b[0mself\u001b[0m\u001b[0;34m.\u001b[0m\u001b[0mcolumns\u001b[0m\u001b[0;34m.\u001b[0m\u001b[0mget_loc\u001b[0m\u001b[0;34m(\u001b[0m\u001b[0mkey\u001b[0m\u001b[0;34m)\u001b[0m\u001b[0;34m\u001b[0m\u001b[0;34m\u001b[0m\u001b[0m\n\u001b[0m\u001b[1;32m   3459\u001b[0m             \u001b[0;32mif\u001b[0m \u001b[0mis_integer\u001b[0m\u001b[0;34m(\u001b[0m\u001b[0mindexer\u001b[0m\u001b[0;34m)\u001b[0m\u001b[0;34m:\u001b[0m\u001b[0;34m\u001b[0m\u001b[0;34m\u001b[0m\u001b[0m\n\u001b[1;32m   3460\u001b[0m                 \u001b[0mindexer\u001b[0m \u001b[0;34m=\u001b[0m \u001b[0;34m[\u001b[0m\u001b[0mindexer\u001b[0m\u001b[0;34m]\u001b[0m\u001b[0;34m\u001b[0m\u001b[0;34m\u001b[0m\u001b[0m\n",
            "\u001b[0;32m/usr/local/lib/python3.8/dist-packages/pandas/core/indexes/base.py\u001b[0m in \u001b[0;36mget_loc\u001b[0;34m(self, key, method, tolerance)\u001b[0m\n\u001b[1;32m   3361\u001b[0m                 \u001b[0;32mreturn\u001b[0m \u001b[0mself\u001b[0m\u001b[0;34m.\u001b[0m\u001b[0m_engine\u001b[0m\u001b[0;34m.\u001b[0m\u001b[0mget_loc\u001b[0m\u001b[0;34m(\u001b[0m\u001b[0mcasted_key\u001b[0m\u001b[0;34m)\u001b[0m\u001b[0;34m\u001b[0m\u001b[0;34m\u001b[0m\u001b[0m\n\u001b[1;32m   3362\u001b[0m             \u001b[0;32mexcept\u001b[0m \u001b[0mKeyError\u001b[0m \u001b[0;32mas\u001b[0m \u001b[0merr\u001b[0m\u001b[0;34m:\u001b[0m\u001b[0;34m\u001b[0m\u001b[0;34m\u001b[0m\u001b[0m\n\u001b[0;32m-> 3363\u001b[0;31m                 \u001b[0;32mraise\u001b[0m \u001b[0mKeyError\u001b[0m\u001b[0;34m(\u001b[0m\u001b[0mkey\u001b[0m\u001b[0;34m)\u001b[0m \u001b[0;32mfrom\u001b[0m \u001b[0merr\u001b[0m\u001b[0;34m\u001b[0m\u001b[0;34m\u001b[0m\u001b[0m\n\u001b[0m\u001b[1;32m   3364\u001b[0m \u001b[0;34m\u001b[0m\u001b[0m\n\u001b[1;32m   3365\u001b[0m         \u001b[0;32mif\u001b[0m \u001b[0mis_scalar\u001b[0m\u001b[0;34m(\u001b[0m\u001b[0mkey\u001b[0m\u001b[0;34m)\u001b[0m \u001b[0;32mand\u001b[0m \u001b[0misna\u001b[0m\u001b[0;34m(\u001b[0m\u001b[0mkey\u001b[0m\u001b[0;34m)\u001b[0m \u001b[0;32mand\u001b[0m \u001b[0;32mnot\u001b[0m \u001b[0mself\u001b[0m\u001b[0;34m.\u001b[0m\u001b[0mhasnans\u001b[0m\u001b[0;34m:\u001b[0m\u001b[0;34m\u001b[0m\u001b[0;34m\u001b[0m\u001b[0m\n",
            "\u001b[0;31mKeyError\u001b[0m: 'charges'"
          ]
        },
        {
          "output_type": "display_data",
          "data": {
            "text/plain": [
              "<Figure size 864x576 with 1 Axes>"
            ],
            "image/png": "[encoded data removed]"
          },
          "metadata": {}
        }
      ]
    },
    {
      "cell_type": "markdown",
      "source": [
        "### Correlation Checking"
      ],
      "metadata": {
        "id": "87v_5pSXZCdo"
      }
    },
    {
      "cell_type": "code",
      "source": [
        "SpearmanCorr = df(method=\"spearman\")\n",
        "matplotlib.pyplot.figure(figsize=(10,10))\n",
        "sns.heatmap(SpearmanCorr, vmax=.9, square=True, annot=True, linewidths=.3, cmap=\"YlGnBu\", fmt='.1f')"
      ],
      "metadata": {
        "id": "tg6TCddZZAFZ",
        "colab": {
          "base_uri": "https://localhost:8080/",
          "height": 235
        },
        "outputId": "0533770c-8d3b-4e03-e765-e05272345f7a"
      },
      "execution_count": null,
      "outputs": [
        {
          "output_type": "error",
          "ename": "TypeError",
          "evalue": "ignored",
          "traceback": [
            "\u001b[0;31m---------------------------------------------------------------------------\u001b[0m",
            "\u001b[0;31mTypeError\u001b[0m                                 Traceback (most recent call last)",
            "\u001b[0;32m<ipython-input-34-6e444bb3a510>\u001b[0m in \u001b[0;36m<module>\u001b[0;34m\u001b[0m\n\u001b[1;32m      2\u001b[0m \u001b[0;32mimport\u001b[0m \u001b[0mmatplotlib\u001b[0m\u001b[0;34m.\u001b[0m\u001b[0mpyplot\u001b[0m \u001b[0;32mas\u001b[0m \u001b[0mplt\u001b[0m\u001b[0;34m\u001b[0m\u001b[0;34m\u001b[0m\u001b[0m\n\u001b[1;32m      3\u001b[0m \u001b[0;34m\u001b[0m\u001b[0m\n\u001b[0;32m----> 4\u001b[0;31m \u001b[0mSpearmanCorr\u001b[0m \u001b[0;34m=\u001b[0m \u001b[0mdf\u001b[0m\u001b[0;34m(\u001b[0m\u001b[0mmethod\u001b[0m\u001b[0;34m=\u001b[0m\u001b[0;34m\"spearman\"\u001b[0m\u001b[0;34m)\u001b[0m\u001b[0;34m\u001b[0m\u001b[0;34m\u001b[0m\u001b[0m\n\u001b[0m\u001b[1;32m      5\u001b[0m \u001b[0mmatplotlib\u001b[0m\u001b[0;34m.\u001b[0m\u001b[0mpyplot\u001b[0m\u001b[0;34m.\u001b[0m\u001b[0mfigure\u001b[0m\u001b[0;34m(\u001b[0m\u001b[0mfigsize\u001b[0m\u001b[0;34m=\u001b[0m\u001b[0;34m(\u001b[0m\u001b[0;36m10\u001b[0m\u001b[0;34m,\u001b[0m\u001b[0;36m10\u001b[0m\u001b[0;34m)\u001b[0m\u001b[0;34m)\u001b[0m\u001b[0;34m\u001b[0m\u001b[0;34m\u001b[0m\u001b[0m\n\u001b[1;32m      6\u001b[0m \u001b[0msns\u001b[0m\u001b[0;34m.\u001b[0m\u001b[0mheatmap\u001b[0m\u001b[0;34m(\u001b[0m\u001b[0mSpearmanCorr\u001b[0m\u001b[0;34m,\u001b[0m \u001b[0mvmax\u001b[0m\u001b[0;34m=\u001b[0m\u001b[0;36m.9\u001b[0m\u001b[0;34m,\u001b[0m \u001b[0msquare\u001b[0m\u001b[0;34m=\u001b[0m\u001b[0;32mTrue\u001b[0m\u001b[0;34m,\u001b[0m \u001b[0mannot\u001b[0m\u001b[0;34m=\u001b[0m\u001b[0;32mTrue\u001b[0m\u001b[0;34m,\u001b[0m \u001b[0mlinewidths\u001b[0m\u001b[0;34m=\u001b[0m\u001b[0;36m.3\u001b[0m\u001b[0;34m,\u001b[0m \u001b[0mcmap\u001b[0m\u001b[0;34m=\u001b[0m\u001b[0;34m\"YlGnBu\"\u001b[0m\u001b[0;34m,\u001b[0m \u001b[0mfmt\u001b[0m\u001b[0;34m=\u001b[0m\u001b[0;34m'.1f'\u001b[0m\u001b[0;34m)\u001b[0m\u001b[0;34m\u001b[0m\u001b[0;34m\u001b[0m\u001b[0m\n",
            "\u001b[0;31mTypeError\u001b[0m: 'DataFrame' object is not callable"
          ]
        }
      ]
    },
    {
      "cell_type": "code",
      "source": [
        "# Study of relationships between variables\n",
        "###sns.pairplot(df) -- session crashed will happen"
      ],
      "metadata": {
        "id": "e98YNm0c8iEC"
      },
      "execution_count": null,
      "outputs": []
    },
    {
      "cell_type": "code",
      "source": [
        "sns.countplot(df['TypeOfClaims']).unique()"
      ],
      "metadata": {
        "id": "WvCPNtRk-Q5N",
        "outputId": "d0ba3491-67dc-4a76-a39d-7d3dce70d8ca",
        "colab": {
          "base_uri": "https://localhost:8080/"
        }
      },
      "execution_count": null,
      "outputs": [
        {
          "output_type": "stream",
          "name": "stderr",
          "text": [
            "/usr/local/lib/python3.9/dist-packages/seaborn/_decorators.py:36: FutureWarning: Pass the following variable as a keyword arg: x. From version 0.12, the only valid positional argument will be `data`, and passing other arguments without an explicit keyword will result in an error or misinterpretation.\n",
            "  warnings.warn(\n"
          ]
        },
        {
          "output_type": "error",
          "ename": "AttributeError",
          "evalue": "ignored",
          "traceback": [
            "\u001b[0;31m---------------------------------------------------------------------------\u001b[0m",
            "\u001b[0;31mAttributeError\u001b[0m                            Traceback (most recent call last)",
            "\u001b[0;32m<ipython-input-39-d27bafaf3f69>\u001b[0m in \u001b[0;36m<module>\u001b[0;34m\u001b[0m\n\u001b[0;32m----> 1\u001b[0;31m \u001b[0msns\u001b[0m\u001b[0;34m.\u001b[0m\u001b[0mcountplot\u001b[0m\u001b[0;34m(\u001b[0m\u001b[0mdf\u001b[0m\u001b[0;34m[\u001b[0m\u001b[0;34m'TypeOfClaims'\u001b[0m\u001b[0;34m]\u001b[0m\u001b[0;34m)\u001b[0m\u001b[0;34m.\u001b[0m\u001b[0munique\u001b[0m\u001b[0;34m(\u001b[0m\u001b[0;34m)\u001b[0m\u001b[0;34m\u001b[0m\u001b[0;34m\u001b[0m\u001b[0m\n\u001b[0m",
            "\u001b[0;31mAttributeError\u001b[0m: 'AxesSubplot' object has no attribute 'unique'"
          ]
        },
        {
          "output_type": "display_data",
          "data": {
            "text/plain": [
              "<Figure size 864x432 with 1 Axes>"
            ],
            "image/png": "[encoded data removed]"
          },
          "metadata": {}
        }
      ]
    },
    {
      "cell_type": "code",
      "source": [
        "df.corr()"
      ],
      "metadata": {
        "colab": {
          "base_uri": "https://localhost:8080/"
        },
        "id": "TiAzpAhJxXL4",
        "outputId": "dfccb1c3-b7b3-4f95-fb4a-8eeb9b5b4691"
      },
      "execution_count": null,
      "outputs": [
        {
          "output_type": "execute_result",
          "data": {
            "text/plain": [
              "                  MCDays  AmountIncurred  AmountInsured  ExcessPaid  \\\n",
              "MCDays          1.000000        0.036514       0.042283    0.012250   \n",
              "AmountIncurred  0.036514        1.000000       0.709562    0.753638   \n",
              "AmountInsured   0.042283        0.709562       1.000000    0.071598   \n",
              "ExcessPaid      0.012250        0.753638       0.071598    1.000000   \n",
              "TotalVisit     -0.030275        0.326800       0.467276    0.026716   \n",
              "Corporate      -0.013306        0.018063       0.025703    0.001593   \n",
              "\n",
              "                TotalVisit  Corporate  \n",
              "MCDays           -0.030275  -0.013306  \n",
              "AmountIncurred    0.326800   0.018063  \n",
              "AmountInsured     0.467276   0.025703  \n",
              "ExcessPaid        0.026716   0.001593  \n",
              "TotalVisit        1.000000   0.173271  \n",
              "Corporate         0.173271   1.000000  "
            ],
            "text/html": [
              "\n",
              "  <div id=\"df-46383fbb-6bb7-46b2-9a91-2c33f2090cf5\">\n",
              "    <div class=\"colab-df-container\">\n",
              "      <div>\n",
              "<style scoped>\n",
              "    .dataframe tbody tr th:only-of-type {\n",
              "        vertical-align: middle;\n",
              "    }\n",
              "\n",
              "    .dataframe tbody tr th {\n",
              "        vertical-align: top;\n",
              "    }\n",
              "\n",
              "    .dataframe thead th {\n",
              "        text-align: right;\n",
              "    }\n",
              "</style>\n",
              "<table border=\"1\" class=\"dataframe\">\n",
              "  <thead>\n",
              "    <tr style=\"text-align: right;\">\n",
              "      <th></th>\n",
              "      <th>MCDays</th>\n",
              "      <th>AmountIncurred</th>\n",
              "      <th>AmountInsured</th>\n",
              "      <th>ExcessPaid</th>\n",
              "      <th>TotalVisit</th>\n",
              "      <th>Corporate</th>\n",
              "    </tr>\n",
              "  </thead>\n",
              "  <tbody>\n",
              "    <tr>\n",
              "      <th>MCDays</th>\n",
              "      <td>1.000000</td>\n",
              "      <td>0.036514</td>\n",
              "      <td>0.042283</td>\n",
              "      <td>0.012250</td>\n",
              "      <td>-0.030275</td>\n",
              "      <td>-0.013306</td>\n",
              "    </tr>\n",
              "    <tr>\n",
              "      <th>AmountIncurred</th>\n",
              "      <td>0.036514</td>\n",
              "      <td>1.000000</td>\n",
              "      <td>0.709562</td>\n",
              "      <td>0.753638</td>\n",
              "      <td>0.326800</td>\n",
              "      <td>0.018063</td>\n",
              "    </tr>\n",
              "    <tr>\n",
              "      <th>AmountInsured</th>\n",
              "      <td>0.042283</td>\n",
              "      <td>0.709562</td>\n",
              "      <td>1.000000</td>\n",
              "      <td>0.071598</td>\n",
              "      <td>0.467276</td>\n",
              "      <td>0.025703</td>\n",
              "    </tr>\n",
              "    <tr>\n",
              "      <th>ExcessPaid</th>\n",
              "      <td>0.012250</td>\n",
              "      <td>0.753638</td>\n",
              "      <td>0.071598</td>\n",
              "      <td>1.000000</td>\n",
              "      <td>0.026716</td>\n",
              "      <td>0.001593</td>\n",
              "    </tr>\n",
              "    <tr>\n",
              "      <th>TotalVisit</th>\n",
              "      <td>-0.030275</td>\n",
              "      <td>0.326800</td>\n",
              "      <td>0.467276</td>\n",
              "      <td>0.026716</td>\n",
              "      <td>1.000000</td>\n",
              "      <td>0.173271</td>\n",
              "    </tr>\n",
              "    <tr>\n",
              "      <th>Corporate</th>\n",
              "      <td>-0.013306</td>\n",
              "      <td>0.018063</td>\n",
              "      <td>0.025703</td>\n",
              "      <td>0.001593</td>\n",
              "      <td>0.173271</td>\n",
              "      <td>1.000000</td>\n",
              "    </tr>\n",
              "  </tbody>\n",
              "</table>\n",
              "</div>\n",
              "      <button class=\"colab-df-convert\" onclick=\"convertToInteractive('df-46383fbb-6bb7-46b2-9a91-2c33f2090cf5')\"\n",
              "              title=\"Convert this dataframe to an interactive table.\"\n",
              "              style=\"display:none;\">\n",
              "        \n",
              "  <svg xmlns=\"http://www.w3.org/2000/svg\" height=\"24px\"viewBox=\"0 0 24 24\"\n",
              "       width=\"24px\">\n",
              "    <path d=\"M0 0h24v24H0V0z\" fill=\"none\"/>\n",
              "    <path d=\"M18.56 5.44l.94 2.06.94-2.06 2.06-.94-2.06-.94-.94-2.06-.94 2.06-2.06.94zm-11 1L8.5 8.5l.94-2.06 2.06-.94-2.06-.94L8.5 2.5l-.94 2.06-2.06.94zm10 10l.94 2.06.94-2.06 2.06-.94-2.06-.94-.94-2.06-.94 2.06-2.06.94z\"/><path d=\"M17.41 7.96l-1.37-1.37c-.4-.4-.92-.59-1.43-.59-.52 0-1.04.2-1.43.59L10.3 9.45l-7.72 7.72c-.78.78-.78 2.05 0 2.83L4 21.41c.39.39.9.59 1.41.59.51 0 1.02-.2 1.41-.59l7.78-7.78 2.81-2.81c.8-.78.8-2.07 0-2.86zM5.41 20L4 18.59l7.72-7.72 1.47 1.35L5.41 20z\"/>\n",
              "  </svg>\n",
              "      </button>\n",
              "      \n",
              "  <style>\n",
              "    .colab-df-container {\n",
              "      display:flex;\n",
              "      flex-wrap:wrap;\n",
              "      gap: 12px;\n",
              "    }\n",
              "\n",
              "    .colab-df-convert {\n",
              "      background-color: #E8F0FE;\n",
              "      border: none;\n",
              "      border-radius: 50%;\n",
              "      cursor: pointer;\n",
              "      display: none;\n",
              "      fill: #1967D2;\n",
              "      height: 32px;\n",
              "      padding: 0 0 0 0;\n",
              "      width: 32px;\n",
              "    }\n",
              "\n",
              "    .colab-df-convert:hover {\n",
              "      background-color: #E2EBFA;\n",
              "      box-shadow: 0px 1px 2px rgba(60, 64, 67, 0.3), 0px 1px 3px 1px rgba(60, 64, 67, 0.15);\n",
              "      fill: #174EA6;\n",
              "    }\n",
              "\n",
              "    [theme=dark] .colab-df-convert {\n",
              "      background-color: #3B4455;\n",
              "      fill: #D2E3FC;\n",
              "    }\n",
              "\n",
              "    [theme=dark] .colab-df-convert:hover {\n",
              "      background-color: #434B5C;\n",
              "      box-shadow: 0px 1px 3px 1px rgba(0, 0, 0, 0.15);\n",
              "      filter: drop-shadow(0px 1px 2px rgba(0, 0, 0, 0.3));\n",
              "      fill: #FFFFFF;\n",
              "    }\n",
              "  </style>\n",
              "\n",
              "      <script>\n",
              "        const buttonEl =\n",
              "          document.querySelector('#df-46383fbb-6bb7-46b2-9a91-2c33f2090cf5 button.colab-df-convert');\n",
              "        buttonEl.style.display =\n",
              "          google.colab.kernel.accessAllowed ? 'block' : 'none';\n",
              "\n",
              "        async function convertToInteractive(key) {\n",
              "          const element = document.querySelector('#df-46383fbb-6bb7-46b2-9a91-2c33f2090cf5');\n",
              "          const dataTable =\n",
              "            await google.colab.kernel.invokeFunction('convertToInteractive',\n",
              "                                                     [key], {});\n",
              "          if (!dataTable) return;\n",
              "\n",
              "          const docLinkHtml = 'Like what you see? Visit the ' +\n",
              "            '<a target=\"_blank\" href=https://colab.research.google.com/notebooks/data_table.ipynb>data table notebook</a>'\n",
              "            + ' to learn more about interactive tables.';\n",
              "          element.innerHTML = '';\n",
              "          dataTable['output_type'] = 'display_data';\n",
              "          await google.colab.output.renderOutput(dataTable, element);\n",
              "          const docLink = document.createElement('div');\n",
              "          docLink.innerHTML = docLinkHtml;\n",
              "          element.appendChild(docLink);\n",
              "        }\n",
              "      </script>\n",
              "    </div>\n",
              "  </div>\n",
              "  "
            ]
          },
          "metadata": {},
          "execution_count": 40
        }
      ]
    },
    {
      "cell_type": "code",
      "source": [
        "sns.heatmap(df.corr())"
      ],
      "metadata": {
        "colab": {
          "base_uri": "https://localhost:8080/"
        },
        "id": "evhxilN0xf8b",
        "outputId": "e75617bf-0991-4681-c77b-cd88b4ad5bfc"
      },
      "execution_count": null,
      "outputs": [
        {
          "output_type": "execute_result",
          "data": {
            "text/plain": [
              "<AxesSubplot:>"
            ]
          },
          "metadata": {},
          "execution_count": 41
        },
        {
          "output_type": "display_data",
          "data": {
            "text/plain": [
              "<Figure size 864x432 with 2 Axes>"
            ],
            "image/png": "[encoded data removed]"
          },
          "metadata": {}
        }
      ]
    }
  ]
}