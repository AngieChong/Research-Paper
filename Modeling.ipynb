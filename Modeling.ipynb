{
  "nbformat": 4,
  "nbformat_minor": 0,
  "metadata": {
    "colab": {
      "provenance": [],
      "authorship_tag": "ABX9TyNlpcVkTARkm7BbLZYEWgSu",
      "include_colab_link": true
    },
    "kernelspec": {
      "name": "python3",
      "display_name": "Python 3"
    },
    "language_info": {
      "name": "python"
    }
  },
  "cells": [
    {
      "cell_type": "markdown",
      "metadata": {
        "id": "view-in-github",
        "colab_type": "text"
      },
      "source": [
        "<a href=\"https://colab.research.google.com/github/AngieChong/Research-Paper/blob/main/Modeling.ipynb\" target=\"_parent\"><img src=\"https://colab.research.google.com/assets/colab-badge.svg\" alt=\"Open In Colab\"/></a>"
      ]
    },
    {
      "cell_type": "markdown",
      "source": [
        "# Back Propagation Neural Network \n",
        "https://machinelearninggeek.com/backpropagation-neural-network-using-python/\n",
        "https://www.askpython.com/python/examples/backpropagation-in-python\n"
      ],
      "metadata": {
        "id": "ZRN4c_WtVyCn"
      }
    },
    {
      "cell_type": "code",
      "execution_count": null,
      "metadata": {
        "id": "K3ACLLXzVuhC"
      },
      "outputs": [],
      "source": [
        "# Import Libraries\n",
        "import numpy as np\n",
        "import pandas as pd\n",
        "from sklearn.datasets import load_iris\n",
        "from sklearn.model_selection import train_test_split\n",
        "import matplotlib.pyplot as plt"
      ]
    },
    {
      "cell_type": "code",
      "source": [
        "# Load dataset\n",
        "data = load_iris()\n",
        "\n",
        "# Get features and target\n",
        "X=data.data\n",
        "y=data.target\n",
        "\n",
        "#Split data into train and test data\n",
        "X_train, X_test, y_train, y_test = train_test_split(X, y, test_size=20, random_state=4)"
      ],
      "metadata": {
        "id": "gBRyBhFvWEEg"
      },
      "execution_count": null,
      "outputs": []
    },
    {
      "cell_type": "code",
      "source": [
        "# Initialize variables\n",
        "learning_rate = 0.1\n",
        "iterations = 5000\n",
        "N = y_train.size\n",
        "\n",
        "# number of input features\n",
        "input_size = 4\n",
        "\n",
        "# number of hidden layers neurons\n",
        "hidden_size = 2 \n",
        "\n",
        "# number of neurons at the output layer\n",
        "output_size = 3  \n",
        "\n",
        "results = pd.DataFrame(columns=[\"mse\", \"accuracy\"])"
      ],
      "metadata": {
        "id": "YfaRiBA7WIId"
      },
      "execution_count": null,
      "outputs": []
    },
    {
      "cell_type": "code",
      "source": [
        "# Initialize weights\n",
        "np.random.seed(10)\n",
        "\n",
        "# initializing weight for the hidden layer\n",
        "W1 = np.random.normal(scale=0.5, size=(input_size, hidden_size))   \n",
        "\n",
        "# initializing weight for the output layer\n",
        "W2 = np.random.normal(scale=0.5, size=(hidden_size , output_size)) "
      ],
      "metadata": {
        "id": "YxLt8xAFWRBb"
      },
      "execution_count": null,
      "outputs": []
    },
    {
      "cell_type": "code",
      "source": [
        "def sigmoid(x):\n",
        "    return 1 / (1 + np.exp(-x))\n",
        "\n",
        "def mean_squared_error(y_pred, y_true):\n",
        "    return ((y_pred - y_true)**2).sum() / (2*y_pred.size)\n",
        "    \n",
        "def accuracy(y_pred, y_true):\n",
        "    acc = y_pred.argmax(axis=1) == y_true.argmax(axis=1)\n",
        "    return acc.mean()"
      ],
      "metadata": {
        "id": "gYUKzjCCWSa_"
      },
      "execution_count": null,
      "outputs": []
    },
    {
      "cell_type": "code",
      "source": [
        "# Backpropagation Neural Network Modeling\n",
        "\n",
        "for itr in range(iterations):    \n",
        "    \n",
        "    # feedforward propagation\n",
        "    # on hidden layer\n",
        "    Z1 = np.dot(x_train, W1)\n",
        "    A1 = sigmoid(Z1)\n",
        "\n",
        "    # on output layer\n",
        "    Z2 = np.dot(A1, W2)\n",
        "    A2 = sigmoid(Z2)\n",
        "    \n",
        "    # Calculating error\n",
        "    mse = mean_squared_error(A2, y_train)\n",
        "    acc = accuracy(A2, y_train)\n",
        "    results=results.append({\"mse\":mse, \"accuracy\":acc},ignore_index=True )\n",
        "    \n",
        "    # backpropagation\n",
        "    E1 = A2 - y_train\n",
        "    dW1 = E1 * A2 * (1 - A2)\n",
        "\n",
        "    E2 = np.dot(dW1, W2.T)\n",
        "    dW2 = E2 * A1 * (1 - A1)\n",
        "\n",
        "        # weight updates\n",
        "    W2_update = np.dot(A1.T, dW1) / N\n",
        "    W1_update = np.dot(x_train.T, dW2) / N\n",
        "\n",
        "    W2 = W2 - learning_rate * W2_update\n",
        "    W1 = W1 - learning_rate * W1_update\n",
        "\n",
        "    results.mse.plot(title=\"Mean Squared Error\")\n",
        "    results.accuracy.plot(title=\"Accuracy\")"
      ],
      "metadata": {
        "id": "dNyT4wOfWVT1"
      },
      "execution_count": null,
      "outputs": []
    },
    {
      "cell_type": "code",
      "source": [
        "# Prediction - Test Data\n",
        "# feedforward\n",
        "Z1 = np.dot(x_test, W1)\n",
        "A1 = sigmoid(Z1)\n",
        "\n",
        "Z2 = np.dot(A1, W2)\n",
        "A2 = sigmoid(Z2)\n",
        "\n",
        "acc = accuracy(A2, y_test)\n",
        "print(\"Accuracy: {}\".format(acc))"
      ],
      "metadata": {
        "id": "6rh6tN_gWldb"
      },
      "execution_count": null,
      "outputs": []
    },
    {
      "cell_type": "markdown",
      "source": [
        "# ARIMA Model\n",
        "https://www.analyticsvidhya.com/blog/2020/10/how-to-create-an-arima-model-for-time-series-forecasting-in-python/\n",
        "\n",
        "1. Visualize the Time Series Data\n",
        "2. Identify if the date is stationary\n",
        "3. Plot the Correlation and Auto Correlation Charts\n",
        "4. Construct the ARIMA Model or Seasonal ARIMA based on the data\n"
      ],
      "metadata": {
        "id": "wSBHueHTboMz"
      }
    },
    {
      "cell_type": "code",
      "source": [
        "import numpy as np\n",
        "import pandas as pd\n",
        "import matplotlib.pyplot as plt\n",
        "%matplotlib inline\n",
        "\n",
        "df=pd.read_csv('time_series_data.csv')\n",
        "df.head()\n",
        "\n",
        "# Updating the header\n",
        "df.columns=[\"Month\",\"Sales\"]\n",
        "df.head()\n",
        "df.describe()\n",
        "df.set_index('Month',inplace=True)\n",
        "\n",
        "from pylab import rcParams\n",
        "rcParams['figure.figsize'] = 15, 7\n",
        "df.plot()"
      ],
      "metadata": {
        "id": "tzw0GfJeoWX0"
      },
      "execution_count": null,
      "outputs": []
    },
    {
      "cell_type": "code",
      "source": [
        "# 2. Identify if the date is stationary\n",
        "from statsmodels.tsa.stattools import adfuller\n",
        "\n",
        "test_result=adfuller(df['Sales'])\n",
        "\n",
        "#Ho: It is non-stationary\n",
        "#H1: It is stationary\n",
        "\n",
        "def adfuller_test(sales):\n",
        "    result=adfuller(sales)\n",
        "    labels = ['ADF Test Statistic','p-value','#Lags Used','Number of Observations']\n",
        "    for value,label in zip(result,labels):\n",
        "        print(label+' : '+str(value) )\n",
        "\n",
        "if result[1] <= 0.05:\n",
        "    print(\"strong evidence against the null hypothesis(Ho), reject the null hypothesis. Data is stationary\")\n",
        "else:\n",
        "    print(\"weak evidence against null hypothesis,indicating it is non-stationary \")\n",
        "\n",
        "adfuller_test(df['Sales'])"
      ],
      "metadata": {
        "id": "jApV8_yquMwx"
      },
      "execution_count": null,
      "outputs": []
    },
    {
      "cell_type": "markdown",
      "source": [
        "first difference and seasonal difference"
      ],
      "metadata": {
        "id": "1tPivyEHugbS"
      }
    },
    {
      "cell_type": "code",
      "source": [
        "df['Sales First Difference'] = df['Sales'] - df['Sales'].shift(1)\n",
        "df['Seasonal First Difference']=df['Sales']-df['Sales'].shift(12)\n",
        "df.head()\n",
        "\n",
        "# Again testing if data is stationary\n",
        "adfuller_test(df['Seasonal First Difference'].dropna())\n",
        "\n",
        "df['Seasonal First Difference'].plot()\n",
        "\n"
      ],
      "metadata": {
        "id": "9uQynS6dudgA"
      },
      "execution_count": null,
      "outputs": []
    },
    {
      "cell_type": "code",
      "source": [
        "from pandas.plotting import autocorrelation_plot\n",
        "autocorrelation_plot(df['Sales'])\n",
        "plt.show()\n",
        "\n",
        "from statsmodels.graphics.tsaplots import plot_acf,plot_pacf\n",
        "import statsmodels.api as sm\n",
        "fig = plt.figure(figsize=(12,8))\n",
        "ax1 = fig.add_subplot(211)\n",
        "fig = sm.graphics.tsa.plot_acf(df['Seasonal First Difference'].dropna(),lags=40,ax=ax1)\n",
        "ax2 = fig.add_subplot(212)\n",
        "fig = sm.graphics.tsa.plot_pacf(df['Seasonal First Difference'].dropna(),lags=40,ax=ax2)"
      ],
      "metadata": {
        "id": "gUtPr0juvEvv"
      },
      "execution_count": null,
      "outputs": []
    },
    {
      "cell_type": "code",
      "source": [
        "# For non-seasonal data\n",
        "#p=1, d=1, q=0 or 1\n",
        "\n",
        "from statsmodels.tsa.arima_model import ARIMA\n",
        "model=ARIMA(df['Sales'],order=(1,1,1))\n",
        "model_fit=model.fit()\n",
        "model_fit.summary()"
      ],
      "metadata": {
        "id": "ihNOmUrdvJ1m"
      },
      "execution_count": null,
      "outputs": []
    },
    {
      "cell_type": "code",
      "source": [
        "df['forecast']=model_fit.predict(start=90,end=103,dynamic=True)\n",
        "df[['Sales','forecast']].plot(figsize=(12,8))\n",
        "\n",
        "import statsmodels.api as sm\n",
        "model=sm.tsa.statespace.SARIMAX(df['Sales'],order=(1, 1, 1),seasonal_order=(1,1,1,12))\n",
        "results=model.fit()\n",
        "df['forecast']=results.predict(start=90,end=103,dynamic=True)\n",
        "df[['Sales','forecast']].plot(figsize=(12,8))\n",
        "\n",
        "from pandas.tseries.offsets import DateOffset\n",
        "future_dates=[df.index[-1]+ DateOffset(months=x)for x in range(0,24)]\n",
        "future_datest_df=pd.DataFrame(index=future_dates[1:],columns=df.columns)\n",
        "\n",
        "future_datest_df.tail()\n",
        "\n",
        "future_df=pd.concat([df,future_datest_df])\n",
        "\n",
        "future_df['forecast'] = results.predict(start = 104, end = 120, dynamic= True)\n",
        "future_df[['Sales', 'forecast']].plot(figsize=(12, 8))"
      ],
      "metadata": {
        "id": "h6juQyXWvNHX"
      },
      "execution_count": null,
      "outputs": []
    },
    {
      "cell_type": "markdown",
      "source": [
        "https://hands-on.cloud/using-the-arima-model-and-python-for-time-series-forecasting/\n"
      ],
      "metadata": {
        "id": "e7g8twDhoVc8"
      }
    },
    {
      "cell_type": "code",
      "source": [
        "import pandas as pd\n",
        "import matplotlib.pyplot as plt\n",
        "\n",
        "df = pd.read_csv(\"catfish.csv\")\n",
        "df.head()\n",
        "\n",
        "# setting the size\n",
        "plt.figure(figsize=(15,8))\n",
        "# plotting the graph\n",
        "plt.plot(df.Date, df.Total)\n",
        "plt.show()"
      ],
      "metadata": {
        "id": "c_f7AaD4czcY"
      },
      "execution_count": null,
      "outputs": []
    },
    {
      "cell_type": "markdown",
      "source": [
        "Differencing Time Series To Make It Stationary"
      ],
      "metadata": {
        "id": "QMyTu2S0nyML"
      }
    },
    {
      "cell_type": "code",
      "source": [
        "# Importing the modules\n",
        "from statsmodels.graphics.tsaplots import plot_acf, plot_pacf\n",
        "# fixing the size\n",
        "plt.rcParams.update({'figure.figsize':(9,7), 'figure.dpi':120})\n",
        "\n",
        "# Original Series\n",
        "fig, axes = plt.subplots(2, 2, sharex=True)\n",
        "axes[0, 0].plot(df.Total); axes[0, 0].set_title('Original Series')\n",
        "plot_acf(df.Total, ax=axes[0, 1])\n",
        "# 1st Differencing to make stationary time series data\n",
        "axes[1, 0].plot(df.Total.diff()); axes[1, 0].set_title('1st Order Differencing')\n",
        "plot_acf(df.Total.diff().dropna(), ax=axes[1, 1])\n",
        "plt.show()\n",
        "plt.show()"
      ],
      "metadata": {
        "id": "aR7q6sFpnucY"
      },
      "execution_count": null,
      "outputs": []
    },
    {
      "cell_type": "code",
      "source": [
        "Finding The Order Of The AR Model"
      ],
      "metadata": {
        "id": "pd6YRW7dn00J"
      },
      "execution_count": null,
      "outputs": []
    },
    {
      "cell_type": "code",
      "source": [
        "#importing modules\n",
        "from statsmodels.graphics.tsaplots import plot_acf, plot_pacf\n",
        "# PACF plot of 1st differenced series\n",
        "plt.rcParams.update({'figure.figsize':(9,3), 'figure.dpi':120})\n",
        "# fixing the axis\n",
        "fig, axes = plt.subplots(1, 2, sharex=True)\n",
        "# plotting on differen axis\n",
        "axes[0].plot(df.Total.diff()); axes[0].set_title('1st Differencing')\n",
        "axes[1].set(ylim=(0,5))\n",
        "# plotting partial autocorrelation function\n",
        "plot_pacf(df.Total.diff().dropna(), ax=axes[1])\n",
        "plt.show()"
      ],
      "metadata": {
        "id": "sQ0jq97bn2ua"
      },
      "execution_count": null,
      "outputs": []
    },
    {
      "cell_type": "markdown",
      "source": [
        "Finding The Order Of The MA Model"
      ],
      "metadata": {
        "id": "eCMgP3Uin-3-"
      }
    },
    {
      "cell_type": "code",
      "source": [
        "# setting the size\n",
        "plt.rcParams.update({'figure.figsize':(9,3), 'figure.dpi':120})\n",
        "#  fixing the subplots\n",
        "fig, axes = plt.subplots(1, 2, sharex=True)\n",
        "axes[0].plot(df.Total.diff()); axes[0].set_title('1st Differencing')\n",
        "axes[1].set(ylim=(0,1.2))\n",
        "# plotting the autocorrelation function\n",
        "plot_acf(df.Total.diff().dropna(), ax=axes[1])\n",
        "plt.show()"
      ],
      "metadata": {
        "id": "uuA4GWkFn6F4"
      },
      "execution_count": null,
      "outputs": []
    },
    {
      "cell_type": "markdown",
      "source": [
        "Building ARIMA Model"
      ],
      "metadata": {
        "id": "1kJaV4rvoB5G"
      }
    },
    {
      "cell_type": "code",
      "source": [
        "# importing the ARIMA model\n",
        "from statsmodels.tsa.arima_model import ARIMA\n",
        "\n",
        "# 1,1,1 ( arima p d q )\n",
        "model = ARIMA(df.Total, order=(1,1,1))\n",
        "\n",
        "# Training arima modeling \n",
        "model_fit = model.fit()\n",
        "\n",
        "# arima model results\n",
        "model_fit.plot_predict(dynamic=False)\n",
        "plt.show()"
      ],
      "metadata": {
        "id": "gdmVQaGGoBcF"
      },
      "execution_count": null,
      "outputs": []
    }
  ]
}